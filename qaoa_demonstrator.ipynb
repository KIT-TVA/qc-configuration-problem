{
 "cells": [
  {
   "cell_type": "markdown",
   "id": "558aa4e7533e300d",
   "metadata": {
    "tags": []
   },
   "source": [
    "# Solving a mincost k-SAT problem using QAOA\n",
    "\n",
    "$$\\newcommand{\\ket}[1]{\\left|{#1}\\right\\rangle}$$\n",
    "$$\\newcommand{\\bra}[1]{\\left\\langle{#1}\\right|}$$\n",
    "\n",
    "We want to find the $N$ (almost) optimal configurations in an attributed feature model.\n",
    "\n",
    "The system can be described by the following boolean formula:\n",
    "\n",
    "$\n",
    "(x_1 \\vee x_2) \\wedge (x_2 \\vee \\neg x_3 \\vee x_4) \\wedge (x_3 \\vee \\neg x_5 \\vee \\neg x_6)\n",
    "$\n",
    "\n",
    "Furthermore, there is an implementation cost associated with each feature, as shown in the table below.\n",
    "\n",
    "| Feature | Cost $c_i$ |\n",
    "| --- | --- |\n",
    "| $x_1$ | 30 |\n",
    "| $x_2$ | 20 |\n",
    "| $x_3$ | 25 |\n",
    "| $x_4$ | 50 |\n",
    "| $x_5$ | 10 |\n",
    "| $x_6$ | 10 |"
   ]
  },
  {
   "cell_type": "markdown",
   "id": "a5056f3ecd2ca482",
   "metadata": {
    "tags": []
   },
   "source": [
    "# Quantum Approximation Optimization Algorithm\n",
    "Approximates the solution of a combinatorial optimization problem consisting of:\n",
    "- $n$ binary variables\n",
    "- $m$ clauses\n",
    "- objective function $C(z)$\n",
    "\n",
    "The domain of the problem is unconstrained, thus the algorithms goal is to find an (almost) optimal bistring $z=z_1...z_n$\n",
    "\n",
    "It refines VQA and uses the Alternating Operator Ansatz.\n",
    "The algorithm consists of a classical and quantum part.\n",
    "\n",
    "On a quantum computer a circuit is constructed which is parameterized by $\\gamma$ and $\\beta$.\n",
    "Initially the uniform superposition state $H^{\\otimes n}$ is prepared.\n",
    "\n",
    "Two operators $U(C,\\gamma)$ and $U(B,\\beta)$ are constructed.\n",
    "The phase-separating operator $U(C,\\gamma)$ encodes $C$  and applies a phase shift $e^{-i\\gamma}$ on every computational basis state for every clause that is fulfilled.\n",
    "The mixing operator $U(B, \\beta)$ changes the amplitude of solutions using rotation $R_x$.\n",
    "\n",
    "Both $U(C,\\gamma)$  and $U(B,\\beta)$ are then applied $p$ times according to the hyperparameter $p \\in \\mathbf{N}$.\n",
    "Finally, measurements gates are added.\n",
    "\n",
    "The circuit has a shallow circuit depth of at most $mp+m$.\n",
    "\n",
    "On a classical computer the cost of $C(z)$ for the current evaluation is evaluated.\n",
    "Either the process is terminated if the termination condition is met ($C(z)$ is sufficiently low), or the parameters $\\gamma$ and $\\beta$ are optimized classically.\n",
    "\n",
    "$-2\\pi\\lt\\gamma\\lt2\\pi$ and $-\\pi\\lt\\beta\\lt\\pi$"
   ]
  },
  {
   "cell_type": "markdown",
   "id": "6f4c8550dc8605fd",
   "metadata": {
    "jp-MarkdownHeadingCollapsed": true,
    "tags": []
   },
   "source": [
    "## Quantum circuit\n",
    "We start by defining the parameteriezed circuit."
   ]
  },
  {
   "cell_type": "code",
   "execution_count": null,
   "id": "ed83ff35c6a2136",
   "metadata": {
    "ExecuteTime": {
     "end_time": "2023-10-04T14:36:16.914084800Z",
     "start_time": "2023-10-04T14:36:16.690586900Z"
    }
   },
   "outputs": [],
   "source": [
    "# Notebook Setup\n",
    "from IPython.core import page\n",
    "page.page = print\n",
    "\n",
    "from pprint import pprint"
   ]
  },
  {
   "cell_type": "markdown",
   "id": "3018b093ac5eae77",
   "metadata": {},
   "source": [
    "### Initialization\n",
    "Uniform superposition by applying Hadamard gates $H$ on every qubit."
   ]
  },
  {
   "cell_type": "code",
   "execution_count": null,
   "id": "a061cc5a1dcd2d63",
   "metadata": {
    "ExecuteTime": {
     "end_time": "2023-10-04T14:36:17.097085200Z",
     "start_time": "2023-10-04T14:36:16.700086200Z"
    }
   },
   "outputs": [],
   "source": [
    "# Uniform Superposition Initialization\n",
    "from qiskit import QuantumCircuit\n",
    "\n",
    "\n",
    "def add_all_hadamards(qc, nqubits):\n",
    "    \"\"\"\n",
    "        Apply an H-gate to all 'qubits' in qc\n",
    "    \"\"\"\n",
    "    for q in nqubits:\n",
    "        qc.h(q)\n",
    "    return qc\n",
    "\n",
    "def superposition_circuit(nqubits: int) -> QuantumCircuit:\n",
    "    \"\"\"\n",
    "        Create a new quantum circuit where all qubits are initialized to |+>\n",
    "    \"\"\"\n",
    "    qc_0 = QuantumCircuit(nqubits)\n",
    "    return add_all_hadamards(qc_0, range(nqubits))"
   ]
  },
  {
   "cell_type": "code",
   "execution_count": null,
   "id": "a6e50f124c4d55e8",
   "metadata": {
    "ExecuteTime": {
     "end_time": "2023-10-04T14:36:17.586083700Z",
     "start_time": "2023-10-04T14:36:17.096585700Z"
    }
   },
   "outputs": [],
   "source": [
    "superposition_circuit(2).draw(output=\"mpl\")"
   ]
  },
  {
   "cell_type": "markdown",
   "id": "7371591280cc881e",
   "metadata": {},
   "source": [
    "### Mixing operator\n",
    "The mixing operator $U(B, \\beta)$ applies a rotation around $X$ of $2*\\beta$ on every qubit using $R_x$ gates."
   ]
  },
  {
   "cell_type": "code",
   "execution_count": null,
   "id": "f54a32988c6ee1e1",
   "metadata": {
    "ExecuteTime": {
     "end_time": "2023-10-04T14:36:17.586583200Z",
     "start_time": "2023-10-04T14:36:17.580084100Z"
    }
   },
   "outputs": [],
   "source": [
    "from qiskit.circuit import Parameter\n",
    "\n",
    "\n",
    "# Mixer Hamiltonian\n",
    "def mixer_circuit(nqubits: int) -> tuple[QuantumCircuit, Parameter]:\n",
    "    \"\"\"\n",
    "        Creates a mixer circuit for the given number of qubits\n",
    "\n",
    "        :param nqubits: The number of qubits to create the circuit for\n",
    "    \"\"\"\n",
    "    beta = Parameter(\"$\\\\beta$\")\n",
    "    qc_mix = QuantumCircuit(nqubits)\n",
    "    for i in range(0, nqubits):\n",
    "        qc_mix.rx(2 * beta, i)\n",
    "    return qc_mix, beta"
   ]
  },
  {
   "cell_type": "code",
   "execution_count": null,
   "id": "aff53cebb8a95e8c",
   "metadata": {
    "ExecuteTime": {
     "end_time": "2023-10-04T14:36:18.049082800Z",
     "start_time": "2023-10-04T14:36:17.584585Z"
    }
   },
   "outputs": [],
   "source": [
    "example_qc_mixer, _ = mixer_circuit(2)\n",
    "example_qc_mixer.draw(output=\"mpl\")"
   ]
  },
  {
   "cell_type": "markdown",
   "id": "3f4964d3c514f23b",
   "metadata": {},
   "source": [
    "### Phase-separating operator\n",
    "\n",
    "The phase-seperating operator $U(C, \\gamma)$ encodes $C$ and can be derived from a cost Hamiltonian $H_{Ctot}$ in Ising-form.\n",
    "We can describe $H_{Ctot}$ in a form where for $m$ clauses operating on one or multiple qubits the values of $C$ are encoded.\n",
    "We later describe how such a Hamiltonian can be constructed for our concrete problem class."
   ]
  },
  {
   "cell_type": "code",
   "execution_count": null,
   "id": "5a80aac911468804",
   "metadata": {
    "ExecuteTime": {
     "end_time": "2023-10-04T14:36:18.052083700Z",
     "start_time": "2023-10-04T14:36:18.049082800Z"
    }
   },
   "outputs": [],
   "source": [
    "# Hamiltonians may be described as a dict of tuples describing acting qubits and a value for each clause\n",
    "# hamiltonian = {(q1?, q2?, ...) : factor}\n",
    "sat_hamiltonian = {\n",
    "    (): 0.5,\n",
    "    (0,): 0.25,\n",
    "    (1,): 0.375,\n",
    "    (3,): 0.125,\n",
    "    (4,): -0.125,\n",
    "    (5,): -0.125,\n",
    "    (0, 1): 0.25,\n",
    "    (1, 2): -0.125,\n",
    "    (1, 3): 0.125,\n",
    "    (2, 3): -0.125,\n",
    "    (2, 4): -0.125,\n",
    "    (2, 5): -0.125,\n",
    "    (4, 5): 0.125,\n",
    "    (1, 2, 3): -0.125,\n",
    "    (2, 4, 5): 0.125\n",
    "}"
   ]
  },
  {
   "cell_type": "markdown",
   "id": "d79b513237918848",
   "metadata": {},
   "source": [
    "Clauses on one qubit can then be translated into $R_z$ rotations and clauses on two qubits can be translated into the symmetric $R_{zz}$ gate.\n",
    "For clauses of higher degree we need to implement the corresponding $R_{z ... z}$ gate.\n",
    "We do this by decomposing the $R_{z ... z}$ gate into multiple CNOT gates and a single $R_z$ gate as illustrated by [Glos et al](https://arxiv.org/pdf/2009.07309.pdf)."
   ]
  },
  {
   "cell_type": "code",
   "execution_count": null,
   "id": "dc9123639c170bb5",
   "metadata": {
    "ExecuteTime": {
     "end_time": "2023-10-04T14:36:18.065082800Z",
     "start_time": "2023-10-04T14:36:18.053582700Z"
    }
   },
   "outputs": [],
   "source": [
    "# R_{zzz} gate\n",
    "from qiskit import QuantumCircuit\n",
    "\n",
    "def k_rz_gate(qc: QuantumCircuit, qubits: list, gate_parameter: float) -> QuantumCircuit:\n",
    "    \"\"\"\n",
    "        Applies a Z gate across the given qubits with the given parameter\n",
    "\n",
    "        :param qc: The quantum circuit to apply the gate to\n",
    "        :param qubits: The qubits to apply the gate to\n",
    "        :param gate_parameter: The parameter to apply the gate with\n",
    "    \"\"\"\n",
    "    if len(qubits) == 0:\n",
    "        return qc\n",
    "    for index, qubit in enumerate(qubits):\n",
    "        if index < len(qubits) - 1:\n",
    "            qc.cnot(qubit, qubits[index + 1])\n",
    "\n",
    "    qc.rz(gate_parameter, qubits[-1])\n",
    "\n",
    "    qubits.reverse()\n",
    "\n",
    "    for index, qubit in enumerate(qubits):\n",
    "        if index < len(qubits) - 1:\n",
    "            qc.cnot(qubits[index + 1], qubit)\n",
    "\n",
    "    return qc"
   ]
  },
  {
   "cell_type": "code",
   "execution_count": null,
   "id": "9a2f92d7920200cb",
   "metadata": {
    "ExecuteTime": {
     "end_time": "2023-10-04T14:36:18.159082800Z",
     "start_time": "2023-10-04T14:36:18.058585600Z"
    }
   },
   "outputs": [],
   "source": [
    "qubits = [0, 1, 2]\n",
    "qc = QuantumCircuit(len(qubits))\n",
    "qc_zzz = k_rz_gate(qc, qubits, 1)\n",
    "qc_zzz.draw(output='mpl')"
   ]
  },
  {
   "cell_type": "markdown",
   "id": "67e7031994989e49",
   "metadata": {},
   "source": [
    "Using this implementation of general $R_{z ... z}$ gates, we can now implement the phase-separating operator for our example.\n",
    "For the sake of simplicity we also use this implementation for clauses on one and two qubits as it is equivalent to the $R_z$ and $R_{zz}$ gates."
   ]
  },
  {
   "cell_type": "code",
   "execution_count": null,
   "id": "9a592b8eee47d2f",
   "metadata": {
    "ExecuteTime": {
     "end_time": "2023-10-04T14:36:18.219582200Z",
     "start_time": "2023-10-04T14:36:18.160083800Z"
    }
   },
   "outputs": [],
   "source": [
    "from qubovert.utils import DictArithmetic\n",
    "import math\n",
    "\n",
    "\n",
    "def problem_circuit(hamiltonian: DictArithmetic, nqubits: int) -> tuple[QuantumCircuit, Parameter]:\n",
    "    \"\"\"\n",
    "        Creates a quantum circuit for the given hamiltonian\n",
    "\n",
    "        :param hamiltonian: The hamiltonian to create the circuit for\n",
    "        :param nqubits: The number of qubits to create the circuit for\n",
    "    \"\"\"\n",
    "    gamma = Parameter(\"$\\\\gamma$\")\n",
    "    qc_p = QuantumCircuit(nqubits)\n",
    "    normalization = math.pi/max(hamiltonian.values())\n",
    "\n",
    "    for key, factor in hamiltonian.items():\n",
    "        k_rz_gate(qc_p, list(key), 2 * normalization * factor * gamma)\n",
    "\n",
    "    return qc_p, gamma"
   ]
  },
  {
   "cell_type": "code",
   "execution_count": null,
   "id": "93fad30cbcd96429",
   "metadata": {
    "ExecuteTime": {
     "end_time": "2023-10-04T14:36:18.830586100Z",
     "start_time": "2023-10-04T14:36:18.181085900Z"
    }
   },
   "outputs": [],
   "source": [
    "example_qc_problem, _ = problem_circuit(sat_hamiltonian, 6)\n",
    "example_qc_problem.draw(output='mpl')"
   ]
  },
  {
   "cell_type": "markdown",
   "id": "2b89941aca6c3dfe",
   "metadata": {},
   "source": [
    "### QAOA circuit\n",
    "Now we can create a QAOA circuit for a problem hamiltonian.\n",
    "\n",
    "The circuit can also be warmstarted by initializing a specific state $\\ket{s}$ instead of a uniform superposition."
   ]
  },
  {
   "cell_type": "code",
   "execution_count": null,
   "id": "2405ad3834a4b3f0",
   "metadata": {
    "ExecuteTime": {
     "end_time": "2023-10-04T14:36:18.830586100Z",
     "start_time": "2023-10-04T14:36:18.827086200Z"
    }
   },
   "outputs": [],
   "source": [
    "from typing import Callable\n",
    "\n",
    "\n",
    "# QAOA Circuit\n",
    "def qaoa_circuit(problem_circuit: Callable, hamiltonian: DictArithmetic, nqubits: int, nlayers: int,\n",
    "                 amplitude_vector: list[float] = None, measure: bool = True)\\\n",
    "        -> tuple[QuantumCircuit, Parameter, Parameter]:\n",
    "    \"\"\"\n",
    "        Creates a QAOA circuit for the given hamiltonian\n",
    "\n",
    "        :param problem_circuit: The method for creating the corresponding problem quantum circuit\n",
    "        :param hamiltonian: The hamiltonian to create the circuit for\n",
    "        :param nqubits: The number of qubits to create the circuit for\n",
    "        :param nlayers: The number of layers to create the circuit for\n",
    "        :param amplitude_vector: The amplitude vector to use for the circuit\n",
    "        :param measure: Whether to measure the circuit\n",
    "    \"\"\"\n",
    "    if amplitude_vector is not None:\n",
    "        # warm start\n",
    "        qc = QuantumCircuit(nqubits)\n",
    "        qc.initialize(amplitude_vector)\n",
    "    else:\n",
    "        # equal superposition\n",
    "        qc = superposition_circuit(nqubits)\n",
    "\n",
    "    qg_mixer, beta = mixer_circuit(nqubits)\n",
    "    qg_problem, gamma = problem_circuit(hamiltonian, nqubits)\n",
    "\n",
    "    for layer in range(nlayers):\n",
    "        qc.barrier()\n",
    "        qc = qc.compose(qg_problem)\n",
    "        qc.barrier()\n",
    "        qc = qc.compose(qg_mixer)\n",
    "\n",
    "    if measure:\n",
    "        qc.measure_all()\n",
    "    return qc, gamma, beta"
   ]
  },
  {
   "cell_type": "code",
   "execution_count": null,
   "id": "fbf56cc48b0720e4",
   "metadata": {
    "ExecuteTime": {
     "end_time": "2023-10-04T14:36:19.367085300Z",
     "start_time": "2023-10-04T14:36:18.830586100Z"
    }
   },
   "outputs": [],
   "source": [
    "example_qaoa_circuit, _, _ = qaoa_circuit(problem_circuit, sat_hamiltonian, 6, 1)\n",
    "example_qaoa_circuit.draw(output=\"mpl\")"
   ]
  },
  {
   "cell_type": "markdown",
   "id": "b9f93ea8c9823dd0",
   "metadata": {},
   "source": [
    "### Quantum routine\n",
    "Executes QAOA circuit and returns circuit and results"
   ]
  },
  {
   "cell_type": "code",
   "execution_count": null,
   "id": "33a4fe2b8c2948e9",
   "metadata": {
    "ExecuteTime": {
     "end_time": "2023-10-04T14:36:19.370585500Z",
     "start_time": "2023-10-04T14:36:19.366585400Z"
    }
   },
   "outputs": [],
   "source": [
    "from qiskit.result import Counts\n",
    "from qiskit import transpile, Aer\n",
    "\n",
    "\n",
    "def quantum(problem_circuit: Callable, hamiltonian: DictArithmetic, nqubits: int, layers: int, beta_val: float,\n",
    "            gamma_val: float, shots: int = 512, amplitude_vector: list[float] = None) -> tuple[Counts, QuantumCircuit]:\n",
    "    qc, beta, gamma = qaoa_circuit(problem_circuit, hamiltonian, nqubits, layers, amplitude_vector)\n",
    "\n",
    "    # Set parameters for qc\n",
    "    qc = qc.bind_parameters({\n",
    "        beta: beta_val,\n",
    "        gamma: gamma_val\n",
    "    })\n",
    "\n",
    "    # run and measure qc\n",
    "    qasm_sim = Aer.get_backend('qasm_simulator')\n",
    "    transpiled_qaoa = transpile(qc, qasm_sim)\n",
    "    results = qasm_sim.run(transpiled_qaoa, shots=shots).result()\n",
    "    counts = results.get_counts()\n",
    "\n",
    "    return counts, qc"
   ]
  },
  {
   "cell_type": "code",
   "execution_count": null,
   "id": "363c7774293ea55f",
   "metadata": {
    "ExecuteTime": {
     "end_time": "2023-10-04T14:36:20.202086300Z",
     "start_time": "2023-10-04T14:36:19.373082900Z"
    }
   },
   "outputs": [],
   "source": [
    "counts, qc = quantum(problem_circuit, sat_hamiltonian, 6, 1, 1, 1)\n",
    "qc.draw(output=\"mpl\")"
   ]
  },
  {
   "cell_type": "code",
   "execution_count": null,
   "id": "16ab8b2c1208d5f6",
   "metadata": {
    "ExecuteTime": {
     "end_time": "2023-10-04T14:36:20.719583200Z",
     "start_time": "2023-10-04T14:36:20.193582700Z"
    }
   },
   "outputs": [],
   "source": [
    "from qiskit.visualization import plot_histogram\n",
    "\n",
    "plot_histogram(counts, figsize=(40, 10))"
   ]
  },
  {
   "cell_type": "markdown",
   "id": "e573f717-6549-49df-a045-0379baf6187f",
   "metadata": {
    "jp-MarkdownHeadingCollapsed": true,
    "tags": []
   },
   "source": [
    "## Creating a problem specific Hamiltonian"
   ]
  },
  {
   "cell_type": "markdown",
   "id": "9b9bb483e563bea6",
   "metadata": {
    "tags": []
   },
   "source": [
    "### Creating a cost function satisfying features\n",
    "\n",
    "To get the penalties for general clauses $(x_i \\vee \\dots \\vee x_j \\vee \\neg x_k \\vee \\dots \\vee \\neg x_l)$, we can use the following term:\n",
    "\n",
    "$$(1 - x_i) \\dots (1 - x_j) (x_k) \\dots (x_l)$$\n",
    "\n",
    "Using this method we can transform our example into the corresponding PUBO model.\n",
    "\n",
    "$$\n",
    "min~y(x) = (1 - x_1)(1 - x_2) + (1 - x_2)(x_3)(1 - x_4) + (1 - x_3)(x_5)(x_6)\\\\\n",
    "= 1 - x_1 - x_2 + x_3 + x_1 x_2 - x_2 x_3 - x_3 x_4 + x_5 x_6 + x_2 x_3 x_4 - x_3 x_5 x_6\n",
    "$$\n",
    "\n",
    "$y(x)$ is the integer of unsatisfied clauses. In other words, $y=0$ indicates that all clauses are satisfied, which is desired for this problem.\n",
    "\n",
    "### Creating a cost function for feature costs\n",
    "\n",
    "For the feature costs, we can formulate a sum that adds a features cost if it is in the input vector x.\n",
    "$$\n",
    "k(x) = \\sum_{x}^{} c_i x_i\n",
    "$$\n",
    "\n",
    "\n",
    "### Combining the functions\n",
    "In our example, we want to find a valid configuration with the minimum cost, so we sum the two previous functions and add a penalty factor $\\alpha$ to be able to change the influence of our SAT constraints.\n",
    "\n",
    "$$\n",
    "min~f(x) = k(x) + \\alpha y(x)\n",
    "$$\n",
    "\n",
    "We assume $\\alpha \\gg 0$, the exact value probably depends on the value of $k(x)$.\n",
    "\n",
    "### Forming Hamiltonians\n",
    "We got our QUBO cost function defined. We now need to transform the Binary input space $x_i \\in \\{0,1\\}$ to the Ising Spin model of $s_i \\in \\{-1, 1\\}$. \n",
    "\n",
    "Replace $x_i$ with $S_i = 2x_i-1$ meaning $x_i = \\frac{1 - S_i}{2}$ (Note that switching the sign changes the eigenvectors)\n",
    "\n",
    "#### Cost Hamiltonian for the SAT part\n",
    "Before applying it to the entire function, let's first consider only $min~y(x)$.\n",
    "\n",
    "Ising Form:\n",
    "$$\n",
    "min~y(s) = 1 - \\frac{1 -s_1}{2} - \\frac{1 - s_2}{2} + \\frac{1 - s_3}{2} + \\frac{1 - s_1}{2} \\frac{1 - s_2}{2} - \\frac{1 - s_2}{2} \\frac{1 - s_3}{2} - \\frac{1 - s_3}{2} \\frac{1 - s_4}{2} + \\frac{1 - s_5}{2} \\frac{1 - s_6}{2} + \\frac{1 - s_2}{2} \\frac{1 - s_3}{2} \\frac{1 - s_4}{2} - \\frac{1 - s_3}{2} \\frac{1 - s_5}{2} \\frac{1 - s_6}{2}\n",
    "$$\n",
    "\n",
    "Which expands to:\n",
    "\n",
    "$$\n",
    "min~y(s) = \\frac{1}{2} - \\frac{1}{4} s_1 + \\frac{3}{8} s_2 + \\frac{1}{8} s_4 - \\frac{1}{8} s_5 - \\frac{1}{8} s_6 + \\frac{1}{4} s_1 s_2 - \\frac{1}{8} s_2 s_3 + \\frac{1}{8} s_2 s_4 - \\frac{1}{8} s_3 s_4 - \\frac{1}{8} s_3 s_5 - \\frac{1}{8} s_3 s_6 + \\frac{1}{8} s_5 s_6 - \\frac{1}{8} s_2 s_3 s_4 + \\frac{1}{8} s_3 s_5 s_6\\\\\n",
    "$$\n",
    "\n",
    "And leaves us with a cost Hamiltonian $H_C$ with Pauli-Z-Gates $\\sigma_i^z$ and an Identity $I$ on the global phase:\n",
    "\n",
    "$$\n",
    "H_C = \\frac{1}{2} * I - \\frac{1}{4} \\sigma_1^z + \\frac{3}{8} \\sigma_2^z + \\frac{1}{8} \\sigma_4^z - \\frac{1}{8} \\sigma_5^z - \\frac{1}{8} \\sigma_6^z + \\frac{1}{4} \\sigma_1^z \\sigma_2^z - \\frac{1}{8} \\sigma_2^z \\sigma_3^z + \\frac{1}{8} \\sigma_2^z \\sigma_4^z - \\frac{1}{8} \\sigma_3^z \\sigma_4^z - \\frac{1}{8} \\sigma_3^z \\sigma_5^z - \\frac{1}{8} \\sigma_3^z \\sigma_6^z + \\frac{1}{8} \\sigma_5^z \\sigma_6^z - \\frac{1}{8} \\sigma_2^z \\sigma_3^z \\sigma_4^z + \\frac{1}{8} \\sigma_3^z \\sigma_5^z \\sigma_6^z\\\\\n",
    "$$\n",
    "\n",
    "#### Cost Hamiltonian for the feature costs\n",
    "We can expand the feature costs in our example according to the table above.\n",
    "$$\n",
    "min~k(x) = \\sum_{x}^{} c_i x_i \\\\\n",
    "= 30*x_1 + 20*x_2 + 25*x_3 + 50*x_4 + 10*x_5 + 10*x_6\n",
    "$$\n",
    "Which we then again transform into Ising form.\n",
    "\n",
    "$$\n",
    "min~k(s) = 15*(1-s_1) + 10*(1-s_2)+ 12.5*(1-s_3) + 25*(1-s_4) + 5*(1-s_5) + 5*(1-s_6) \\\\\n",
    "min~k(s) = 82.5 - 15 s_1 - 10 s_2 - 12.5 s_3 - 25 s_4 - 5 s_5 - 5 s_6\n",
    "$$\n",
    "\n",
    "Which leaves us with our cost Hamiltonian $H_{Ck}$\n",
    "$$\n",
    "H_{Ck} = 82.5 I - 15 \\sigma^z_1 - 10 \\sigma^z_2 - 12.5 \\sigma^z_3 - 25 \\sigma^z_4 - 5 \\sigma^z_5 - 5 \\sigma^z_6\n",
    "$$\n",
    "\n",
    "#### Combining Hamiltonians\n",
    "\n",
    "All that's left to do is choosing a suitable $\\alpha$ and combining the functions.\n",
    "\n",
    "We choose $\\alpha = 200$ (sum of individual feature costs * 1.5 rounded) to make the SAT part more significant than the feature costs while still retaining enough influence to make the feature costs relevant.\n",
    "\n",
    "$$\n",
    "H_{Ctot} = H_{Ck} + \\alpha ~ H_C\n",
    "$$\n",
    "\n",
    "$$\n",
    "H_{Ctot} = (82.5 I - 15 \\sigma^z_1 - 10 \\sigma^z_2 - 12.5 \\sigma^z_3 - 25 \\sigma^z_4 - 5 \\sigma^z_5 - 5 \\sigma^z_6) + (100 I - 50 \\sigma^z_1 + 75 \\sigma^z_2 + 25 \\sigma^z_4 - 25 \\sigma^z_5 - 25 \\sigma^z_6 + 50 \\sigma^z_1 \\sigma^z_2 - 25 \\sigma^z_2 \\sigma^z_3 + 25 \\sigma^z_2 \\sigma^z_4 - 25 \\sigma^z_3 \\sigma^z_4 - 25 \\sigma^z_3 \\sigma^z_5 - 25 \\sigma^z_3 \\sigma^z_6 + 25 \\sigma^z_5 \\sigma^z_6 - 25 \\sigma^z_2 \\sigma^z_3 \\sigma^z_4 + 25 \\sigma^z_3 \\sigma^z_5 \\sigma^z_6)\n",
    "$$\n",
    "\n",
    "simplified to\n",
    "\n",
    "$$\n",
    "H_{Ctot} = 182.5 I - 65 \\sigma^z_1 + 65 \\sigma^z_2 - 12.5 \\sigma^z_3 - 30 \\sigma^z_5 - 30 \\sigma^z_6 + 50 \\sigma^z_1 \\sigma^z_2 - 25 \\sigma^z_2 \\sigma^z_3 + 25 \\sigma^z_2 \\sigma^z_4 - 25 \\sigma^z_3 \\sigma^z_4 - 25 \\sigma^z_3 \\sigma^z_5 - 25 \\sigma^z_3 \\sigma^z_6 + 25 \\sigma^z_5 \\sigma^z_6 - 25 \\sigma^z_2 \\sigma^z_3 \\sigma^z_4 + 25 \\sigma^z_3 \\sigma^z_5 \\sigma^z_6\n",
    "$$\n",
    "\n",
    "We can implement such a Hamiltonian $H_{Ctot}$ using the `qubovert` library and solve small instances via bruteforce."
   ]
  },
  {
   "cell_type": "code",
   "execution_count": null,
   "id": "ab21e18d7d97b8b3",
   "metadata": {
    "ExecuteTime": {
     "end_time": "2023-10-04T14:36:20.738085700Z",
     "start_time": "2023-10-04T14:36:20.720583900Z"
    }
   },
   "outputs": [],
   "source": [
    "def solve_bruteforce(model):\n",
    "    model_solution = model.solve_bruteforce()\n",
    "    print(\"Variable assignment:\", model_solution)\n",
    "    print(\"Model value:\", model.value(model_solution))\n",
    "    print(\"Constraints satisfied?\", model.is_solution_valid(model_solution))  # we don't have constraints in our model"
   ]
  },
  {
   "cell_type": "code",
   "execution_count": null,
   "id": "3f7d40f5da5afa3f",
   "metadata": {
    "ExecuteTime": {
     "end_time": "2023-10-04T14:36:20.739584Z",
     "start_time": "2023-10-04T14:36:20.725084Z"
    }
   },
   "outputs": [],
   "source": [
    "from qubovert import spin_var\n",
    "# define spin variables \n",
    "z1, z2, z3, z4, z5, z6 = spin_var('z1'), spin_var('z2'), spin_var('z3'), spin_var('z4'), spin_var('z5'), spin_var('z6')\n",
    "\n",
    "# Our manually calculated hamiltonian\n",
    "feetcost_model = 282.5 + 85 * z1 + 90 * z2 - 112.5 * z3 - 25 * z4 - 5 * z5 - 5 * z6 - 50 * z1 * z2 + 50 * z2 * z3 + 50 * z3 * z4 - 50 * z5 * z6 - 25 * z2 * z3 * z4 + 25 * z3 * z5 * z6\n",
    "solve_bruteforce(feetcost_model)"
   ]
  },
  {
   "cell_type": "markdown",
   "id": "c71a7ddd6433901",
   "metadata": {},
   "source": [
    "We can also define the SAT ($H_C$) and cost ($H_{Ck}$) Hamiltonians separately and combine them afterwards."
   ]
  },
  {
   "cell_type": "code",
   "execution_count": null,
   "id": "c9d159ffeba4c31c",
   "metadata": {
    "ExecuteTime": {
     "end_time": "2023-10-04T14:36:21.099585900Z",
     "start_time": "2023-10-04T14:36:20.737582800Z"
    }
   },
   "outputs": [],
   "source": [
    "# cost and sat individually\n",
    "from qubovert import boolean_var\n",
    "\n",
    "# define binary vars\n",
    "x1, x2, x3, x4, x5, x6 = boolean_var('x1'), boolean_var('x2'), boolean_var('x3'), boolean_var('x4'), boolean_var('x5'), boolean_var('x6')\n",
    "\n",
    "# SAT Penalty\n",
    "alpha_sat = 200\n",
    "\n",
    "# SAT PUBO\n",
    "sat_model = 1 - x1 - x2 + x3 + x1*x2 - x2*x3 - x3*x4 + x5*x6 + x2*x3*x4 - x3*x5*x6\n",
    "\n",
    "# Cost PUBO\n",
    "cost_model = 30*x1 + 20*x2 + 25*x3 + 50*x4 + 10*x5 + 10*x6\n",
    "\n",
    "# Combine models\n",
    "combined_model = cost_model + alpha_sat * sat_model\n",
    "print(\"PUBO Combined Model:\")\n",
    "pprint(combined_model)\n",
    "print(\"Ising Combined Model: \")\n",
    "combined_hamiltonian = combined_model.to_puso()\n",
    "pprint(combined_hamiltonian)"
   ]
  },
  {
   "cell_type": "markdown",
   "id": "fe705d9f5897b058",
   "metadata": {
    "jp-MarkdownHeadingCollapsed": true,
    "tags": []
   },
   "source": [
    "## Classical Routine\n",
    "On the classical side we now need functions to evaluate $C$, which correspond to computing the energy of the Hamiltonian for a specific measured output (a configuration in our case) by `compute_config_energy`."
   ]
  },
  {
   "cell_type": "code",
   "execution_count": null,
   "id": "68d64b314aa43493",
   "metadata": {
    "ExecuteTime": {
     "end_time": "2023-10-04T14:36:21.100085200Z",
     "start_time": "2023-10-04T14:36:20.745084400Z"
    }
   },
   "outputs": [],
   "source": [
    "def compute_config_energy(hamiltonian: DictArithmetic, config: list[int]) -> float:\n",
    "    \"\"\"\n",
    "        Computes the energy of a given configuration (ising input) for a given hamiltonian (ising form)\n",
    "\n",
    "        :param hamiltonian: The hamiltonian to compute the energy for\n",
    "        :param config: The configuration to compute the energy for\n",
    "    \"\"\"\n",
    "    energy = 0\n",
    "    for key, factor in hamiltonian.items():\n",
    "        term_energy = factor\n",
    "        for qubit in key:\n",
    "            term_energy *= config[qubit]\n",
    "        energy += term_energy\n",
    "    return energy"
   ]
  },
  {
   "cell_type": "markdown",
   "id": "154ffbbb16d84dfe",
   "metadata": {},
   "source": [
    "As the circuit is executed multiple times the function `compute_hamiltonian_energy` can be used with different strategies.\n",
    "Currently, we provide average, top and minimum strategies and the best ones to use are minimum or average."
   ]
  },
  {
   "cell_type": "code",
   "execution_count": null,
   "id": "7d740020e8b12afc",
   "metadata": {
    "ExecuteTime": {
     "end_time": "2023-10-04T14:36:21.100586300Z",
     "start_time": "2023-10-04T14:36:20.753585200Z"
    }
   },
   "outputs": [],
   "source": [
    "def compute_hamiltonian_energy(hamiltonian, counts, strategy='avg'):\n",
    "    \"\"\"\n",
    "        Compute the energy state of a hamiltonian from measurements.\n",
    "        \n",
    "        :param hamiltonian: the hamiltonian (QUSO/PUSO) describing the system\n",
    "        :param counts: measurement results for a quantum system for the hamiltonian\n",
    "        :param strategy: method for actually evaluating the hamiltonian. Available: 'avg', 'top', 'min'\n",
    "    \"\"\"\n",
    "    if strategy == 'avg':\n",
    "        return hamiltonian_strategy_average(hamiltonian, counts)\n",
    "    elif strategy == 'top':\n",
    "        return hamiltonian_strategy_top(hamiltonian, counts)\n",
    "    elif strategy == 'min':\n",
    "        return hamiltonian_strategy_min(hamiltonian, counts)\n",
    "    else:\n",
    "        raise RuntimeError(f\"Unsupported strategy: {strategy}\")\n",
    "    \n",
    "    \n",
    "def hamiltonian_strategy_min(hamiltonian, counts):\n",
    "    \"\"\"\n",
    "        Finds the _measured_ configuration with the least energy and returns its value.\n",
    "    \"\"\"\n",
    "    min_energy = float('inf')\n",
    "    for config_str in counts.keys():\n",
    "        # convert the 0/1 feature string to ising integers\n",
    "        config = [-1 if s == \"0\" else 1 for s in config_str]\n",
    "        energy = compute_config_energy(hamiltonian, config)\n",
    "        min_energy = energy if energy < min_energy else min_energy\n",
    "    return min_energy\n",
    "\n",
    "\n",
    "def hamiltonian_strategy_average(hamiltonian, counts):\n",
    "    \"\"\"\n",
    "        Computes the average energy across the entire measurement for the given hamiltonian\n",
    "    \"\"\"\n",
    "    average_energy = 0\n",
    "    for config_str in counts.keys():\n",
    "        # convert the 0/1 feature string to ising integers\n",
    "        config = [-1 if s == \"0\" else 1 for s in config_str]\n",
    "        energy = compute_config_energy(hamiltonian, config)*counts.get(config_str)\n",
    "        average_energy += energy\n",
    "    average_energy /= counts.shots()\n",
    "    return average_energy\n",
    "\n",
    "\n",
    "def hamiltonian_strategy_top(hamiltonian, counts):\n",
    "    \"\"\"\n",
    "        Computes the energy of the configuration that was measured the most for the given hamiltonian\n",
    "    \"\"\"\n",
    "    # take the config that was measured most often\n",
    "    config_str = max(counts, key=counts.get) \n",
    "    # convert the 0/1 feature string to ising integers\n",
    "    config = [-1 if s == \"0\" else 1 for s in config_str]\n",
    "    return compute_config_energy(hamiltonian, config)"
   ]
  },
  {
   "cell_type": "markdown",
   "id": "df1a379867d93384",
   "metadata": {},
   "source": [
    "We can then define a function that given a beta and gamma as input creates a quantum circuit, executes it multiple times and returns the energy.\n",
    "\n",
    "This function can be used in a classical optimizer."
   ]
  },
  {
   "cell_type": "code",
   "execution_count": null,
   "id": "be8b8415f3908900",
   "metadata": {
    "ExecuteTime": {
     "end_time": "2023-10-04T14:36:21.100586300Z",
     "start_time": "2023-10-04T14:36:20.761582200Z"
    }
   },
   "outputs": [],
   "source": [
    "def get_expectation(problem_circuit: Callable, hamiltonian: DictArithmetic, nqubits: int, nlayers: int,\n",
    "                    shots: int = 128, amplitude_vector: list[float] = None, strategy: str = 'avg') -> Callable:\n",
    "    backend = Aer.get_backend('qasm_simulator')\n",
    "    backend.shots = shots\n",
    "\n",
    "    def execute_circ(theta):\n",
    "        qc, beta, gamma = qaoa_circuit(problem_circuit, hamiltonian, nqubits, nlayers, amplitude_vector)\n",
    "\n",
    "        # Set parameters for qc\n",
    "        qc = qc.bind_parameters({\n",
    "            beta: theta[0],\n",
    "            gamma: theta[1]\n",
    "        })\n",
    "\n",
    "        counts = backend.run(qc, nshots=shots).result().get_counts()\n",
    "        return compute_hamiltonian_energy(hamiltonian, counts, strategy=strategy)\n",
    "\n",
    "    return execute_circ"
   ]
  },
  {
   "cell_type": "markdown",
   "id": "abb941829cfe96ba",
   "metadata": {
    "jp-MarkdownHeadingCollapsed": true,
    "tags": []
   },
   "source": [
    "## QAOA cost landscape\n",
    "To get a better understanding of the QAOA cost landscape, we can plot the cost for different values of $\\gamma$ and $\\beta$."
   ]
  },
  {
   "cell_type": "code",
   "execution_count": null,
   "id": "f65f38fe96ac2449",
   "metadata": {
    "ExecuteTime": {
     "end_time": "2023-10-04T14:36:21.100586300Z",
     "start_time": "2023-10-04T14:36:20.778585500Z"
    }
   },
   "outputs": [],
   "source": [
    "from qiskit_aer import StatevectorSimulator\n",
    "from matplotlib import pyplot as plt\n",
    "import sys\n",
    "import numpy as np\n",
    "\n",
    "\n",
    "def plot_beta_gamma_cost_landscape(problem_circuit: Callable, hamiltonians: list[dict], strategies: list[str],\n",
    "                                   nqubits: int, step_size: float):\n",
    "    \"\"\"\n",
    "        Plots the cost landscape for different values of beta and gamma\n",
    "        for a given list of hamiltonians and list of strategies.\n",
    "\n",
    "        :param problem_circuit: The function for creating the corresponding problem quantum circuit\n",
    "        :param hamiltonians: list of hamiltonians to plot\n",
    "        :param strategies: list of strategies to plot\n",
    "        :param nqubits: number of qubits\n",
    "        :param step_size: step size for beta and gamma, value will be doubled for gamma as it's limits are also doubled\n",
    "    \"\"\"\n",
    "    plot_arguments = []\n",
    "    for hamiltonian in hamiltonians:\n",
    "        for strategy in strategies:\n",
    "            plot_arguments.append({\"hamiltonian\": hamiltonian, \"strategy\": strategy})\n",
    "\n",
    "    x_axis = np.arange(-math.pi, math.pi, step_size)\n",
    "    y_axis = np.arange(-2 * math.pi, 2 * math.pi, 2 * step_size)\n",
    "\n",
    "    fig, axes = plt.subplots(len(hamiltonians), len(strategies), figsize=(18, 16))\n",
    "    fig.suptitle(r\"cost landscape for different values of $\\gamma$ and $\\beta$\", fontsize=20)\n",
    "    fig.tight_layout(pad=5.0)\n",
    "    cmap = \"viridis\"\n",
    "\n",
    "    for ax, arguments in zip(axes.ravel(), plot_arguments):\n",
    "        ax.set_title(f\"Hamiltonian: {arguments['hamiltonian']['name']}\\n strategy: {arguments['strategy']}\")\n",
    "        ax.set_xlabel(r\"$\\beta$\")\n",
    "        ax.set_ylabel(r\"$\\gamma$\")\n",
    "\n",
    "        hamiltonian = arguments[\"hamiltonian\"][\"hamiltonian\"]\n",
    "        strategy = arguments[\"strategy\"]\n",
    "\n",
    "        expectation = np.zeros(shape=(len(x_axis), len(y_axis)))\n",
    "        expectation_max = -sys.maxsize - 1\n",
    "        expectation_min = sys.maxsize\n",
    "\n",
    "        for i_index, i in enumerate(x_axis):\n",
    "            for j_index, j in enumerate(y_axis):\n",
    "                expectation_function = get_expectation_statevector(problem_circuit, hamiltonian, nqubits, 1,\n",
    "                                                                   strategy=strategy)\n",
    "                value = expectation_function([j, i])\n",
    "                expectation[i_index][j_index] = value\n",
    "    \n",
    "                if expectation_max < value:\n",
    "                    expectation_max = value\n",
    "                elif expectation_min > value:\n",
    "                    expectation_min = value\n",
    "\n",
    "        pcm = ax.pcolormesh(x_axis, y_axis, expectation, shading=\"gouraud\", cmap=cmap, vmin=expectation_min,\n",
    "                            vmax=expectation_max)\n",
    "        plt.colorbar(pcm, ax=ax)\n",
    "\n",
    "    plt.show()\n",
    "    \n",
    "    \n",
    "def get_expectation_statevector(problem_circuit: Callable, hamiltonian: DictArithmetic, nqubits: int, nlayers: int,\n",
    "                                amplitude_vector: list[float] = None, strategy: str = 'avg') -> Callable:\n",
    "    backend = StatevectorSimulator()\n",
    "\n",
    "    def execute_circ(theta):\n",
    "        qc, beta, gamma = qaoa_circuit(problem_circuit, hamiltonian, nqubits, nlayers, amplitude_vector, measure=False)\n",
    "\n",
    "        # Set parameters for qc\n",
    "        qc = qc.bind_parameters({\n",
    "            beta: theta[0],\n",
    "            gamma: theta[1]\n",
    "        })\n",
    "\n",
    "        statevector = backend.run(qc).result().get_statevector()\n",
    "\n",
    "        return compute_hamiltonian_energy_from_statevector(hamiltonian, statevector, nqubits, strategy=strategy)\n",
    "\n",
    "    return execute_circ\n",
    "\n",
    "\n",
    "def hamiltonian_strategy_average_from_statevector(hamiltonian, statevector, nqubits):\n",
    "    \"\"\"\n",
    "        Computes the average energy across all possible measurements for the given hamiltonian\n",
    "    \"\"\"\n",
    "    probabilities = statevector.probabilities()\n",
    "    average_energy = 0\n",
    "    for i, probability in enumerate(probabilities):\n",
    "        # convert index to ising integers\n",
    "        config = [-1 if s == \"0\" else 1 for s in np.binary_repr(i, width=nqubits)]\n",
    "        energy = compute_config_energy(hamiltonian, config)*probability\n",
    "        average_energy += energy\n",
    "    return average_energy\n",
    "\n",
    "\n",
    "def hamiltonian_strategy_top_from_statevector(hamiltonian, statevector, nqubits):\n",
    "    \"\"\"\n",
    "        Computes the energy of the configuration that has the highest probability for the given hamiltonian\n",
    "    \"\"\"\n",
    "    probabilities = statevector.probabilities()\n",
    "    # take the config that was measured most often\n",
    "    config_index = min(range(len(probabilities)), key=probabilities.__getitem__)\n",
    "    # convert index to ising integers\n",
    "    config = [-1 if s == \"0\" else 1 for s in np.binary_repr(config_index, width=nqubits)]\n",
    "    return compute_config_energy(hamiltonian, config)\n",
    "\n",
    "\n",
    "def hamiltonian_strategy_min_from_statevector(hamiltonian, statevector, nqubits, threshold=0.001):\n",
    "    \"\"\"\n",
    "        Finds the configuration with a probability above a threshold with the least energy and returns its value.\n",
    "    \"\"\"\n",
    "    min_energy = float('inf')\n",
    "    probabilities = statevector.probabilities()\n",
    "    for i, probability in enumerate(probabilities):\n",
    "        if probability > threshold:\n",
    "            # convert index to ising integers\n",
    "            config = [-1 if s == \"0\" else 1 for s in np.binary_repr(i, width=nqubits)]\n",
    "            energy = compute_config_energy(hamiltonian, config)\n",
    "            min_energy = energy if energy < min_energy else min_energy\n",
    "    return min_energy\n",
    "\n",
    "\n",
    "def compute_hamiltonian_energy_from_statevector(hamiltonian, statevector, nqubits, strategy='avg'):\n",
    "    \"\"\"\n",
    "        Compute the energy state of a hamiltonian from the statevector.\n",
    "\n",
    "        :param hamiltonian: the hamiltonian (QUSO/PUSO) describing the system\n",
    "        :param statevector: the statevector for a quantum system for the hamiltonian\n",
    "        :param nqubits: number of qubits in the quantum system\n",
    "        :param strategy: method for actually evaluating the hamiltonian. Available: 'avg', 'top', 'min'\n",
    "    \"\"\"\n",
    "    if strategy == 'avg':\n",
    "        return hamiltonian_strategy_average_from_statevector(hamiltonian, statevector, nqubits)\n",
    "    elif strategy == 'top':\n",
    "        return hamiltonian_strategy_top_from_statevector(hamiltonian, statevector, nqubits)\n",
    "    elif strategy == 'min':\n",
    "        return hamiltonian_strategy_min_from_statevector(hamiltonian, statevector, nqubits)\n",
    "    else:\n",
    "        raise RuntimeError(f\"Unsupported strategy: {strategy}\")"
   ]
  },
  {
   "cell_type": "code",
   "execution_count": null,
   "id": "191e21e4358d3f5d",
   "metadata": {
    "ExecuteTime": {
     "end_time": "2023-10-04T14:36:53.643083900Z",
     "start_time": "2023-10-04T14:36:20.784583400Z"
    }
   },
   "outputs": [],
   "source": [
    "# Plot cost landscape for different values of beta and gamma\n",
    "hamiltonians = [{'hamiltonian': sat_model.to_puso(), 'name': 'SAT'},\n",
    "               {'hamiltonian': cost_model.to_puso(), 'name': 'COST'},\n",
    "               {'hamiltonian': combined_hamiltonian, 'name': 'COMBINED'}]\n",
    "strategies = ['min', 'avg', 'top']\n",
    "plot_beta_gamma_cost_landscape(problem_circuit, hamiltonians, strategies, 6, 0.2)"
   ]
  },
  {
   "cell_type": "markdown",
   "id": "f4799518ea51a2fc",
   "metadata": {
    "jp-MarkdownHeadingCollapsed": true,
    "tags": []
   },
   "source": [
    "## Applying QAOA\n",
    "Finally, we can run the whole algorithm for a specific problem Hamiltonian."
   ]
  },
  {
   "cell_type": "code",
   "execution_count": null,
   "id": "2873d8b7e0023389",
   "metadata": {
    "ExecuteTime": {
     "end_time": "2023-10-04T14:36:53.643583500Z",
     "start_time": "2023-10-04T14:36:53.642583200Z"
    }
   },
   "outputs": [],
   "source": [
    "from scipy.optimize import minimize\n",
    "\n",
    "\n",
    "def apply_qaoa(problem_circuit: Callable, hamiltonian: DictArithmetic, layers: int = 60, n_features: int = 6,\n",
    "               shots: int = 256, theta={\"beta\": 0.01, \"gamma\": -0.01}, warmstart_statevector: list[float] = None,\n",
    "               strategy: str = 'avg', use_optimizer: bool = True, print_res: bool = True)\\\n",
    "        -> tuple[Counts, QuantumCircuit]:\n",
    "    \"\"\"\n",
    "        Applies the QAOA Algorithm for the given problem hamiltonian in QUSO/PUSO form.\n",
    "\n",
    "        :param problem_circuit: The function for creating the corresponding problem quantum circuit\n",
    "        :param hamiltonian: the hamiltonian used for creating the quantum circuit\n",
    "                            and determining the expected config cost\n",
    "        :param layers: the hyperparameter p of QAOA defining how many cost-mixer-layers will be in the circuit\n",
    "        :param n_features: the number of independent variables in the input hamiltonian\n",
    "        :param shots: the number of shots used in a simulator run of the QAOA quantum circuit\n",
    "        :param theta: dictionary with keys \"beta\" and \"gamma\" that parameterize the QAOA circuit,\n",
    "                      used as start value when optimizing\n",
    "        :param warmstart_statevector: statevector to warmstart to, instead of creating an equal superposition\n",
    "        :param strategy: the strategy used to compute the expected config cost\n",
    "        :param use_optimizer: indicates whether to optimize theta using classical optimizers\n",
    "        :param print_res: indicates whether the results of the optimization should be printed\n",
    "    \"\"\"\n",
    "    # define expectation function for optimizers\n",
    "    expectation = get_expectation(problem_circuit, hamiltonian, n_features, layers, shots, warmstart_statevector,\n",
    "                                  strategy=strategy)\n",
    "\n",
    "    # optimize beta and gamma\n",
    "    if use_optimizer:\n",
    "        theta = optimize_parameters(theta, expectation, print_res)\n",
    "\n",
    "        # run qaoa circuit with parameters in theta\n",
    "    counts, qc = quantum(problem_circuit, hamiltonian, n_features, layers, theta[\"beta\"], theta[\"gamma\"], shots,\n",
    "                         warmstart_statevector)\n",
    "    return counts, qc\n",
    "\n",
    "\n",
    "def optimize_parameters(theta: dict, expectation: Callable, print_res: bool) -> dict:\n",
    "    \"\"\"\n",
    "        Optimizes the parameters beta and gamma of the QAOA circuit using classical optimizers.\n",
    "\n",
    "        :param theta: dictionary with keys \"beta\" and \"gamma\" that parameterize the QAOA circuit,\n",
    "                      used as start value when optimizing\n",
    "        :param expectation: the expectation function used to determine the expected config cost\n",
    "        :param print_res: indicates whether the results of the optimization should be printed\n",
    "    \"\"\"\n",
    "    res = minimize(expectation, [theta[\"beta\"], theta[\"gamma\"]], method='COBYLA',\n",
    "                   options={'maxiter': 1000, 'disp': False}, tol=1e-12)\n",
    "    if print_res:\n",
    "        print(res)\n",
    "    return {\"beta\": res.x[0], \"gamma\": res.x[1]}"
   ]
  },
  {
   "cell_type": "code",
   "execution_count": null,
   "id": "44e21d5a391f58d3",
   "metadata": {
    "ExecuteTime": {
     "end_time": "2023-10-04T14:37:43.966086900Z",
     "start_time": "2023-10-04T14:36:53.642583200Z"
    }
   },
   "outputs": [],
   "source": [
    "hamiltonian = combined_hamiltonian\n",
    "layers = 60 # more layers = higher approximation rate but more quantum errors when running on real qpu\n",
    "n_features = 6\n",
    "shots = 256\n",
    "theta = {\"beta\": 0.01, \"gamma\": -0.01} # start values for optimization\n",
    "strategy = 'min'\n",
    "use_warmstart = False\n",
    "use_optimizer = True\n",
    "\n",
    "if not use_warmstart:\n",
    "    warmstart_statevector = None\n",
    "\n",
    "counts, qc = apply_qaoa(problem_circuit, hamiltonian, layers, n_features, shots, theta, warmstart_statevector, strategy=strategy, use_optimizer=use_optimizer)"
   ]
  },
  {
   "cell_type": "code",
   "execution_count": null,
   "id": "31c7a77212169c1e",
   "metadata": {
    "ExecuteTime": {
     "end_time": "2023-10-04T14:37:43.985083600Z",
     "start_time": "2023-10-04T14:37:43.973086200Z"
    }
   },
   "outputs": [],
   "source": [
    "# Pretty Print the results of the previous cell\n",
    "import matplotlib.patches as mpatches\n",
    "\n",
    "\n",
    "def plot_counts_histogram(counts: Counts, nqubits: int, best_config: str, valid_configs: list[str]):\n",
    "    \"\"\"\n",
    "        Plots a histogram of the counts for each possible config.\n",
    "        The best config is highlighted in red and valid configs are highlighted in brown.\n",
    "\n",
    "        :param counts: dictionary containing the counts for each config that was measured\n",
    "        :param nqubits: number of qubits\n",
    "        :param best_config: valid config with the lowest energy\n",
    "        :param valid_configs: list of valid configs\n",
    "    \"\"\"\n",
    "    for i in range(0, 2 ** nqubits):\n",
    "        if not counts.keys().__contains__(np.binary_repr(i, nqubits)):\n",
    "            counts[np.binary_repr(i, nqubits)] = 0\n",
    "\n",
    "    # Sort histogram\n",
    "    sorted_keys = sorted(counts.keys())\n",
    "    sorted_items = sorted(counts.items(), key=lambda item: item[0])\n",
    "    sorted_values = [item[1] for item in sorted_items]\n",
    "\n",
    "    col = []\n",
    "    for key in sorted_keys:\n",
    "        if key == best_config:\n",
    "            col.append('r')\n",
    "        elif valid_configs.__contains__(key):\n",
    "            col.append(\"brown\")\n",
    "        else:\n",
    "            col.append('b')\n",
    "\n",
    "    plt.rcParams[\"figure.figsize\"] = (40, 10)\n",
    "    plt.ylabel(\"Count\")\n",
    "    plt.xticks(rotation=70, ha=\"right\")\n",
    "    plt.bar(sorted_keys, sorted_values, width=0.5, color=col)\n",
    "\n",
    "    max_count = 0\n",
    "    for val in sorted_values:\n",
    "        if val > max_count:\n",
    "            max_count = val\n",
    "\n",
    "    for i, val in enumerate(sorted_values):\n",
    "        plt.text(x=i, y=val + max_count / 100, s=f\"{val}\", fontdict=dict(fontsize=10), horizontalalignment=\"center\")\n",
    "\n",
    "    if sorted_keys.__contains__(best_config):\n",
    "        plt.axhline(y=counts[best_config], color='r', linestyle='--')\n",
    "\n",
    "    red_patch = mpatches.Patch(color='r', label=\"best config\")\n",
    "    brown_patch = mpatches.Patch(color=\"brown\", label=\"valid config\")\n",
    "    blue_patch = mpatches.Patch(color='b', label=\"invalid config\")\n",
    "    plt.legend(handles=[red_patch, brown_patch, blue_patch], loc=\"upper right\")\n",
    "\n",
    "    plt.show()"
   ]
  },
  {
   "cell_type": "code",
   "execution_count": null,
   "id": "b9e7d7b8dc3b04fa",
   "metadata": {
    "ExecuteTime": {
     "end_time": "2023-10-04T14:37:44.503085500Z",
     "start_time": "2023-10-04T14:37:43.976583200Z"
    }
   },
   "outputs": [],
   "source": [
    "best_config = \"000010\" # 654321\n",
    "valid_configs = [\"111111\", \"011111\", \"101111\", \"001111\", \"110111\", \"010111\", \"100111\", \"000111\", \"011011\", \"101011\", \"001011\", \"010011\", \"100011\", \"000011\", \"111101\", \"011101\", \"101101\", \"001101\", \"011001\", \"101001\", \"001001\", \"010001\", \"100001\", \"000001\", \"111110\", \"011110\", \"101110\", \"001110\", \"110110\", \"010110\", \"100110\", \"000110\", \"011010\", \"101010\", \"001010\", \"010010\", \"100010\", \"000010\"]\n",
    "\n",
    "plot_counts_histogram(counts, n_features, best_config, valid_configs)"
   ]
  },
  {
   "cell_type": "markdown",
   "id": "b5c4d251c4e9f481",
   "metadata": {},
   "source": [
    "To get a better view of the probability distribution, we can apply QAOA using the statevector simulator instead of the qasm simulator."
   ]
  },
  {
   "cell_type": "code",
   "execution_count": null,
   "id": "9ab598b49089fd7e",
   "metadata": {
    "ExecuteTime": {
     "end_time": "2023-10-04T14:37:44.521084900Z",
     "start_time": "2023-10-04T14:37:44.506082800Z"
    }
   },
   "outputs": [],
   "source": [
    "# Visualize results using the StatevectorSimulator\n",
    "def quantum_statevector(problem_circuit: Callable, hamiltonian: DictArithmetic, nqubits: int, layers: int,\n",
    "                        beta_val: float, gamma_val: float, amplitude_vector: list[float] = None)\\\n",
    "        -> tuple[list[float], QuantumCircuit]:\n",
    "    qc, beta, gamma = qaoa_circuit(problem_circuit, hamiltonian, nqubits, layers, amplitude_vector, measure=False)\n",
    "\n",
    "    # Set parameters for qc\n",
    "    qc = qc.bind_parameters({\n",
    "        beta: beta_val,\n",
    "        gamma: gamma_val\n",
    "    })\n",
    "\n",
    "    # run and measure qc\n",
    "    statevector_sim = StatevectorSimulator()\n",
    "    transpiled_qaoa = transpile(qc, statevector_sim)\n",
    "    result = statevector_sim.run(transpiled_qaoa).result()\n",
    "    probabilities = result.get_statevector().probabilities()\n",
    "\n",
    "    return probabilities, qc\n",
    "\n",
    "\n",
    "def apply_qaoa_statevector(problem_circuit: Callable, hamiltonian: DictArithmetic, layers: int = 60,\n",
    "                           n_features: int = 6, theta={\"beta\": 0.01, \"gamma\": -0.01},\n",
    "                           warmstart_statevector: list[float] = None, strategy: str = 'avg', use_optimizer: bool = True,\n",
    "                           print_res: bool = True) -> tuple[list[float], QuantumCircuit]:\n",
    "    \"\"\"\n",
    "        Applies the QAOA Algorithm for the given hamiltonian in QUSO/PUSO form.\n",
    "\n",
    "        :param problem_circuit: The function for creating the corresponding problem quantum circuit\n",
    "        :param hamiltonian: the hamiltonian used for creating the quantum circuit\n",
    "                            and determining the expected config cost\n",
    "        :param layers: the hyperparameter p of QAOA defining how many cost-mixer-layers will be in the circuit\n",
    "        :param n_features: the number of independent variables in the input hamiltonian\n",
    "        :param theta: dictionary with keys \"beta\" and \"gamma\" that parameterize the QAOA circuit,\n",
    "                      used as start value when optimizing\n",
    "        :param warmstart_statevector: statevector to warmstart to, instead of creating an equal superposition\n",
    "        :param strategy: the strategy used to compute the expected config cost\n",
    "        :param use_optimizer: indicates whether to optimize theta using classical optimizers\n",
    "        :param print_res: indicates whether the results of the optimization should be printed\n",
    "    \"\"\"\n",
    "    # define expectation function for optimizers\n",
    "    expectation = get_expectation_statevector(problem_circuit, hamiltonian, n_features, layers, warmstart_statevector,\n",
    "                                              strategy=strategy)\n",
    "\n",
    "    # optimize beta and gamma\n",
    "    if use_optimizer:\n",
    "        theta = optimize_parameters(theta, expectation, print_res)\n",
    "\n",
    "    probabilities, qc = quantum_statevector(problem_circuit, hamiltonian, n_features, layers, theta[\"beta\"],\n",
    "                                            theta[\"gamma\"], warmstart_statevector)\n",
    "    return probabilities, qc"
   ]
  },
  {
   "cell_type": "code",
   "execution_count": null,
   "id": "13ead0aa565db92c",
   "metadata": {
    "ExecuteTime": {
     "end_time": "2023-10-04T14:38:33.907085900Z",
     "start_time": "2023-10-04T14:37:44.511584100Z"
    }
   },
   "outputs": [],
   "source": [
    "probabilities, _ = apply_qaoa_statevector(problem_circuit, hamiltonian, layers, n_features, theta, warmstart_statevector, strategy=strategy, use_optimizer=use_optimizer, print_res=False)\n",
    "probabilities_dict = {}\n",
    "for i in range(0, 2 ** n_features):\n",
    "    probabilities_dict[(np.binary_repr(i, width=6))] = round(probabilities[i], 4)\n",
    "\n",
    "plot_counts_histogram(probabilities_dict, n_features, best_config, valid_configs)"
   ]
  },
  {
   "cell_type": "markdown",
   "id": "a82e2528570e0276",
   "metadata": {
    "jp-MarkdownHeadingCollapsed": true,
    "tags": []
   },
   "source": [
    "## Quadratization of PUBOs\n",
    "\n",
    "Instead of using the PUBO model directly, we can also quadratize the model and use the corresponding QUBO model.\n",
    "For example, if we transform the clause $(x_i \\vee x_j \\vee x_k)$, we get the following penalty:\n",
    "\n",
    "$$1 - x_i - x_j - x_k + x_i x_j + x_i x_k + x_j x_k - x_i x_j x_k$$\n",
    "\n",
    "By introducing a new auxiliary variable $w_{ij} = x_i x_j$ we can rewrite this penalty as:\n",
    "\n",
    "$$1 - x_i - x_j - x_k + w_{ij} + x_i x_k + x_j x_k - w_{ij} x_k$$\n",
    "\n",
    "This term no longer contains a product of three variables but products of at most two variables and can therefore be used in a QUBO model.\n",
    "The method for reduction by substitution above was first described by I. G. Rosenberg in \"Reduction of Bivalent Maximization to the Quadratic Case\" (1975) and can be found in a collection of different quadratization methods by [Dattani](https://arxiv.org/pdf/1901.04405.pdf).\n",
    "\n",
    "We use the `to_quso()` function from the `qubovert` library to quadratize the PUBO model.\n",
    "After applying QAOA to the resulting QUBO model, we can use the `convert_ancilla_bit_results()` function to convert the results back to the original PUBO model."
   ]
  },
  {
   "cell_type": "code",
   "execution_count": null,
   "id": "dfbcdf2b1073e6db",
   "metadata": {
    "ExecuteTime": {
     "end_time": "2023-10-04T14:38:33.922082200Z",
     "start_time": "2023-10-04T14:38:33.911083500Z"
    }
   },
   "outputs": [],
   "source": [
    "from typing import Any\n",
    "\n",
    "\n",
    "def qubo_problem_circuit(hamiltonian: DictArithmetic, nqubits: int) -> tuple[QuantumCircuit, Parameter]:\n",
    "    \"\"\"\n",
    "        Creates a quantum circuit for the given hamiltonian\n",
    "\n",
    "        :param hamiltonian: The hamiltonian to create the circuit for\n",
    "        :param nqubits: The number of qubits to create the circuit for\n",
    "    \"\"\"\n",
    "    gamma = Parameter(\"$\\\\gamma$\")\n",
    "    qc_p = QuantumCircuit(nqubits)\n",
    "    normalization = math.pi/max(hamiltonian.values())\n",
    "    \n",
    "    for key, factor in hamiltonian.items():\n",
    "        acting_qubits = len(key)\n",
    "        \n",
    "        if acting_qubits == 0:\n",
    "            pass  # identity case\n",
    "        elif acting_qubits == 1:\n",
    "            # single qubit term\n",
    "            q1 = key[0]\n",
    "            qc_p.rz(2 * normalization * factor * gamma, q1)\n",
    "        elif acting_qubits == 2:\n",
    "            # quadratic qubit term\n",
    "            q1 = key[0]\n",
    "            q2 = key[1]\n",
    "            qc_p.rzz(2 * normalization * factor * gamma, q1, q2)\n",
    "        else:\n",
    "            # non quadratic, error\n",
    "            RuntimeError(f\"Non quadratic term in hamiltonian: {key, factor}\")\n",
    "            \n",
    "    return qc_p, gamma\n",
    "\n",
    "\n",
    "def get_hamiltonian_dimension(hamiltonian):\n",
    "    \"\"\"\n",
    "        Returns the dimension of the hamiltonian (number of qubits)\n",
    "    \"\"\"\n",
    "    nqubits = 0\n",
    "    for key in hamiltonian.keys():\n",
    "        for qubit in key:\n",
    "            nqubits = qubit if qubit > nqubits else nqubits\n",
    "    return nqubits + 1\n",
    "\n",
    "\n",
    "def convert_ancilla_bit_results(results: dict[str, Any], nfeatures: int) -> dict[str, Any]:\n",
    "    \"\"\"\n",
    "        Converts the results from the quantum computer to the results for the original problem\n",
    "\n",
    "        :param results: The results from the quantum computer\n",
    "        :param nfeatures: The number of features used in the problem\n",
    "    \"\"\"\n",
    "    new_results = {}\n",
    "    for key, value in results.items():\n",
    "        new_key = key[-nfeatures:]\n",
    "        if new_key in new_results:\n",
    "            new_results[new_key] += value\n",
    "        else:\n",
    "            new_results[new_key] = value\n",
    "    return new_results"
   ]
  },
  {
   "cell_type": "code",
   "execution_count": null,
   "id": "291ae7729ff65205",
   "metadata": {
    "ExecuteTime": {
     "end_time": "2023-10-04T14:38:58.941584600Z",
     "start_time": "2023-10-04T14:38:33.917584300Z"
    }
   },
   "outputs": [],
   "source": [
    "hamiltonian = combined_model.to_quso()\n",
    "\n",
    "print(\"Quadratized Hamiltonian:\")\n",
    "pprint(hamiltonian)\n",
    "\n",
    "probabilities, _ = apply_qaoa_statevector(qubo_problem_circuit, hamiltonian, layers, get_hamiltonian_dimension(hamiltonian), theta, warmstart_statevector, strategy=strategy, use_optimizer=use_optimizer, print_res=True)\n",
    "probabilities_dict = {}\n",
    "for i in range(0, 2 ** get_hamiltonian_dimension(hamiltonian)):\n",
    "    probabilities_dict[np.binary_repr(i, width=get_hamiltonian_dimension(hamiltonian))] = probabilities[i]\n",
    "\n",
    "probabilities_dict = convert_ancilla_bit_results(probabilities_dict, n_features)\n",
    "\n",
    "for key in probabilities_dict:\n",
    "    probabilities_dict[key] = round(probabilities_dict[key], 4)\n",
    "\n",
    "plot_counts_histogram(probabilities_dict, n_features, best_config, valid_configs)"
   ]
  },
  {
   "cell_type": "markdown",
   "id": "2d14f28c9ee7f1ac",
   "metadata": {
    "jp-MarkdownHeadingCollapsed": true,
    "tags": []
   },
   "source": [
    "## Configuration Prioritization using PUBO models\n",
    "\n",
    "If we have an arbitrary SAT instance, we can use QAOA to find the most likely configuration. We can then exclude the configuration we found from the SAT instance by adding the following clause:\n",
    "\n",
    "$$x_i \\vee \\dots \\vee x_j \\vee \\neg x_k \\vee \\dots \\vee \\neg x_l$$\n",
    "\n",
    "Where $x_i$ to $x_j$ are the variables that have the value $0$ for the found configuration and $x_k$ to $x_l$ are the variables that have the value $1$ for the found configuration.\n",
    "\n",
    "We can then run QAOA again with this new SAT instance to find the next most likely configuration.\n",
    "We can repeat this process until we have found a certain number of configurations, thus creating a prioritized list of configurations."
   ]
  },
  {
   "cell_type": "code",
   "execution_count": null,
   "id": "a67b45351ded51a5",
   "metadata": {
    "ExecuteTime": {
     "end_time": "2023-10-04T14:38:58.958083800Z",
     "start_time": "2023-10-04T14:38:58.945583400Z"
    }
   },
   "outputs": [],
   "source": [
    "from qubovert import PCBO\n",
    "\n",
    "\n",
    "def exclude_config(sat_instance: list[list[tuple[boolean_var, bool]]], boolean_vars: list[boolean_var], config: str)\\\n",
    "        -> list[list[tuple[boolean_var, bool]]]:\n",
    "    \"\"\"\n",
    "        Excludes the given configuration from the given sat instance by adding a clause to the sat instance\n",
    "\n",
    "        :param sat_instance: The sat instance to exclude the configuration from\n",
    "        :param boolean_vars: The variables of the sat instance\n",
    "        :param config: The configuration to exclude\n",
    "    \"\"\"\n",
    "    sat_exclusion_clause = []\n",
    "    for index, value in enumerate(config[::-1]):\n",
    "        if value == '0':\n",
    "            sat_exclusion_clause.append((boolean_vars[index], True))\n",
    "        else:\n",
    "            sat_exclusion_clause.append((boolean_vars[index], False))\n",
    "    sat_instance.append(sat_exclusion_clause)\n",
    "    return sat_instance\n",
    "\n",
    "\n",
    "def convert_clause_to_penalty(clause: list[tuple[boolean_var, bool]]) -> tuple[PCBO, bool]:\n",
    "    \"\"\"\n",
    "        Coverts a given clause of a SAT instance in conjunctive form to the corresponding penalty\n",
    "        The clause is encoded as a list of tuples containing a boolean_var\n",
    "        and False, if the variable is negated or True otherwise\n",
    "\n",
    "        :param clause: the clause to convert\n",
    "    \"\"\"\n",
    "    penalty = PCBO() + 1\n",
    "\n",
    "    for var in clause:\n",
    "        if var[1]:\n",
    "            penalty *= (1 - var[0])\n",
    "        else:\n",
    "            penalty *= (var[0])\n",
    "    return penalty, False\n",
    "\n",
    "\n",
    "def convert_to_penalty(sat_instance: list[list[tuple[boolean_var, bool]]]) -> PCBO:\n",
    "    \"\"\"\n",
    "        Converts a given SAT instance in conjunctive form to the corresponding penalty\n",
    "        The SAT instance is encoded as a list of clauses.\n",
    "        A clause is encoded as a list of tuples containing a boolean_var\n",
    "        and False if the variable is negated or True otherwise\n",
    "\n",
    "        :param sat_instance: the SAT instance to convert\n",
    "    \"\"\"\n",
    "    penalty = PCBO()\n",
    "    for clause in sat_instance:\n",
    "        clause_penalty = convert_clause_to_penalty(clause)\n",
    "        penalty += clause_penalty[0]\n",
    "    return penalty"
   ]
  },
  {
   "cell_type": "code",
   "execution_count": null,
   "id": "4151edd5d337f22c",
   "metadata": {
    "ExecuteTime": {
     "end_time": "2023-10-04T15:07:33.653085900Z",
     "start_time": "2023-10-04T14:38:58.952583500Z"
    }
   },
   "outputs": [],
   "source": [
    "list_length = 5\n",
    "debug_output = True\n",
    "\n",
    "current_sat_instance = [[(x1, True), (x2, True)],\n",
    "                        [(x2, True), (x3, False), (x4, True)],\n",
    "                        [(x3, True), (x5, False), (x6, False)]]\n",
    "boolean_vars = [x1, x2, x3, x4, x5, x6]\n",
    "prioritized_list = []\n",
    "current_hamiltonian = combined_model.to_puso()\n",
    "for i in range(list_length):\n",
    "    probabilities, _ = apply_qaoa_statevector(problem_circuit, current_hamiltonian, strategy=strategy, print_res=False)\n",
    "    probabilities_dict = {}\n",
    "    for j in range(0, 2 ** get_hamiltonian_dimension(current_hamiltonian)):\n",
    "        probabilities_dict[(np.binary_repr(j, width=get_hamiltonian_dimension(current_hamiltonian)))] = round(probabilities[j], 4)\n",
    "\n",
    "    current_config = max(probabilities_dict, key=probabilities_dict.get)\n",
    "    current_sat_instance = exclude_config(current_sat_instance, boolean_vars, current_config)\n",
    "    new_combined_model = cost_model + alpha_sat * convert_to_penalty(current_sat_instance)\n",
    "\n",
    "    if debug_output:\n",
    "        print(\"Current hamiltonian: \" + str(current_hamiltonian))\n",
    "        plot_counts_histogram(probabilities_dict, get_hamiltonian_dimension(current_hamiltonian), best_config, valid_configs)\n",
    "        print(\"New combined model: \" + str(new_combined_model))\n",
    "\n",
    "    valid_configs.remove(current_config)\n",
    "    current_hamiltonian = new_combined_model.to_puso()\n",
    "    prioritized_list.append(current_config)\n",
    "\n",
    "print(prioritized_list)"
   ]
  }
 ],
 "metadata": {
  "kernelspec": {
   "display_name": "Python 3 (ipykernel)",
   "language": "python",
   "name": "python3"
  },
  "language_info": {
   "codemirror_mode": {
    "name": "ipython",
    "version": 3
   },
   "file_extension": ".py",
   "mimetype": "text/x-python",
   "name": "python",
   "nbconvert_exporter": "python",
   "pygments_lexer": "ipython3",
   "version": "3.11.5"
  }
 },
 "nbformat": 4,
 "nbformat_minor": 5
}
