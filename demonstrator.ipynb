{
 "cells": [
  {
   "cell_type": "markdown",
   "id": "cc638ea280c7a584",
   "metadata": {},
   "source": [
    "# Solving configuration selection and prioritization using QAOA\n",
    "\n",
    "We want to find an (almost) optimal configuration in an attributed feature model.\n",
    "This problem can be described as two subproblems: a constraint satisfaction problem and a cost optimization problem.\n",
    "\n",
    "The validity part of the problem can be described by the following boolean formulae:\n",
    "$\n",
    "(x_1 \\vee x_2) \\wedge (x_3 \\oplus x_4) \\wedge (x_5 \\implies x_6)\n",
    "\\iff\n",
    "(x_1 \\vee x_2) \\wedge (\\neg x_3 \\vee \\neg x_4) \\wedge (x_3 \\vee x_4) \\wedge (\\neg x_5 \\vee x_6)\n",
    "$\n",
    "\n",
    "The right hand side is in conjunctive normal form (CNF).\n",
    "\n",
    "The cost optimization part of the problem is described by assinging a cost to each feature, as shown in the table below.\n",
    "\n",
    "| Feature | Cost $c_i$ |\n",
    "| --- | --- |\n",
    "| $x_1$ | 30 |\n",
    "| $x_2$ | 20 |\n",
    "| $x_3$ | 25 |\n",
    "| $x_4$ | 50 |\n",
    "| $x_5$ | 10 |\n",
    "| $x_6$ | 10 |"
   ]
  },
  {
   "cell_type": "markdown",
   "id": "deccd5c1ab8079f2",
   "metadata": {},
   "source": [
    "# Quantum Approximate Optimization Algorithm\n",
    "\n",
    "The Quantum Approximate Optimization Algorithm (QAOA) is a variational quantum algorithm that is used for solving combinatorial optimization problems.\n",
    "It approximates the solution of a combinatorial optimization problem consisting of:\n",
    "- $n$ binary variables\n",
    "- $m$ clauses\n",
    "- objective function $C(\\vec z)$\n",
    "\n",
    "The quantum circuit for QAOA consists of two operators: the phase-separating operator $U_C$ and the mixing operator $U_M$.\n",
    "The two operators $U_C$ and $U_M$ are applied alternately and parametrized by the parameters $\\gamma$ and $\\beta$ respectively.\n",
    "The parameters are optimized to minimize the cost function $C(\\vec z)$ using a classical optimization algorithm.\n",
    "\n",
    "The phase-separating operator $U_C$ encodes $C$ and applies a phase shift $e^{-i \\vec \\gamma}$ on every computational basis state for every clause that is fulfilled.\n",
    "The (standard) mixing operator $U_M$ changes the amplitude of solutions using rotation gates $R_x$.\n",
    "\n",
    "Both $U_C$  and $U_M$ are then applied $p$ times according to the hyper-parameter $p \\in \\mathbf{N}$.\n",
    "Finally measurements gates are added.\n"
   ]
  },
  {
   "cell_type": "markdown",
   "id": "49aa0596d23abd1b",
   "metadata": {},
   "source": [
    "## Quantum Circuit\n",
    "\n",
    "We start by defining the parameterized circuit."
   ]
  },
  {
   "cell_type": "code",
   "execution_count": null,
   "id": "a5c0ead4446c88a8",
   "metadata": {},
   "outputs": [],
   "source": [
    "# Notebook Setup\n",
    "from IPython.core import page\n",
    "page.page = print\n",
    "\n",
    "# Imports used for examples\n",
    "from qiskit.visualization import plot_histogram\n",
    "from pprint import pprint"
   ]
  },
  {
   "cell_type": "markdown",
   "id": "7713002483f89612",
   "metadata": {},
   "source": [
    "### Initialization\n",
    "\n",
    "The initialization of the quantum circuit can either be done by creating a uniform superposition using Hadamard gates $H$ on each qubit or by using a state that has previously been found using for example another algorithm like Grover's algorithm.\n",
    "The latter can be achieved using the `initialize` method in Qiskit."
   ]
  },
  {
   "cell_type": "code",
   "execution_count": null,
   "id": "26add6f575417e1",
   "metadata": {},
   "outputs": [],
   "source": [
    "# Uniform Superposition Initialization\n",
    "from configproblem.fragments.quantum_states import superposition_circuit, add_all_hadamards\n",
    "%psource superposition_circuit\n",
    "%psource add_all_hadamards"
   ]
  },
  {
   "cell_type": "code",
   "execution_count": null,
   "id": "28a9fb034e80ef10",
   "metadata": {},
   "outputs": [],
   "source": [
    "superposition_circuit(2).draw(output=\"mpl\")"
   ]
  },
  {
   "cell_type": "markdown",
   "id": "7976582ca2bb8c75",
   "metadata": {},
   "source": [
    "### Mixing Operator\n",
    "\n",
    "#### Standard Mixer\n",
    "\n",
    "The standard mixing operator $U_M$ applies a rotation around $X$ of $2*\\beta$ on every qubit using $R_x$ gates."
   ]
  },
  {
   "cell_type": "code",
   "execution_count": null,
   "id": "53f57057ae2ea8b1",
   "metadata": {},
   "outputs": [],
   "source": [
    "# Mixer Hamiltonian\n",
    "import configproblem.qaoa.qaoa_mixer as mixer\n",
    "%psource mixer.standard_mixer"
   ]
  },
  {
   "cell_type": "code",
   "execution_count": null,
   "id": "64b4be626b7f737b",
   "metadata": {},
   "outputs": [],
   "source": [
    "from qiskit.circuit import Parameter\n",
    "\n",
    "example_qc_mixer = mixer.standard_mixer(2, Parameter(\"$\\\\beta$\"))\n",
    "example_qc_mixer.draw(output=\"mpl\")"
   ]
  },
  {
   "cell_type": "markdown",
   "id": "a216af09467ca447",
   "metadata": {},
   "source": [
    "#### Grover Mixer\n",
    "\n",
    "The Grover mixer is another mixing operator that has a similar structure to the circuit used in Grover's algorithm.\n",
    "It consists of the inverse of the state preparation circuit, followed by $X$ gates on each qubit.\n",
    "In the middle is a multi-controlled $R_z$ gate and then again $X$ gates on each qubit followed by the (not inversed) state preparation circuit."
   ]
  },
  {
   "cell_type": "code",
   "execution_count": null,
   "id": "99665337bf70c852",
   "metadata": {},
   "outputs": [],
   "source": [
    "%psource mixer.grover_mixer"
   ]
  },
  {
   "cell_type": "code",
   "execution_count": null,
   "id": "549971f7f006515a",
   "metadata": {},
   "outputs": [],
   "source": [
    "# To work with the Statevector Simulator we need to call `decompose` on the circuit. Thus, the output here is not exactly the same as described above.\n",
    "\n",
    "example_qc_grover_mixer = mixer.grover_mixer(2, Parameter(\"$\\\\beta$\"))\n",
    "example_qc_grover_mixer.draw(output=\"mpl\")"
   ]
  },
  {
   "cell_type": "markdown",
   "id": "d22c8d3a60d76e11",
   "metadata": {},
   "source": [
    "#### Warmstart Mixer\n",
    "\n",
    "A simple mixer used when warmstarting the QAOA algorithm can be achieved by applying the inverse of the state preparation circuit, followed by $R_z$ gates on each qubit and then again the (not inversed) state preparation circuit."
   ]
  },
  {
   "cell_type": "code",
   "execution_count": null,
   "id": "9996228346e44f72",
   "metadata": {},
   "outputs": [],
   "source": [
    "%psource mixer.warmstart_mixer"
   ]
  },
  {
   "cell_type": "code",
   "execution_count": null,
   "id": "227b81ffc9cba2a1",
   "metadata": {},
   "outputs": [],
   "source": [
    "dummy_statevector = [0.5, 0.5, 0.5, 0.5]\n",
    "\n",
    "example_qc_warmstart_mixer = mixer.warmstart_mixer(2, Parameter(\"$\\\\beta$\"), statevector=dummy_statevector)\n",
    "example_qc_warmstart_mixer.draw(output=\"mpl\")"
   ]
  },
  {
   "cell_type": "markdown",
   "id": "17b02cdefee56e06",
   "metadata": {},
   "source": [
    "### Phase-separating Operator\n",
    "\n",
    "The phase-separating operator $U_C$ encodes $C$ and can be derived from a cost Hamiltonian $H_C$ in Ising-form.\n",
    "\n",
    "For feature models where the associated SAT problem in CNF contains only clauses with at most two literals, the cost Hamiltonian can be constructed using $R_z$ and $R_{zz}$ gates.\n",
    "For clauses with more than two literals, the cost Hamiltonian can be constructed using multi-controlled $R_z$ gates which can be decomposed into multiple $CNOT$ gates and one $R_z$ gate.\n",
    "\n",
    "We later describe how such a Hamiltonian can be constructed for our concrete problem class."
   ]
  },
  {
   "cell_type": "code",
   "execution_count": null,
   "id": "bb2e35441421230",
   "metadata": {},
   "outputs": [],
   "source": [
    "# Hamiltonians may be described as a dict of tuples describing acting qubits and a value for each clause\n",
    "# hamiltonian = {(q1?, q2?, ...) : factor}\n",
    "sat_hamiltonian = {\n",
    "    () : 1,\n",
    "    (0,): 0.25,\n",
    "    (1,): 0.25,\n",
    "    (4,): -0.25,\n",
    "    (5,): 0.25,\n",
    "    (0, 1): 0.25,\n",
    "    (2, 3): 0.5,\n",
    "    (4, 5): -0.25\n",
    "}"
   ]
  },
  {
   "cell_type": "markdown",
   "id": "3bf1ad23bb975baf",
   "metadata": {},
   "source": [
    "Clauses on one qubit are then translated into $R_z$ rotations and clauses on two qubits are translated into the symmetric $R_{zz}$ gate."
   ]
  },
  {
   "cell_type": "code",
   "execution_count": null,
   "id": "8eba72421e80c249",
   "metadata": {},
   "outputs": [],
   "source": [
    "# Cost Hamiltonian\n",
    "from configproblem.qaoa.qaoa_mincost_sat import problem_circuit as qubo_problem_circuit\n",
    "from configproblem.qaoa.qaoa_mincost_k_sat import problem_circuit as pubo_problem_circuit\n",
    "%psource problem_circuit"
   ]
  },
  {
   "cell_type": "code",
   "execution_count": null,
   "id": "23f6eefc16c0462f",
   "metadata": {},
   "outputs": [],
   "source": [
    "example_qc_problem = qubo_problem_circuit(sat_hamiltonian, 6, Parameter(\"$\\\\gamma$\"))\n",
    "example_qc_problem.draw(output=\"mpl\")"
   ]
  },
  {
   "cell_type": "markdown",
   "id": "c39c45875032f623",
   "metadata": {},
   "source": [
    "Clauses on more than two qubits are translated into multi-controlled $R_z$ gates which are decomposed into $CNOT$ gates and one $R_z$ gate."
   ]
  },
  {
   "cell_type": "code",
   "execution_count": null,
   "id": "270c25df6a639620",
   "metadata": {},
   "outputs": [],
   "source": [
    "# Example for a multi-controlled R_z gate\n",
    "from configproblem.qaoa.qaoa_mincost_k_sat import k_rz_gate\n",
    "from qiskit import QuantumCircuit\n",
    "\n",
    "qubits = [0, 1, 2]\n",
    "multi_controlled_rz = k_rz_gate(QuantumCircuit(len(qubits)), qubits, 1)\n",
    "multi_controlled_rz.draw(output='mpl')"
   ]
  },
  {
   "cell_type": "markdown",
   "id": "1b87a3dbe9626ceb",
   "metadata": {},
   "source": [
    "### QAOA circuit\n",
    "\n",
    "Now we can create a QAOA circuit for a problem hamiltonian."
   ]
  },
  {
   "cell_type": "code",
   "execution_count": null,
   "id": "70edf5037bad8a8c",
   "metadata": {},
   "outputs": [],
   "source": [
    "# QAOA Circuit\n",
    "from configproblem.qaoa.qaoa_application import qaoa_circuit\n",
    "%psource qaoa_circuit"
   ]
  },
  {
   "cell_type": "code",
   "execution_count": null,
   "id": "fd2ff3f74536b2d8",
   "metadata": {},
   "outputs": [],
   "source": [
    "example_qaoa_circuit, _, _ = qaoa_circuit(qubo_problem_circuit, mixer.standard_mixer, sat_hamiltonian, 6, 1, amplitude_vector=None)\n",
    "example_qaoa_circuit.draw(output=\"mpl\")"
   ]
  },
  {
   "cell_type": "markdown",
   "id": "5050e4c98f93233b",
   "metadata": {},
   "source": [
    "### Quantum Routine\n",
    "\n",
    "The circuit is executed and the circuit and the results are returned."
   ]
  },
  {
   "cell_type": "code",
   "execution_count": null,
   "id": "b93edaf854a2843b",
   "metadata": {},
   "outputs": [],
   "source": [
    "# QAOA Quantum Procedure\n",
    "from configproblem.qaoa.qaoa_application import quantum\n",
    "%psource quantum"
   ]
  },
  {
   "cell_type": "code",
   "execution_count": null,
   "id": "d85fe4c329e18b25",
   "metadata": {},
   "outputs": [],
   "source": [
    "counts, qc = quantum(qubo_problem_circuit, mixer.standard_mixer, sat_hamiltonian, 6, 1, [1], [1])\n",
    "plot_histogram(counts, figsize=(40, 10))"
   ]
  },
  {
   "cell_type": "markdown",
   "id": "7fbad3ced9a96c44",
   "metadata": {},
   "source": [
    "### Parameter Optimization\n",
    "\n",
    "The parameters $\\gamma$ and $\\beta$ are optimized using a classical optimization algorithm.\n",
    "The current implementation supports the `COBYLA`, `Powell`, `BFGS`, `Nelder-Mead` and `CG` algorithms from the `scipy` package."
   ]
  },
  {
   "cell_type": "code",
   "execution_count": null,
   "id": "57c156d132504c35",
   "metadata": {},
   "outputs": [],
   "source": [
    "from configproblem.qaoa.qaoa_parameter_optimization import get_optimizer\n",
    "%psource get_optimizer"
   ]
  },
  {
   "cell_type": "markdown",
   "id": "5a23c5c91c199ac3",
   "metadata": {},
   "source": [
    "# Creating a problem specific Hamiltonian\n",
    "\n",
    "## Creating a cost function satisfying features\n",
    "\n",
    "[Glover](https://arxiv.org/abs/1811.11538) described quadratic penalties for the 2-SAT problem by treating inputs as $0/1$ values, forming a traditional constraint and then deriving a quadratic penalty. We summarize their work here:\n",
    "\n",
    "| Clause Type   | Example                        | Constraint                 | Penalty                     |\n",
    "|---------------|--------------------------------|----------------------------|-----------------------------|\n",
    "| No Negations  | $(x_i \\vee x_j)$               | $x_i + x_j \\geq 1$         | $(1 - x_i - x_j + x_i x_j)$ |\n",
    "| One Negation  | $(x_i \\vee \\lnot{}x_j)$        | $x_i + (1-x_j) \\geq 1$     | $(x_j - x_i x_j)$           |\n",
    "| Two Negations | $(\\lnot{}x_i \\vee \\lnot{}x_j)$ | $(1-x_i) + (1-x_j) \\geq 1$ | $(x_i x_j)$                 |\n",
    "\n",
    "Using these penalties we can transform our example into a QUBO model.\n",
    "\n",
    "$$\n",
    "y(\\vec x) = 2-x_1-x_2-x_3-x_4+x_5+x_1*x_2+2*x_3*x_4-x_5*x_6\n",
    "$$\n",
    "\n",
    "$y(\\vec x)$ is the integer of unsatisfied clauses. In other words, $y=0$ indicates that all clauses are satisfied, which is desired for this problem.\n",
    "\n",
    "To get the penalties for general clauses $(x_i \\vee \\dots \\vee x_j \\vee \\neg x_k \\vee \\dots \\vee \\neg x_l)$ which can contain more than two literals, we can use the following term to convert the clause into a Polynomial Unconstrained Binary Optimization (PUBO) model:\n",
    "\n",
    "$$(1 - x_i) \\dots (1 - x_j) (x_k) \\dots (x_l)$$\n",
    "\n",
    "If the clause consists of exactly two boolean variables, this is equivalent to the quadratic penalties described above.\n",
    "\n",
    "## Creating a cost function for feature costs\n",
    "\n",
    "For the feature costs, we can formulate a sum that adds a features cost if it is in the input vector $\\vec x$.\n",
    "$$\n",
    "k(\\vec x) = \\sum_{x}^{} c_i x_i\n",
    "$$\n",
    "\n",
    "\n",
    "## Combining the functions\n",
    "In our example, we want to find a valid configuration with the minimum cost, so we sum the two previous functions and add a penalty factor $\\alpha$ to be able to change the influence of our SAT constraints.\n",
    "\n",
    "$$\n",
    "f(\\vec x) = k(\\vec x) + \\alpha y(\\vec x)\n",
    "$$\n",
    "\n",
    "We assume $\\alpha \\gg 0$, the exact value probably depends on the value of $k(\\vec x)$.\n",
    "\n",
    "## Forming Hamiltonians\n",
    "We got our QUBO cost function defined. We now need to transform the Binary input space $x_i \\in \\{0,1\\}$ to the Ising Spin model of $z_i \\in \\{-1, 1\\}$. \n",
    "\n",
    "Replace $x_i$ with $z_i = 2x_i-1$ meaning $x_i = \\frac{1 - z_i}{2}$ (Note that switching the sign changes the eigenvectors)\n",
    "\n",
    "### Cost Hamiltonian for the SAT part\n",
    "Before applying it to the entire function, let's first consider only $y(\\vec x)$.\n",
    "\n",
    "Ising Form:\n",
    "$$\n",
    "y(\\vec z) = 2-\\frac{1-z_1}{2}-\\frac{1-z_2}{2}-\\frac{1-z_3}{2}-\\frac{1-z_4}{2}+\\frac{1-z_5}{2}+\\frac{1-z_1}{2}*\\frac{1-z_2}{2}+2*\\frac{1-z_3}{2}*\\frac{1-z_4}{2}-\\frac{1-z_5}{2}*\\frac{1-z_6}{2}\n",
    "$$\n",
    "Simplified to (not really needed):\n",
    "$$ \n",
    "y(\\vec z) = (4 + z_2 + z_1 (1 + z_2) + 2 z_3 z_4 + z_6 - z_5 (1 + z_6))*\\frac{1}{4}\n",
    "$$\n",
    "Which expands to:\n",
    "$$\n",
    "y(\\vec z) = 1 + z_1\\frac{1}{4} + z_2\\frac{1}{4} + z_1 z_2\\frac{1}{4} + z_3 z_4 \\frac{1}{2} - z_5\\frac{1}{4} + z_6\\frac{1}{4} - z_5 z_6 \\frac{1}{4}\n",
    "$$\n",
    "And leaves us with a cost hamiltonian $H_v$ with Pauli-Z-Gates $\\sigma^z_i$ and an Identity $I$:\n",
    "$$\n",
    "H_v = 1*I + \\sigma^z_1\\frac{1}{4} + \\sigma^z_2\\frac{1}{4} + \\sigma^z_1 \\sigma^z_2\\frac{1}{4} + \\sigma^z_3 \\sigma^z_4 \\frac{1}{2} - \\sigma^z_5\\frac{1}{4} + \\sigma^z_6\\frac{1}{4} - \\sigma^z_5 \\sigma^z_6 \\frac{1}{4}\n",
    "$$\n",
    "\n",
    "### Cost Hamiltonian for the feature costs\n",
    "We can expand the feature costs in our example according to the table above.\n",
    "$$\n",
    "k(\\vec x) = \\sum_{x}^{} c_i x_i = 30*x_1 + 20*x_2 + 25*x_3 + 50*x_4 + 10*x_5 + 10*x_6\n",
    "$$\n",
    "Which we then again transform into Ising form.\n",
    "\n",
    "$$\n",
    "k(\\vec z) = 15*(1-z_1) + 10*(1-z_2)+ 12.5*(1-z_3) + 25*(1-z_4) + 5*(1-z_5) + 5*(1-z_6) \\\\\n",
    "k(\\vec z) = 72.5 - 15 z_1 - 10 z_2 - 12.5 z_3 - 25 z_4 - 5 z_5 - 5 z_6\n",
    "$$\n",
    "\n",
    "Which leaves us with our cost Hamiltonian $H_{\\mathit{fc}}$\n",
    "$$\n",
    "H_{\\mathit{fc}} = 72.5*I - 15 \\sigma^z_1 - 10 \\sigma^z_2 - 12.5 \\sigma^z_3 - 25 \\sigma^z_4 - 5 \\sigma^z_5 - 5 \\sigma^z_6\n",
    "$$\n",
    "\n",
    "### Combining Hamiltonians\n",
    "\n",
    "All that's left to do is choosing a suitable $\\alpha$ and combining the functions.\n",
    "\n",
    "We choose $\\alpha = 200$ in this case.\n",
    "\n",
    "$$\n",
    "H_{C} = H_{\\mathit{fc}} + \\alpha ~ H_v\n",
    "$$\n",
    "\n",
    "$$\n",
    "H_{C} = 72.5*I - 15 \\sigma^z_1 - 10 \\sigma^z_2 - 12.5 \\sigma^z_3 - 25 \\sigma^z_4 - 15 \\sigma^z_5 - 5 \\sigma^z_6  + 200*I + 50 \\sigma^z_1 + 50 \\sigma^z_2 + 50 \\sigma^z_1 \\sigma^z_2 + 100 \\sigma^z_3 \\sigma^z_4 - 50 \\sigma^z_5 + 50 \\sigma^z_6 - 50 \\sigma^z_5 \\sigma^z_6\n",
    "$$\n",
    "\n",
    "simplified to\n",
    "\n",
    "$$\n",
    "H_{C} = 272.5*I + 35 \\sigma^z_1 + 40 \\sigma^z_2 - 12.5 \\sigma^z_3 -25 \\sigma^z_4 - 55 \\sigma^z_5 + 45 \\sigma^z_6 + 50 \\sigma^z_1 \\sigma^z_2 + 100 \\sigma^z_3 \\sigma^z_4 - 50 \\sigma^z_5 \\sigma^z_6\n",
    "$$\n",
    "\n",
    "We can implement such a Hamiltonian $H_{C}$ using the `qubovert` library and solve small instances via bruteforce."
   ]
  },
  {
   "cell_type": "code",
   "outputs": [],
   "source": [
    "from configproblem.util.hamiltonian_math import solve_bruteforce\n",
    "%psource solve_bruteforce"
   ],
   "metadata": {
    "collapsed": false
   },
   "id": "c183288d694b8ccc",
   "execution_count": null
  },
  {
   "cell_type": "code",
   "outputs": [],
   "source": [
    "from qubovert import spin_var\n",
    "# define spin variables \n",
    "z1, z2, z3, z4, z5, z6 = spin_var('z1'), spin_var('z2'), spin_var('z3'), spin_var('z4'), spin_var('z5'), spin_var('z6')\n",
    "\n",
    "# Our manually calculated hamiltonian\n",
    "featcost_model = 272.5 + 35 * z1 + 40 * z2 - 12.5 * z3 - 25 * z4 - 55 * z5 + 45 * z6 + 50 * z1 * z2 + 100 * z3 * z4 - 50 * z5 * z6\n",
    "solve_bruteforce(featcost_model)"
   ],
   "metadata": {
    "collapsed": false
   },
   "id": "9418e7f69403191a",
   "execution_count": null
  },
  {
   "cell_type": "markdown",
   "source": [
    "We can also define the SAT ($H_v$) and cost ($H_{\\mathit{fc}}$) Hamiltonians separately and combine them afterwards."
   ],
   "metadata": {
    "collapsed": false
   },
   "id": "bd9ddcfc85ffd87b"
  },
  {
   "cell_type": "code",
   "outputs": [],
   "source": [
    "# cost and sat individually\n",
    "from qubovert import boolean_var\n",
    "\n",
    "# define binary vars\n",
    "x1, x2, x3, x4, x5, x6 = boolean_var('x1'), boolean_var('x2'), boolean_var('x3'), boolean_var('x4'), boolean_var('x5'), boolean_var('x6')\n",
    "\n",
    "# SAT Penalty\n",
    "alpha_sat = 200 # 1e6\n",
    "\n",
    "# SAT QUBO\n",
    "sat_model = alpha_sat * (2 - x1 - x2 - x3 - x4 + x5 + x1 * x2 + 2 * x3 * x4 - x5 * x6)\n",
    "\n",
    "# Cost QUBO\n",
    "cost_model = 30*x1 + 20*x2 + 25*x3 + 50*x4 + 10*x5 + 10*x6\n",
    "\n",
    "# Combine models\n",
    "combined_model = sat_model +  cost_model\n",
    "print(\"QUBO Combined Model:\")\n",
    "pprint(combined_model)\n",
    "print(\"Ising Combined Model: \")\n",
    "combined_hamiltonian = combined_model.to_quso()\n",
    "print(combined_hamiltonian)\n",
    "\n",
    "solve_bruteforce(combined_model)"
   ],
   "metadata": {
    "collapsed": false
   },
   "id": "fac7e2771b05563",
   "execution_count": null
  },
  {
   "cell_type": "markdown",
   "source": [
    "## Classical Routine\n",
    "On the classical side we now need functions to evaluate $C$, which correspond to computing the energy of the Hamiltonian for a specific measured output (a configuration in our case) by `compute_config_energy`."
   ],
   "metadata": {
    "collapsed": false
   },
   "id": "64afe8f40208c1e3"
  },
  {
   "cell_type": "code",
   "outputs": [],
   "source": [
    "from configproblem.util.hamiltonian_math import compute_config_energy\n",
    "%psource compute_config_energy"
   ],
   "metadata": {
    "collapsed": false
   },
   "id": "6fa28651b70aed15",
   "execution_count": null
  },
  {
   "cell_type": "markdown",
   "source": [
    "As the circuit is executed multiple times the function `compute_hamiltonian_energy` can be used with different strategies.\n",
    "Currently, we provide average, top and minimum strategies and the best one to use is `'avg'`."
   ],
   "metadata": {
    "collapsed": false
   },
   "id": "bdcf56cdcd0e35c1"
  },
  {
   "cell_type": "code",
   "outputs": [],
   "source": [
    "from configproblem.util.hamiltonian_math import compute_hamiltonian_energy, hamiltonian_strategy_average, hamiltonian_strategy_top, hamiltonian_strategy_min\n",
    "%psource compute_hamiltonian_energy\n",
    "%psource hamiltonian_strategy_average\n",
    "%psource hamiltonian_strategy_top\n",
    "%psource hamiltonian_strategy_min"
   ],
   "metadata": {
    "collapsed": false
   },
   "id": "b93a5ed368d6aad5",
   "execution_count": null
  },
  {
   "cell_type": "markdown",
   "source": [
    "We can then define a function that given a beta and gamma as input creates a quantum circuit, executes it multiple times and returns the energy.\n",
    "\n",
    "This function can be used in a classical optimizer."
   ],
   "metadata": {
    "collapsed": false
   },
   "id": "5bc2603d7a0fe154"
  },
  {
   "cell_type": "code",
   "outputs": [],
   "source": [
    "from configproblem.qaoa.qaoa_application import get_expectation\n",
    "%psource get_expectation"
   ],
   "metadata": {
    "collapsed": false
   },
   "id": "9dae88a52d65a3f2",
   "execution_count": null
  },
  {
   "cell_type": "markdown",
   "source": [
    "We can visualize the cost landscape using $f$-$mu$ and $\\beta$-$\\gamma$ plots."
   ],
   "metadata": {
    "collapsed": false
   },
   "id": "990137e27da865e2"
  },
  {
   "cell_type": "code",
   "outputs": [],
   "source": [
    "from configproblem.util.visualization import plot_beta_gamma_cost_landscape, plot_f_mu_cost_landscape\n",
    "# Plot cost landscape for different values of beta and gamma\n",
    "hamiltonians = [{'hamiltonian': sat_hamiltonian, 'name': 'SAT'},\n",
    "                {'hamiltonian': cost_model.to_quso(), 'name': 'COST'},\n",
    "                {'hamiltonian': combined_hamiltonian, 'name': 'COMBINED'}]\n",
    "strategies = ['min', 'avg', 'top']\n",
    "plot_beta_gamma_cost_landscape(qubo_problem_circuit, mixer.standard_mixer, hamiltonians, strategies, 6, 0.1)\n",
    "\n",
    "# Plot cost landscape for different f and mu\n",
    "plot_f_mu_cost_landscape(combined_hamiltonian, 6)"
   ],
   "metadata": {
    "collapsed": false
   },
   "id": "9167db878051e58c",
   "execution_count": null
  },
  {
   "cell_type": "markdown",
   "source": [
    "# Applying QAOA\n",
    "\n",
    "Finally, we can run the whole algorithm for a specific problem Hamiltonian."
   ],
   "metadata": {
    "collapsed": false
   },
   "id": "c75b9d658f16baf4"
  },
  {
   "cell_type": "code",
   "outputs": [],
   "source": [
    "from configproblem.qaoa.qaoa_application import apply_qaoa_statevector\n",
    "%psource apply_qaoa_statevector"
   ],
   "metadata": {
    "collapsed": false
   },
   "id": "c009d5f26b1cab4e",
   "execution_count": null
  },
  {
   "cell_type": "code",
   "outputs": [],
   "source": [
    "import configproblem.qaoa.qaoa_parameter_optimization as parameter_optimization\n",
    "from configproblem.util.hamiltonian_math import get_hamiltonian_dimension\n",
    "import numpy as np\n",
    "\n",
    "# QAOA Example Application Using Optimizer\n",
    "hamiltonian = combined_hamiltonian # min-cost SAT\n",
    "# hamiltonian = sat_model.to_quso()   # just SAT\n",
    "\n",
    "# warmstart array for specific SAT instance of this notebook\n",
    "warmstart_statevector = \\\n",
    "      [0.        , 0.        , 0.        , 0.        , 0.        ,\n",
    "       0.232379  , 0.28809721, 0.20976177, 0.        , 0.25298221,\n",
    "       0.19493589, 0.24899799, 0.        , 0.        , 0.        ,\n",
    "       0.        , 0.        , 0.        , 0.        , 0.        ,\n",
    "       0.        , 0.        , 0.        , 0.        , 0.        ,\n",
    "       0.        , 0.        , 0.        , 0.        , 0.        ,\n",
    "       0.        , 0.        , 0.        , 0.        , 0.        ,\n",
    "       0.        , 0.        , 0.20976177, 0.17888544, 0.23021729,\n",
    "       0.        , 0.24899799, 0.23664319, 0.29664794, 0.        ,\n",
    "       0.        , 0.        , 0.        , 0.        , 0.        ,\n",
    "       0.        , 0.        , 0.        , 0.23021729, 0.24083189,\n",
    "       0.26267851, 0.        , 0.232379  , 0.20248457, 0.20736441,\n",
    "       0.04472136, 0.        , 0.        , 0.        ]\n",
    "\n",
    "mixer_circuit = mixer.warmstart_mixer\n",
    "parameter_optimization = parameter_optimization.get_optimizer('COBYLA')\n",
    "layers = 5 # more layers = higher approximation rate but more quantum errors when running on real qpu\n",
    "theta = {\"beta\": 0.01, \"gamma\": -0.01} # start values for optimization\n",
    "strategy = 'avg'\n",
    "use_warmstart = True\n",
    "use_optimizer = True\n",
    "\n",
    "if not use_warmstart:\n",
    "    warmstart_statevector = None\n",
    "\n",
    "probabilities, _ = apply_qaoa_statevector(qubo_problem_circuit, mixer_circuit, parameter_optimization, hamiltonian, layers, get_hamiltonian_dimension(hamiltonian), theta, warmstart_statevector, strategy=strategy, use_optimizer=use_optimizer, print_res=False)\n",
    "probabilities_dict = {}\n",
    "for i in range(0, 2 ** get_hamiltonian_dimension(hamiltonian)):\n",
    "    probabilities_dict[(np.binary_repr(i, width=6))] = round(probabilities[i], 4)"
   ],
   "metadata": {
    "collapsed": false
   },
   "id": "4f2a2f57f6e02cb",
   "execution_count": null
  },
  {
   "cell_type": "code",
   "outputs": [],
   "source": [
    "# Pretty Print the results of the previous Cell\n",
    "from configproblem.util.visualization import plot_counts_histogram\n",
    "\n",
    "best_config = \"000110\" # 654321\n",
    "valid_configs = [\"101010\", \"101001\", \"101011\", \"100110\", \"100101\", \"100111\", \"001010\", \"001001\", \"001011\", \"000101\", \"000111\", \"111010\", \"111001\", \"111011\", \"110110\", \"110101\", \"110111\"]\n",
    "\n",
    "plot_counts_histogram(probabilities_dict, get_hamiltonian_dimension(hamiltonian), best_config, valid_configs)"
   ],
   "metadata": {
    "collapsed": false
   },
   "id": "34ac18c44f9783d1",
   "execution_count": null
  },
  {
   "cell_type": "markdown",
   "source": [
    "## PUBO vs QUBO Hamiltonian\n",
    "\n",
    "For general problem Hamiltonians which might contain $k$-local terms with $k > 2$ we can either directly implement them using the `pubo_problem_circuit` function or convert them into a QUBO Hamiltonian using the `qubovert` library and implement the resulting quadratized Hamiltonian using the `qubo_problem_circuit` function.\n",
    "\n",
    "The quadratized QUBO Hamiltonian has lower circuit depth, but used more qubits than the PUBO Hamiltonian.\n",
    "\n",
    "For example, if we transform the clause $(x_i \\vee x_j \\vee x_k)$, we get the following penalty:\n",
    "\n",
    "$$1 - x_i - x_j - x_k + x_i x_j + x_i x_k + x_j x_k - x_i x_j x_k$$\n",
    "\n",
    "By introducing a new auxiliary variable $w_{ij} = x_i x_j$ we can rewrite this penalty as:\n",
    "\n",
    "$$1 - x_i - x_j - x_k + w_{ij} + x_i x_k + x_j x_k - w_{ij} x_k$$\n",
    "\n",
    "To enforce the constraint $w_{ij} = x_i x_j$ we add (a multiple of) the penalty term $x_i x_j - 2 x_i w_{ij} - 2 x_j w_{ij} + 3 w_{ij}$ to the Hamiltonian resulting in the overall penalty:\n",
    "\n",
    "$$1 - x_i x_j - x_k + w_{ij} + x_i x_k + x_j x_k - w_{ij} x_k + x_i x_j - 2 x_i w_{ij} - 2 x_j w_{ij} + 3 w_{ij}$$\n",
    "\n",
    "This term no longer contains a product of three variables but products of at most two variables and can therefore be used in a QUBO model.\n",
    "The method for reduction by substitution above was first described by I. G. Rosenberg in \"Reduction of Bivalent Maximization to the Quadratic Case\" (1975) and can be found in a collection of different quadratization methods by [Dattani](https://arxiv.org/pdf/1901.04405.pdf).\n",
    "\n",
    "We use the `to_quso()` function from the `qubovert` library to quadratize the PUBO model.\n",
    "After applying QAOA to the resulting QUBO model, we can use the `convert_ancilla_bit_results()` function to convert the results back to the original PUBO model."
   ],
   "metadata": {
    "collapsed": false
   },
   "id": "3c12971c912436a5"
  },
  {
   "cell_type": "code",
   "outputs": [],
   "source": [
    "from configproblem.util.model_transformation import convert_to_penalty\n",
    "\n",
    "sat_instance = [[(x1, True), (x2, True)],\n",
    "              [(x2, True), (x3, False), (x4, True)],\n",
    "              [(x3, True), (x5, False), (x6, False)]]\n",
    "\n",
    "# SAT PUBO\n",
    "sat_model = convert_to_penalty(sat_instance)\n",
    "\n",
    "# Combine models\n",
    "combined_model = cost_model + alpha_sat * sat_model\n",
    "combined_hamiltonian = combined_model.to_puso()\n",
    "pprint(combined_hamiltonian)"
   ],
   "metadata": {
    "collapsed": false
   },
   "id": "1c1cd34d2fc04ae8",
   "execution_count": null
  },
  {
   "cell_type": "code",
   "outputs": [],
   "source": [
    "# Applying QAOA to the PUBO Hamiltonian\n",
    "\n",
    "mixer_circuit = mixer.standard_mixer\n",
    "hamiltonian = combined_hamiltonian\n",
    "n_features = 6\n",
    "warmstart_statevector = None\n",
    "\n",
    "probabilities, _ = apply_qaoa_statevector(pubo_problem_circuit, mixer_circuit, parameter_optimization, hamiltonian, layers, get_hamiltonian_dimension(hamiltonian), theta, warmstart_statevector, strategy=strategy, use_optimizer=use_optimizer, print_res=False)\n",
    "probabilities_dict = {}\n",
    "for i in range(0, 2 ** get_hamiltonian_dimension(hamiltonian)):\n",
    "    probabilities_dict[(np.binary_repr(i, width=6))] = round(probabilities[i], 4)"
   ],
   "metadata": {
    "collapsed": false
   },
   "id": "66dac4c26f67143e",
   "execution_count": null
  },
  {
   "cell_type": "code",
   "outputs": [],
   "source": [
    "best_config = \"000010\" # 654321\n",
    "valid_configs = [\"111111\", \"011111\", \"101111\", \"001111\", \"110111\", \"010111\", \"100111\", \"000111\", \"011011\", \"101011\", \"001011\", \"010011\", \"100011\", \"000011\", \"111101\", \"011101\", \"101101\", \"001101\", \"011001\", \"101001\", \"001001\", \"010001\", \"100001\", \"000001\", \"111110\", \"011110\", \"101110\", \"001110\", \"110110\", \"010110\", \"100110\", \"000110\", \"011010\", \"101010\", \"001010\", \"010010\", \"100010\", \"000010\"]\n",
    "\n",
    "plot_counts_histogram(probabilities_dict, get_hamiltonian_dimension(hamiltonian), best_config, valid_configs)"
   ],
   "metadata": {
    "collapsed": false
   },
   "id": "53de3485ddf71f79",
   "execution_count": null
  },
  {
   "cell_type": "code",
   "outputs": [],
   "source": [
    "# Applying QAOA to the quadratized QUBO Hamiltonian\n",
    "\n",
    "from configproblem.qaoa.qaoa_mincost_k_sat import convert_ancilla_bit_results\n",
    "\n",
    "qubo_hamiltonian = combined_model.to_quso()\n",
    "\n",
    "probabilities, _ = apply_qaoa_statevector(qubo_problem_circuit, mixer_circuit, parameter_optimization, qubo_hamiltonian, layers, get_hamiltonian_dimension(qubo_hamiltonian), theta, warmstart_statevector, strategy=strategy, use_optimizer=use_optimizer, print_res=False)\n",
    "probabilities_dict = {}\n",
    "for i in range(0, 2 ** get_hamiltonian_dimension(qubo_hamiltonian)):\n",
    "    probabilities_dict[np.binary_repr(i, width=get_hamiltonian_dimension(qubo_hamiltonian))] = probabilities[i]\n",
    "\n",
    "probabilities_dict = convert_ancilla_bit_results(probabilities_dict, n_features)\n",
    "\n",
    "for key in probabilities_dict:\n",
    "    probabilities_dict[key] = round(probabilities_dict[key], 4)\n",
    "\n",
    "plot_counts_histogram(probabilities_dict, n_features, best_config, valid_configs)"
   ],
   "metadata": {
    "collapsed": false
   },
   "id": "47bc8af03a62ba55",
   "execution_count": null
  },
  {
   "cell_type": "markdown",
   "source": [
    "# Scalability of our approach\n",
    "\n",
    "Our approach requires qubits equal to the number of features using the PUBO and additional qubits using the QUBO formulation. Circuit depth scales better for the QUBO than for the PUBO formulation.\n",
    "\n",
    "We can measure the circuit depth of individual circuits using the `.depth()` method the `QuantumCircuit` class from Qiskit.\n",
    "The depth can be measured for the whole circuit or for individual parts of the circuit like for example the phase-separating operator or the mixing operator.\n",
    "We can measure the circuit width of individual circuits that are required for a specific Hamiltonian using the `get_hamiltonian_dimension()` method.\n",
    "\n",
    "In general, we can observe that for the QUBO variant, the width increases and the depth decreases with a higher number of literals per clause.\n",
    "Depth also increases with a higher number of literals per clause.\n",
    "As the PUBO variant does not require any auxiliary variables, the circuit width is equal to the number of features.\n",
    "The depth depends on the number of clauses and the number of literals per clause.\n",
    "The exact circuit sizes vary with the structure of the specific instance."
   ],
   "metadata": {
    "collapsed": false
   },
   "id": "f84bab54d6a37ef8"
  },
  {
   "cell_type": "code",
   "outputs": [],
   "source": [
    "print(\"PUBO Hamiltonian circuit width: \", get_hamiltonian_dimension(hamiltonian))\n",
    "print(\"PUBO Hamiltonian circuit depth (depth of phase-separating operator per layer): \", pubo_problem_circuit(sat_hamiltonian, get_hamiltonian_dimension(hamiltonian), Parameter(\"$\\\\gamma$\")).depth())\n",
    "\n",
    "print(\"QUBO Hamiltonian circuit width: \", get_hamiltonian_dimension(qubo_hamiltonian))\n",
    "print(\"QUBO Hamiltonian circuit depth (depth of phase-separating operator per layer): \", qubo_problem_circuit(sat_hamiltonian, get_hamiltonian_dimension(qubo_hamiltonian), Parameter(\"$\\\\gamma$\")).depth())"
   ],
   "metadata": {
    "collapsed": false
   },
   "id": "71d9717a0dcd2f1a",
   "execution_count": null
  }
 ],
 "metadata": {
  "kernelspec": {
   "display_name": "Python 3 (ipykernel)",
   "language": "python",
   "name": "python3"
  },
  "language_info": {
   "codemirror_mode": {
    "name": "ipython",
    "version": 3
   },
   "file_extension": ".py",
   "mimetype": "text/x-python",
   "name": "python",
   "nbconvert_exporter": "python",
   "pygments_lexer": "ipython3",
   "version": "3.9.18"
  }
 },
 "nbformat": 4,
 "nbformat_minor": 5
}
