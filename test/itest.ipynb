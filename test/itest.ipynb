{
 "cells": [
  {
   "cell_type": "markdown",
   "source": [],
   "metadata": {
    "collapsed": false
   },
   "id": "9ecd7ea40bc01a4c"
  },
  {
   "cell_type": "code",
   "execution_count": 2,
   "outputs": [],
   "source": [
    "from qiskit import QuantumCircuit\n",
    "from qiskit.quantum_info import Statevector"
   ],
   "metadata": {
    "collapsed": false,
    "ExecuteTime": {
     "end_time": "2023-07-31T13:13:08.956302900Z",
     "start_time": "2023-07-31T13:13:08.941295300Z"
    }
   },
   "id": "12b3871c36c0ce91"
  },
  {
   "cell_type": "code",
   "execution_count": 5,
   "outputs": [],
   "source": [
    "MESSAGE = '00'"
   ],
   "metadata": {
    "collapsed": false,
    "ExecuteTime": {
     "end_time": "2023-07-31T13:13:29.458901200Z",
     "start_time": "2023-07-31T13:13:29.437524800Z"
    }
   },
   "id": "2dee377ae99086b3"
  },
  {
   "cell_type": "code",
   "execution_count": 7,
   "outputs": [
    {
     "data": {
      "text/plain": "'Statevector([0.70710678+0.j, 0.        +0.j, 0.        +0.j,\\n             0.70710678+0.j],\\n            dims=(2, 2))'"
     },
     "execution_count": 7,
     "metadata": {},
     "output_type": "execute_result"
    }
   ],
   "source": [
    "\n",
    "qc_alice = QuantumCircuit(2,2)\n",
    "if MESSAGE[-1]=='1':\n",
    "    qc_alice.x(0)\n",
    "if MESSAGE[-2]=='1':\n",
    "    qc_alice.x(1)\n",
    "qc_alice.h(1)\n",
    "qc_alice.cx(1,0)\n",
    "\n",
    "ket = Statevector(qc_alice)\n"
   ],
   "metadata": {
    "collapsed": false,
    "ExecuteTime": {
     "end_time": "2023-07-31T13:13:56.025276100Z",
     "start_time": "2023-07-31T13:13:55.996973500Z"
    }
   },
   "id": "181c03fd5c1aea4b"
  },
  {
   "cell_type": "code",
   "execution_count": 10,
   "outputs": [
    {
     "data": {
      "text/plain": "          ┌───┐\nq_0: ─────┤ X ├\n     ┌───┐└─┬─┘\nq_1: ┤ H ├──■──\n     └───┘     \nc_0: ══════════\n               \nc_1: ══════════\n               ",
      "text/html": "<pre style=\"word-wrap: normal;white-space: pre;background: #fff0;line-height: 1.1;font-family: &quot;Courier New&quot;,Courier,monospace\">          ┌───┐\nq_0: ─────┤ X ├\n     ┌───┐└─┬─┘\nq_1: ┤ H ├──■──\n     └───┘     \nc_0: ══════════\n               \nc_1: ══════════\n               </pre>"
     },
     "execution_count": 10,
     "metadata": {},
     "output_type": "execute_result"
    }
   ],
   "source": [
    "qc_alice.draw()"
   ],
   "metadata": {
    "collapsed": false,
    "ExecuteTime": {
     "end_time": "2023-07-31T13:14:32.113377900Z",
     "start_time": "2023-07-31T13:14:32.100497600Z"
    }
   },
   "id": "24186cfe12a81084"
  },
  {
   "cell_type": "code",
   "execution_count": null,
   "outputs": [],
   "source": [],
   "metadata": {
    "collapsed": false
   },
   "id": "1eaca77efd3062b"
  }
 ],
 "metadata": {
  "kernelspec": {
   "display_name": "Python 3",
   "language": "python",
   "name": "python3"
  },
  "language_info": {
   "codemirror_mode": {
    "name": "ipython",
    "version": 2
   },
   "file_extension": ".py",
   "mimetype": "text/x-python",
   "name": "python",
   "nbconvert_exporter": "python",
   "pygments_lexer": "ipython2",
   "version": "2.7.6"
  }
 },
 "nbformat": 4,
 "nbformat_minor": 5
}
