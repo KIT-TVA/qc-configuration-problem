{
 "cells": [
  {
   "cell_type": "markdown",
   "id": "6eb8a3d8",
   "metadata": {},
   "source": [
    "# Solving a mincost SAT problem using QAOA\n",
    "\n",
    "$$\\newcommand{\\ket}[1]{\\left|{#1}\\right\\rangle}$$\n",
    "$$\\newcommand{\\bra}[1]{\\left\\langle{#1}\\right|}$$\n",
    "\n",
    "We want to find an (almost) optimal configuration in an attributed feature model.\n",
    "\n",
    "The system can be described by the following boolean formulae:\n",
    "$\n",
    "(x_1 \\vee x_2) \\wedge (x_3 \\oplus x_4) \\wedge (x_5 \\implies x_6)\n",
    "\\iff\n",
    "(x_1 \\vee x_2) \\wedge (\\neg x_3 \\vee \\neg x_4) \\wedge (x_3 \\vee x_4) \\wedge (\\neg x_5 \\vee x_6)\n",
    "$\n",
    "\n",
    "The right hand side is in conjunctive normal form (CNF).\n",
    "\n",
    "Furthermore, there is an implementation cost associated with each feature, as shown in the table below.\n",
    "\n",
    "| Feature | Cost $c_i$ |\n",
    "| --- | --- |\n",
    "| $x_1$ | 30 |\n",
    "| $x_2$ | 20 |\n",
    "| $x_3$ | 25 |\n",
    "| $x_4$ | 50 |\n",
    "| $x_5$ | 10 |\n",
    "| $x_6$ | 10 |\n"
   ]
  },
  {
   "cell_type": "markdown",
   "id": "7d64fd65",
   "metadata": {},
   "source": [
    "# Quantum Approximation Optimization Algorithm\n",
    "Approximates the solution of an combinatorial optimization problem consisting of:\n",
    "- $n$ binary variables\n",
    "- $m$ clauses\n",
    "- objective function $C(z)$\n",
    "\n",
    "The domain of the problem is unconstrained, thus the algorithms goal is to find an (almost) optimal bistring $z=z_1...z_n$\n",
    "\n",
    "It refines VQA and uses the Alternating Operator Ansatz.\n",
    "The algorithm consists of a classical and quantum part.\n",
    "\n",
    "On a quantum computer a circuit is constructed which is parameterized by $\\gamma$ and $\\beta$.\n",
    "Initially the uniform superposition state $H^{\\otimes n}$ is prepared.\n",
    "\n",
    "Two operators $U(C,\\gamma)$ and $U(B,\\beta)$ are constructed.\n",
    "The phase-separating operator $U(C,\\gamma)$ encodes $C$  and applies a phase shift $e^{-i\\gamma}$ on every computational basis state for every clause that is fulfilled.\n",
    "The mixing operator $U(B, \\beta)$ changes the amplitude of solutions using rotation $R_x$.\n",
    "\n",
    "Both $U(C,\\gamma)$  and $U(B,\\beta)$ are then applied $p$ times according to the hyper-parameter $p \\in \\mathbf{N}$.\n",
    "Finally measurements gates are added.\n",
    "\n",
    "The circuit has a shallow circuit depth of at most $mp+m$.\n",
    "\n",
    "On a classical computer the cost of $C(z)$ for the current evaluation is evaluated.\n",
    "Either the process is terminated if the termination condition is met ($C(z)$ is sufficiently low), or the parameters $\\gamma$ and $\\beta$ are optimized classically.\n",
    "\n",
    "$-2\\pi\\lt\\gamma\\lt2\\pi$ and $-\\pi\\lt\\beta\\lt\\pi$\n"
   ]
  },
  {
   "cell_type": "markdown",
   "id": "a37455bf",
   "metadata": {},
   "source": [
    "## Quantum circuit\n",
    "We start by defining the parameteriezed circuit."
   ]
  },
  {
   "cell_type": "code",
   "execution_count": null,
   "id": "cecf5c50",
   "metadata": {},
   "outputs": [],
   "source": [
    "import matplotlib.pyplot as plt\n",
    "import matplotlib.patches as mpatches\n",
    "# Notebook Setup\n",
    "from IPython.core import page\n",
    "page.page = print\n",
    "\n",
    "# Imports used for examples\n",
    "from qiskit.visualization import plot_histogram\n",
    "from pprint import pprint"
   ]
  },
  {
   "cell_type": "markdown",
   "id": "37fdd0d7",
   "metadata": {},
   "source": [
    "### Initialization\n",
    "Uniform superposition by applying Hadamard gates $H$ on every qubit."
   ]
  },
  {
   "cell_type": "code",
   "execution_count": null,
   "id": "183305a6",
   "metadata": {},
   "outputs": [],
   "source": [
    "# Uniform Superposition Initialization\n",
    "from fragments.quantum_states import superposition_circuit, add_all_hadamards\n",
    "%psource superposition_circuit\n",
    "%psource add_all_hadamards"
   ]
  },
  {
   "cell_type": "code",
   "execution_count": null,
   "id": "8ae010df",
   "metadata": {},
   "outputs": [],
   "source": [
    "superposition_circuit(2).draw(output=\"mpl\")"
   ]
  },
  {
   "cell_type": "markdown",
   "id": "9f2eaf2f",
   "metadata": {},
   "source": [
    "### Mixing operator\n",
    "The mixing operator $U(B, \\beta)$ applies a rotation around $X$ of $2*\\beta$ on every qubit using $R_x$ gates."
   ]
  },
  {
   "cell_type": "code",
   "execution_count": null,
   "id": "c5245d4c",
   "metadata": {},
   "outputs": [],
   "source": [
    "# Mixer Hamiltonian\n",
    "from qaoa_mincost_sat import mixer_circuit\n",
    "%psource mixer_circuit"
   ]
  },
  {
   "cell_type": "code",
   "execution_count": null,
   "id": "72fe757f",
   "metadata": {},
   "outputs": [],
   "source": [
    "example_qc_mixer, _ = mixer_circuit(2)\n",
    "example_qc_mixer.draw(output=\"mpl\")"
   ]
  },
  {
   "cell_type": "markdown",
   "id": "82ca4d5f",
   "metadata": {},
   "source": [
    "### Phase-separating operator\n",
    "The phase-separating operator $U(C,\\gamma)$ encodes $C$ and can be derived from a cost Hamiltonian $H_{Ctot}$ in Ising-form. \n",
    "We can describe $H_{Ctot}$ in a form where for $m$ clauses operating on one or two qubits (because the domain is unconstrained) the values of $C$ are encoded.\n",
    "We later describe how such a Hamiltonian can be constructed for our concrete problem class."
   ]
  },
  {
   "cell_type": "code",
   "execution_count": null,
   "id": "42ea509a",
   "metadata": {},
   "outputs": [],
   "source": [
    "# Hamiltonians may be described as a dict of tuples describing acting qubits and a value for each clause\n",
    "# hamiltonian = {(q1?, q2?, ...) : factor}\n",
    "sat_hamiltonian = {\n",
    "    () : 1,\n",
    "    (0,): 0.25,\n",
    "    (1,): 0.25,\n",
    "    (4,): -0.25,\n",
    "    (5,): 0.25,\n",
    "    (0, 1): 0.25,\n",
    "    (2, 3): 0.5,\n",
    "    (4, 5): -0.25\n",
    "}"
   ]
  },
  {
   "cell_type": "markdown",
   "id": "ba8b0ab6",
   "metadata": {},
   "source": [
    "Clauses on one qubits are then translated into $R_z$ rotations and clauses on two qubits are translated into the symmetric $R_{zz}$ gate."
   ]
  },
  {
   "cell_type": "code",
   "execution_count": null,
   "id": "5b038751",
   "metadata": {},
   "outputs": [],
   "source": [
    "# Cost Hamiltonian\n",
    "from qaoa_mincost_sat import problem_circuit\n",
    "%psource problem_circuit"
   ]
  },
  {
   "cell_type": "code",
   "execution_count": null,
   "id": "a74bdeb0",
   "metadata": {},
   "outputs": [],
   "source": [
    "example_qc_problem, _ = problem_circuit(sat_hamiltonian, 6)\n",
    "example_qc_problem.draw(output=\"mpl\")"
   ]
  },
  {
   "cell_type": "markdown",
   "id": "d0fef60f",
   "metadata": {},
   "source": [
    "### QAOA circuit\n",
    "Now we can create a QAOA circuit for a problem hamiltonian.\n",
    "\n",
    "The circuit can also be warmstarted by initializing a specific state $\\ket{s}$ instead of a uniform superposition."
   ]
  },
  {
   "cell_type": "code",
   "execution_count": null,
   "id": "c2969e03",
   "metadata": {},
   "outputs": [],
   "source": [
    "# QAOA Circuit\n",
    "from qaoa_mincost_sat import qaoa_circuit\n",
    "%psource qaoa_circuit"
   ]
  },
  {
   "cell_type": "code",
   "execution_count": null,
   "id": "a1d763bf",
   "metadata": {},
   "outputs": [],
   "source": [
    "example_qaoa_circuit, _, _ = qaoa_circuit(sat_hamiltonian, 6, 1)\n",
    "example_qaoa_circuit.draw(output=\"mpl\")"
   ]
  },
  {
   "cell_type": "markdown",
   "id": "ab25a6bc",
   "metadata": {},
   "source": [
    "### Quantum routine\n",
    "Executes QAOA circuit and returns circuit and results"
   ]
  },
  {
   "cell_type": "code",
   "execution_count": null,
   "id": "c83f7645",
   "metadata": {},
   "outputs": [],
   "source": [
    "# QAOA Quantum Procedure\n",
    "from qaoa_mincost_sat import quantum\n",
    "%psource quantum"
   ]
  },
  {
   "cell_type": "code",
   "execution_count": null,
   "id": "95848f67",
   "metadata": {},
   "outputs": [],
   "source": [
    "counts, qc = quantum(sat_hamiltonian, 6, 1, 1, 1)\n",
    "qc.draw(output=\"mpl\")"
   ]
  },
  {
   "cell_type": "code",
   "execution_count": null,
   "id": "3c9da5cc",
   "metadata": {},
   "outputs": [],
   "source": [
    "plot_histogram(counts, figsize=(40, 10))"
   ]
  },
  {
   "cell_type": "markdown",
   "id": "1b5f1f34",
   "metadata": {},
   "source": [
    "## Creating a problem specific Hamiltonian\n",
    "\n",
    "### Creating a cost function satisfying features\n",
    "\n",
    "[Glover](https://arxiv.org/abs/1811.11538) described quadratic penalties for the 2-SAT problem by treating inputs as $0/1$ values, forming a traditional constraint and then deriving a quadratic penalty. We summarize their work here:\n",
    "\n",
    "| Clause Type | Example | Constraint | Penalty |\n",
    "|---|---|---|---|\n",
    "| No Negations  | $$(x_i \\vee x_j)$$               | $$x_i + x_j = 1$$            | $$(1 - x_i - x_j + x_i x_j)$$\n",
    "| One Negation  | $$(x_i \\vee \\lnot{}x_j)$$        | $$x_i + (1-x_j) \\geq 1$$     | $$(x_j - x_i x_j)$$\n",
    "| Two Negations | $$(\\lnot{}x_i \\vee \\lnot{}x_j)$$ | $$(1-x_i) + (1-x_j) \\geq 1$$ | $$(x_i x_j)$$\n",
    "\n",
    "\n",
    "Using these penalties we can transform our example into a QUBO model.\n",
    "\n",
    "$$\n",
    "min~y(x) = 2-x_1-x_2-x_3-x_4+x_5+x_1*x_2+2*x_3*x_4-x_5*x_6\n",
    "$$\n",
    "\n",
    "$y(x)$ is the integer of unsatisfied clauses. In other words, $y=0$ indicates that all clauses are satisfied, which is desired for this problem.\n",
    "\n",
    "### Creating a cost function for feature costs\n",
    "\n",
    "For the feature costs, we can formulate a sum that adds a features cost if it is in the input vector x.\n",
    "$$\n",
    "k(x) = \\sum_{x}^{} c_i x_i\n",
    "$$\n",
    "\n",
    "\n",
    "### Combining the functions\n",
    "In our example, we want to find a valid configuration with the minimum cost, so we sum the two previous functions and add a penalty factor $\\alpha$ to be able to change the influence of our SAT constraints.\n",
    "\n",
    "$$\n",
    "min~f(x) = k(x) + \\alpha y(x)\n",
    "$$\n",
    "\n",
    "We assume $\\alpha \\gg 0$, the exact value probably depends on the value of $k(x)$.\n",
    "\n",
    "### Forming Hamiltonians\n",
    "We got our QUBO cost function defined. We now need to transform the Binary input space $x_i \\in \\{0,1\\}$ to the Ising Spin model of $s_i \\in \\{-1, 1\\}$. \n",
    "\n",
    "Replace $x_i$ with $S_i = 2x_i-1$ meaning $x_i = \\frac{1 - S_i}{2}$ (Note that switching the sign changes the eigenvectors)\n",
    "\n",
    "#### Cost Hamiltonian for the SAT part\n",
    "Before applying it to the entire function, let's first consider only $min~y(x)$.\n",
    "\n",
    "Ising Form:\n",
    "$$\n",
    "min~y(s) = 2-\\frac{1-s_1}{2}-\\frac{1-s_2}{2}-\\frac{1-s_3}{2}-\\frac{1-s_4}{2}+\\frac{1-s_5}{2}+\\frac{1-s_1}{2}*\\frac{1-s_2}{2}+2*\\frac{1-s_3}{2}*\\frac{1-s_4}{2}-\\frac{1-s_5}{2}*\\frac{1-s_6}{2}\n",
    "$$\n",
    "Simplified to (not really needed):\n",
    "$$ \n",
    "min~y(s) = (4 + s_2 + s_1 (1 + s_2) + 2 s_3 s_4 + s_6 - s_5 (1 + s_6))*\\frac{1}{4}\n",
    "$$\n",
    "Which expands to:\n",
    "$$\n",
    "min~y(s) = 1 + s_1\\frac{1}{4} + s_2\\frac{1}{4} + s_1 s_2\\frac{1}{4} + s_3 s_4 \\frac{1}{2} - s_5\\frac{1}{4} + s_6\\frac{1}{4} - s_5 s_6 \\frac{1}{4}\n",
    "$$\n",
    "And leaves us with a cost hamiltonian $H_C$ with Pauli-Z-Gates $\\sigma^z_i$ and an Identity $I$ on the global phase(?):\n",
    "$$\n",
    "H_C = 1*I + \\sigma^z_1\\frac{1}{4} + \\sigma^z_2\\frac{1}{4} + \\sigma^z_1 \\sigma^z_2\\frac{1}{4} + \\sigma^z_3 \\sigma^z_4 \\frac{1}{2} - \\sigma^z_5\\frac{1}{4} + \\sigma^z_6\\frac{1}{4} - \\sigma^z_5 \\sigma^z_6 \\frac{1}{4}\n",
    "$$\n",
    "\n",
    "#### Cost Hamiltonian for the feature costs\n",
    "We can expand the feature costs in our example according to the table above.\n",
    "$$\n",
    "min~k(x) = \\sum_{x}^{} c_i x_i \\\\\n",
    "= 30*x_1 + 20*x_2 + 25*x_3 + 50*x_4 + 30*x_5 + 10*x_6\n",
    "$$\n",
    "Which we then again transform into Ising form.\n",
    "\n",
    "$$\n",
    "min~k(s) = 15*(1-s_1) + 10*(1-s_2)+ 12.5*(1-s_3) + 25*(1-s_4) + 15*(1-s_5) + 5*(1-s_6) \\\\\n",
    "min~k(s) = 82.5 - 15 s_1 - 10 s_2 - 12.5 s_3 - 25 s_4 - 15 s_5 - 5 s_6\n",
    "$$\n",
    "\n",
    "Which leaves us with our cost Hamiltonian $H_{Ck}$\n",
    "$$\n",
    "H_{Ck} = 82.5 I - 15 \\sigma^z_1 - 10 \\sigma^z_2 - 12.5 \\sigma^z_3 - 25 \\sigma^z_4 - 15 \\sigma^z_5 - 5 \\sigma^z_6\n",
    "$$\n",
    "\n",
    "#### Combining Hamiltonians\n",
    "\n",
    "All that's left to do is choosing a suitable $\\alpha$ and combining the functions.\n",
    "\n",
    "We choose $\\alpha = 1000$ as a first guess ($82.5 * 10$ rounded up).\n",
    "\n",
    "$$\n",
    "H_{Ctot} = H_{Ck} + \\alpha ~ H_C\n",
    "$$\n",
    "\n",
    "$$\n",
    "H_{Ctot} = 82.5 I - 15 \\sigma^z_1 - 10 \\sigma^z_2 - 12.5 \\sigma^z_3 - 25 \\sigma^z_4 - 15 \\sigma^z_5 - 5 \\sigma^z_6  + 1000*I + \\sigma^z_1 250 + \\sigma^z_2 250 + \\sigma^z_1 \\sigma^z_2 250 + \\sigma^z_3 \\sigma^z_4 500 - \\sigma^z_5 250 + \\sigma^z_6 250 - \\sigma^z_5 \\sigma^z_6 250\n",
    "$$\n",
    "\n",
    "simplified to\n",
    "\n",
    "$$\n",
    "H_{Ctot} = 1082.5 I + 250 \\sigma^z_1 \\sigma^z_2 + 235 \\sigma^z_1 + 240 \\sigma^z_2 + 500 \\sigma^z_3 \\sigma^z_4 - 12.5 \\sigma^z_3 - 25 \\sigma^z_4 - 250 \\sigma^z_5 \\sigma^z_6 - 265 \\sigma^z_5 + 245 \\sigma^z_6\n",
    "$$\n",
    "\n",
    "We can implement such a Hamiltonian $H_{Ctot}$ using the `qubovert` library and solve small instances via bruteforce."
   ]
  },
  {
   "cell_type": "code",
   "execution_count": null,
   "id": "691550cc",
   "metadata": {},
   "outputs": [],
   "source": [
    "from util.hamiltonian_math import solve_bruteforce\n",
    "%psource solve_bruteforce"
   ]
  },
  {
   "cell_type": "code",
   "execution_count": null,
   "id": "c1b0d2b7",
   "metadata": {},
   "outputs": [],
   "source": [
    "from qubovert import spin_var\n",
    "# define spin variables \n",
    "z1, z2, z3, z4, z5, z6 = spin_var('z1'), spin_var('z2'), spin_var('z3'), spin_var('z4'), spin_var('z5'), spin_var('z6')\n",
    "\n",
    "# Our manually calculated hamiltonian\n",
    "feetcost_model = 1082.5 + 250 * z1 * z2 + 235 * z1 + 240 * z2 + 500 * z3 * z4 - 12.5 * z3 - 25 * z4 - 250 * z5 * z6 - 265 * z5 + 245 * z6\n",
    "solve_bruteforce(feetcost_model)"
   ]
  },
  {
   "cell_type": "markdown",
   "id": "a1aae270",
   "metadata": {},
   "source": [
    "We can also define the SAT ($H_C$) and cost ($H_{Ck}$) Hamiltonians separately and combine them afterwards."
   ]
  },
  {
   "cell_type": "code",
   "execution_count": null,
   "id": "188709a3",
   "metadata": {},
   "outputs": [],
   "source": [
    "# cost and sat individually\n",
    "from qubovert import boolean_var\n",
    "\n",
    "# define binary vars\n",
    "x1, x2, x3, x4, x5, x6 = boolean_var('x1'), boolean_var('x2'), boolean_var('x3'), boolean_var('x4'), boolean_var('x5'), boolean_var('x6')\n",
    "\n",
    "# SAT Penalty\n",
    "alpha_sat = 1000 # 1e6\n",
    "\n",
    "# SAT QUBO\n",
    "sat_model = alpha_sat * (2 - x1 - x2 - x3 - x4 + x5 + x1 * x2 + 2 * x3 * x4 - x5 * x6)\n",
    "\n",
    "# Cost QUBO\n",
    "cost_model = 30*x1 + 20*x2 + 25*x3 + 50*x4 + 30*x5 + 10*x6\n",
    "\n",
    "# Combine models\n",
    "combined_model = sat_model +  cost_model\n",
    "print(\"QUBO Combined Model:\")\n",
    "pprint(combined_model)\n",
    "print(\"Ising Combined Model: \")\n",
    "combined_hamiltonian = combined_model.to_quso()\n",
    "print(combined_hamiltonian)\n",
    "\n",
    "solve_bruteforce(combined_model)"
   ]
  },
  {
   "cell_type": "markdown",
   "id": "06d4c6b3",
   "metadata": {},
   "source": [
    "## Classical Routine\n",
    "On the classical side we now need functions to evaluate $C$, which correspond to computing the energy of the Hamiltonian for a specific measured output (a configuration in our case) by `compute_config_energy`."
   ]
  },
  {
   "cell_type": "code",
   "execution_count": null,
   "id": "c0dcb437-ba13-47b8-af52-b902b224f211",
   "metadata": {},
   "outputs": [],
   "source": [
    "from util.hamiltonian_math import compute_config_energy\n",
    "%psource compute_config_energy"
   ]
  },
  {
   "cell_type": "markdown",
   "id": "d6a03244-4f83-48c7-b707-1095556e6647",
   "metadata": {},
   "source": [
    "As the circuit is executed multiple times the function `compute_hamiltonian_energy` can be used with different strategies.\n",
    "Currently, we provide average, top and minimum strategies and the best one to use is TBD."
   ]
  },
  {
   "cell_type": "code",
   "execution_count": null,
   "id": "6e8c6d26",
   "metadata": {},
   "outputs": [],
   "source": [
    "from util.hamiltonian_math import compute_hamiltonian_energy, hamiltonian_strategy_average, hamiltonian_strategy_top, hamiltonian_strategy_min\n",
    "%psource compute_hamiltonian_energy\n",
    "%psource hamiltonian_strategy_average\n",
    "%psource hamiltonian_strategy_top\n",
    "%psource hamiltonian_strategy_min"
   ]
  },
  {
   "cell_type": "markdown",
   "id": "587d1cda",
   "metadata": {},
   "source": [
    "We can then define a function that given a beta and gamma as input creates a quantum circuit, executes it multiple times and returns the energy.\n",
    "\n",
    "This function can be used in a classical optimizer."
   ]
  },
  {
   "cell_type": "code",
   "execution_count": null,
   "id": "c7e5a02a",
   "metadata": {},
   "outputs": [],
   "source": [
    "from qaoa_mincost_sat import get_expectation\n",
    "%psource get_expectation"
   ]
  },
  {
   "cell_type": "code",
   "execution_count": null,
   "id": "967e6e00",
   "metadata": {},
   "outputs": [],
   "source": [
    "# Plot cost landscape for different values of beta and gamma\n",
    "import math\n",
    "import numpy as np\n",
    "import sys\n",
    "from qiskit_aer import StatevectorSimulator\n",
    "from util.hamiltonian_math import compute_hamiltonian_energy_from_statevector\n",
    "\n",
    "backend = StatevectorSimulator()\n",
    "\n",
    "plot_arguments = [{\"hamiltonian\": sat_hamiltonian, \"strategy\": 'min'},\n",
    "                  {\"hamiltonian\": sat_hamiltonian, \"strategy\": 'avg'},\n",
    "                  {\"hamiltonian\": sat_hamiltonian, \"strategy\": 'top'},\n",
    "                  {\"hamiltonian\": cost_model.to_quso(), \"strategy\": 'min'},\n",
    "                  {\"hamiltonian\": cost_model.to_quso(), \"strategy\": 'avg'},\n",
    "                  {\"hamiltonian\": cost_model.to_quso(), \"strategy\": 'top'},\n",
    "                  {\"hamiltonian\": combined_hamiltonian, \"strategy\": 'min'},\n",
    "                  {\"hamiltonian\": combined_hamiltonian, \"strategy\": 'avg'},\n",
    "                  {\"hamiltonian\": combined_hamiltonian, \"strategy\": 'top'}]\n",
    "\n",
    "step_size = 0.5\n",
    "x_axis = np.arange(-math.pi, math.pi, step_size)\n",
    "y_axis = np.arange(-2 * math.pi, 2 * math.pi, 2 * step_size)\n",
    "\n",
    "fig, axes = plt.subplots(3, 3, figsize=(18, 16))\n",
    "fig.suptitle(r\"cost landscape for different values of $\\gamma$ and $\\beta$\", fontsize=20)\n",
    "fig.tight_layout(pad=5.0)\n",
    "cmap = \"viridis\"\n",
    "\n",
    "for ax, arguments in zip(axes.ravel(), plot_arguments):\n",
    "    if arguments[\"hamiltonian\"] == sat_hamiltonian:\n",
    "        ax.set_title(f\"Hamiltonian: sat\\n strategy: {arguments['strategy']}\")\n",
    "    elif arguments[\"hamiltonian\"] == cost_model.to_quso():\n",
    "        ax.set_title(f\"Hamiltonian: cost\\n strategy: {arguments['strategy']}\")\n",
    "    else:\n",
    "        ax.set_title(f\"Hamiltonian: combined\\n strategy: {arguments['strategy']}\")\n",
    "    ax.set_xlabel(r\"$\\beta$\")\n",
    "    ax.set_ylabel(r\"$\\gamma$\")\n",
    "\n",
    "    hamiltonian = arguments[\"hamiltonian\"]\n",
    "\n",
    "    expectation = np.zeros(shape=(len(x_axis), len(y_axis)))\n",
    "    expectation_max = -sys.maxsize - 1\n",
    "    expectation_min = sys.maxsize\n",
    "\n",
    "    for i_index, i in enumerate(x_axis):\n",
    "        for j_index,j in enumerate(y_axis):\n",
    "            qc, beta, gamma = qaoa_circuit(hamiltonian, 6, 1, measure=False)\n",
    "\n",
    "            qc = qc.bind_parameters({\n",
    "                beta: i,\n",
    "                gamma: j\n",
    "            })\n",
    "\n",
    "            result = backend.run(qc).result()\n",
    "\n",
    "            statevector = result.get_statevector()\n",
    "            value = compute_hamiltonian_energy_from_statevector(hamiltonian, statevector, 6, strategy=arguments[\"strategy\"])\n",
    "            expectation[i_index][j_index] = value\n",
    "\n",
    "            if expectation_max < value:\n",
    "                expectation_max = value\n",
    "            elif expectation_min > value:\n",
    "                expectation_min = value\n",
    "\n",
    "    pcm = ax.pcolormesh(x_axis, y_axis, expectation, shading=\"gouraud\", cmap=cmap, vmin=expectation_min, vmax=expectation_max)\n",
    "    plt.colorbar(pcm, ax=ax)\n",
    "\n",
    "plt.show()"
   ]
  },
  {
   "cell_type": "code",
   "execution_count": null,
   "id": "4471ea54",
   "metadata": {},
   "outputs": [],
   "source": [
    "# Plot cost landscape for different f and mu\n",
    "from mpl_toolkits.axes_grid1 import make_axes_locatable\n",
    "from scipy.stats import gaussian_kde\n",
    "from util.hamiltonian_math import compute_config_energy\n",
    "\n",
    "nqubits = 6\n",
    "\n",
    "# Calculate f(z) using the combined_hamiltonian for each bitstring z\n",
    "f = np.zeros(shape=(2**nqubits))\n",
    "\n",
    "for i in range(0, 2**nqubits):\n",
    "    bitstring = np.binary_repr(i, width=nqubits)\n",
    "    config = [-1 if s == \"0\" else 1 for s in bitstring]\n",
    "    f[i] = compute_config_energy(combined_hamiltonian, config)\n",
    "\n",
    "# Calculate mu(z_0) = sum_{\\Delta(z_0, z) = 1} \\frac{f(z) - f(z_0)}{N} for each bitstring z_0\n",
    "mu = np.zeros(shape=(2**nqubits))\n",
    "\n",
    "for i in range(0, 2**nqubits):\n",
    "    bitstring = np.binary_repr(i, width=nqubits)\n",
    "    for j in range(0, 2**nqubits):\n",
    "        bitstring_j = np.binary_repr(j, width=nqubits)\n",
    "        hamming_distance = 0\n",
    "        for char_i, char_j in zip(bitstring, bitstring_j):\n",
    "            if char_i != char_j:\n",
    "                hamming_distance += 1\n",
    "        if hamming_distance == 1:\n",
    "            mu[i] += (f[j] - f[i]) / nqubits\n",
    "\n",
    "f_mu = np.vstack([mu, f])\n",
    "z = gaussian_kde(f_mu)(f_mu)\n",
    "\n",
    "fig, ax = plt.subplots(figsize=(5.5, 5.5))\n",
    "\n",
    "ax.scatter(mu, f, c=z, s=40 / nqubits)\n",
    "ax.set_xlabel(r\"$\\mu$\", fontsize=15)\n",
    "ax.set_ylabel(r\"$f$\", fontsize=15)\n",
    "ax.set_xlim(min(mu), max(mu))\n",
    "ax.set_ylim(min(f), max(f))\n",
    "\n",
    "divider = make_axes_locatable(ax)\n",
    "\n",
    "ax_histx = divider.append_axes(\"top\", 1.2, pad=0.1, sharex=ax)\n",
    "ax_histy = divider.append_axes(\"right\", 1.2, pad=0.1, sharey=ax)\n",
    "\n",
    "ax_histx.xaxis.set_tick_params(labelbottom=False)\n",
    "ax_histy.yaxis.set_tick_params(labelleft=False)\n",
    "\n",
    "f_x_min = min(f)\n",
    "f_x_max = max(f)\n",
    "mu_y_min = min(mu)\n",
    "mu_y_max = max(mu)\n",
    "\n",
    "ax_histx.hist(mu)\n",
    "ax_histy.hist(f, orientation='horizontal')\n",
    "\n",
    "plt.show()\n"
   ]
  },
  {
   "cell_type": "markdown",
   "id": "68097306",
   "metadata": {},
   "source": [
    "## Applying QAOA\n",
    "Finally, we can run the whole algorithm for a specific problem Hamiltonian."
   ]
  },
  {
   "cell_type": "code",
   "execution_count": null,
   "id": "8bdfc014-0011-43fe-ac3e-db3584e58281",
   "metadata": {},
   "outputs": [],
   "source": [
    "from qaoa_mincost_sat import apply_qaoa\n",
    "%psource apply_qaoa"
   ]
  },
  {
   "cell_type": "code",
   "execution_count": null,
   "id": "216096d9",
   "metadata": {},
   "outputs": [],
   "source": [
    "# QAOA Example Application Using Optimizer\n",
    "hamiltonian = combined_hamiltonian # min-cost SAT\n",
    "# hamiltonian = sat_model.to_quso()   # just SAT\n",
    "\n",
    "# warmstart array for specific SAT instance of this notebook\n",
    "warmstart_statevector = \\\n",
    "      [0.        , 0.        , 0.        , 0.        , 0.        ,\n",
    "       0.232379  , 0.28809721, 0.20976177, 0.        , 0.25298221,\n",
    "       0.19493589, 0.24899799, 0.        , 0.        , 0.        ,\n",
    "       0.        , 0.        , 0.        , 0.        , 0.        ,\n",
    "       0.        , 0.        , 0.        , 0.        , 0.        ,\n",
    "       0.        , 0.        , 0.        , 0.        , 0.        ,\n",
    "       0.        , 0.        , 0.        , 0.        , 0.        ,\n",
    "       0.        , 0.        , 0.20976177, 0.17888544, 0.23021729,\n",
    "       0.        , 0.24899799, 0.23664319, 0.29664794, 0.        ,\n",
    "       0.        , 0.        , 0.        , 0.        , 0.        ,\n",
    "       0.        , 0.        , 0.        , 0.23021729, 0.24083189,\n",
    "       0.26267851, 0.        , 0.232379  , 0.20248457, 0.20736441,\n",
    "       0.04472136, 0.        , 0.        , 0.        ]\n",
    "\n",
    "layers = 60 # more layers = higher approximation rate but more quantum errors when running on real qpu\n",
    "n_features = 6\n",
    "shots = 256\n",
    "theta = {\"beta\": 0.01, \"gamma\": -0.01} # start values for optimization\n",
    "use_warmstart = False\n",
    "use_optimizer = True\n",
    "\n",
    "if not use_warmstart:\n",
    "    warmstart_statevector = None\n",
    "\n",
    "counts, qc = apply_qaoa(hamiltonian, layers, n_features, shots, theta, warmstart_statevector, use_optimizer)"
   ]
  },
  {
   "cell_type": "code",
   "execution_count": null,
   "id": "0301ed4c",
   "metadata": {},
   "outputs": [],
   "source": [
    "# qc.draw(output=\"mpl\")"
   ]
  },
  {
   "cell_type": "code",
   "execution_count": null,
   "id": "7e594338",
   "metadata": {},
   "outputs": [],
   "source": [
    "# Pretty Print the results of the previous Cell\n",
    "\n",
    "best_config = \"000110\" # 654321\n",
    "valid_configs = [\"101010\", \"101001\", \"101011\", \"100110\", \"100101\", \"100111\", \"001010\", \"001001\", \"001011\", \"000101\", \"000111\", \"111010\", \"111001\", \"111011\", \"110110\", \"110101\", \"110111\"]\n",
    "\n",
    "for i in range(0, 2**6):\n",
    "    if not counts.keys().__contains__(np.binary_repr(i, 6)):\n",
    "        counts[np.binary_repr(i, 6)] = 0\n",
    "\n",
    "# Sort histogram\n",
    "sortedKeys = sorted(counts.keys())\n",
    "sortedItems = sorted(counts.items(), key=lambda item: item[0])\n",
    "sortedValues = [item[1] for item in sortedItems]\n",
    "\n",
    "print(sortedKeys)\n",
    "print(sortedItems)\n",
    "print(sortedValues)\n",
    "\n",
    "col = []\n",
    "for key in sortedKeys:\n",
    "    if key==best_config:\n",
    "        col.append('r')\n",
    "    elif valid_configs.__contains__(key):\n",
    "        col.append(\"brown\")\n",
    "    else:\n",
    "        col.append('b')\n",
    "\n",
    "plt.rcParams[\"figure.figsize\"] = (40,10)\n",
    "plt.ylabel(\"Count\")\n",
    "plt.xticks(rotation=70, ha=\"right\")\n",
    "plt.bar(sortedKeys, sortedValues, width=0.5, color=col)\n",
    "\n",
    "max_count = 0\n",
    "for val in sortedValues:\n",
    "    if val > max_count:\n",
    "        max_count = val\n",
    "\n",
    "for i, val in enumerate(sortedValues):\n",
    "    plt.text(x=i, y=val+max_count/100, s=f\"{val}\", fontdict=dict(fontsize=10), horizontalalignment=\"center\")\n",
    "\n",
    "plt.axhline(y=counts[best_config], color='r', linestyle='--')\n",
    "\n",
    "red_patch = mpatches.Patch(color='r', label=\"best config\")\n",
    "brown_patch = mpatches.Patch(color=\"brown\", label=\"valid config\")\n",
    "blue_patch = mpatches.Patch(color='b', label=\"invalid config\")\n",
    "plt.legend(handles=[red_patch, brown_patch, blue_patch], loc=\"upper right\")\n",
    "\n",
    "plt.show()"
   ]
  }
 ],
 "metadata": {
  "kernelspec": {
   "display_name": "Python 3 (ipykernel)",
   "language": "python",
   "name": "python3"
  },
  "language_info": {
   "codemirror_mode": {
    "name": "ipython",
    "version": 3
   },
   "file_extension": ".py",
   "mimetype": "text/x-python",
   "name": "python",
   "nbconvert_exporter": "python",
   "pygments_lexer": "ipython3",
   "version": "3.9.13"
  },
  "vscode": {
   "interpreter": {
    "hash": "d3514f4bb63f5ef06960f249eaf871d4155ba26850e795a4551f45f075b9fcda"
   }
  }
 },
 "nbformat": 4,
 "nbformat_minor": 5
}
