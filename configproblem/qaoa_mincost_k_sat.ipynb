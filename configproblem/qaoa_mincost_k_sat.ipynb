{
 "cells": [
  {
   "cell_type": "markdown",
   "metadata": {},
   "source": [
    "# Solving a mincost k-SAT problem using QAOA\n",
    "\n",
    "Before looking at this notebook, you should understand the methods described in the qaoa_mincost_sat notebook, as we will consider those as given here.\n",
    "With the methods described in the qaoa_mincost_sat notebook, we are only able to solve 2-SAT problems, because we transform our SAT problem to a QUBO problem, which is limited to quadratic terms, and then implement the corresponding Ising model in a quantum circuit.\n",
    "While there are methods for quadratization of Higher Order Binary Optimization (HOBO) problems, meaning a transformation to a QUBO problem, they introduce auxiliary variables and thus require additional qubits.\n",
    "\n",
    "The following describes, how to convert an arbitrary SAT problem to a HOBO problem and how to implement the corresponding problem circuit for applying QAOA, while using the same number of qubits as there are boolean variables in the SAT term and using a circuit depth that grows linear in the number of variables and degree of the SAT problem.\n",
    "\n",
    "The system, we will use as an example in this notebook, is described by the following boolean formular:\n",
    "$\n",
    "(x_1 \\vee x_2) \\wedge (x_2 \\vee \\neg x_3 \\vee x_4) \\wedge (x_3 \\vee \\neg x_5 \\vee \\neg x_6)\n",
    "$\n",
    "\n",
    "We will use the same implementation cost for each feature as in the other notebook:\n",
    "\n",
    "| Feature | Cost $c_i$ |\n",
    "|---------|------------|\n",
    "| $x_1$   | 30         |\n",
    "| $x_2$   | 20         |\n",
    "| $x_3$   | 25         |\n",
    "| $x_4$   | 50         |\n",
    "| $x_5$   | 10         |\n",
    "| $x_6$   | 10         |"
   ]
  },
  {
   "cell_type": "markdown",
   "metadata": {},
   "source": [
    "## Converting k-SAT to HOBO\n",
    "\n",
    "For clauses containing two variables, we can just use the quadratic penalties described by [Glover](https://arxiv.org/abs/1811.11538) we also used in the other notebook:\n",
    "\n",
    "| Clause Type   | Example                          | Constraint                   | Penalty                       |\n",
    "|---------------|----------------------------------|------------------------------|-------------------------------|\n",
    "| No Negations  | $$(x_i \\vee x_j)$$               | $$x_i + x_j \\geq 1$$         | $$(1 - x_i - x_j + x_i x_j)$$ |\n",
    "| One Negation  | $$(x_i \\vee \\lnot{}x_j)$$        | $$x_i + (1-x_j) \\geq 1$$     | $$(x_j - x_i x_j)$$           |\n",
    "| Two Negations | $$(\\lnot{}x_i \\vee \\lnot{}x_j)$$ | $$(1-x_i) + (1-x_j) \\geq 1$$ | $$(x_i x_j)$$                 |\n",
    "\n",
    "For clauses containing $k \\ge 3$ variables, we can apply the penalties recursively.\n",
    "\n",
    "$$(x_i \\vee x_j \\vee x_k) = ((x_i \\vee x_j) \\vee x_k)$$\n",
    "\n",
    "We first apply the quadratic penalty to $(x_i \\vee x_j)$.\n",
    "The resulting penalty can be seen as a new variable $x_{ij}$ that is 0 exactly when $(x_i \\vee x_j)$ is fulfilled and 1 otherwise, meaning $x_{ij} = \\neg(x_i \\vee x_j)$\n",
    "Using that, we can define the boolean funktion as\n",
    "\n",
    "$$(x_i \\vee x_j \\vee x_k) = (x_k \\vee \\neg x_{ij})$$\n",
    "\n",
    "which we can again transform using the given quadratic penalties as follows:\n",
    "\n",
    "$$\n",
    "(x_{ij} - x_k x_{ij})\\\\\n",
    "= ((1 - x_i - x_j + x_i x_j) - x_k (1 - x_i - x_j + x_i x_j))\\\\\n",
    "= (1 - x_i - x_j + x_i x_j - x_k + x_i x_k + x_j x_k - x_i x_j x_k)\\\\\n",
    "= (1 - x_i - x_j - x_k + x_i x_j + x_i x_k + x_j x_k - x_i x_j x_k)\n",
    "$$\n",
    "\n",
    "The same principle can be applied for clauses with negations or more variables.\n",
    "\n",
    "Using this method we can transform our example into the corresponding HOBO model.\n",
    "\n",
    "$$\n",
    "min~y(x) = (1- x_1 - x_2 + x_1 x_2) + (x_3 - x_2 x_3 - x_3 x_4 + x_2 x_3 x_4) + (x_5 x_6 - x_3 x_5 x_6)\\\\\n",
    "= 1 - x_1 - x_2 + x_3 + x_1 x_2 - x_2 x_3 - x_3 x_4 + x_5 x_6 + x_2 x_3 x_4 - x_3 x_5 x_6\n",
    "$$\n",
    "\n",
    "We can now transform this HOBO model into an Ising model\n",
    "\n",
    "$$\n",
    "min~y(x) = 1 - \\frac{1 -s_1}{2} - \\frac{1 - s_2}{2} + \\frac{1 - s_3}{2} + \\frac{1 - s_1}{2} \\frac{1 - s_2}{2} - \\frac{1 - s_2}{2} \\frac{1 - s_3}{2} - \\frac{1 - s_3}{2} \\frac{1 - s_4}{2} + \\frac{1 - s_5}{2} \\frac{1 - s_6}{2} + \\frac{1 - s_2}{2} \\frac{1 - s_3}{2} \\frac{1 - s_4}{2} - \\frac{1 - s_3}{2} \\frac{1 - s_5}{2} \\frac{1 - s_6}{2}\\\\\n",
    "= 1 - s_1 \\frac{1}{2} - s_2 \\frac{1}{2} + s_3 \\frac{1}{2} + s_1 s_2 \\frac{1}{4} - s_2 s_3 \\frac{1}{4} - s_3 s_4 \\frac{1}{4} + s_5 s_6 \\frac{1}{4} + s_2 s_3 s_4 \\frac{1}{8} - s_3 s_5 s_6 \\frac{1}{8}\\\\\n",
    "$$\n",
    "\n",
    "Which leaves us with the following cost hamiltonian $H_C$:\n",
    "\n",
    "$$\n",
    "H_C = 1 * I - \\sigma_1^z \\frac{1}{2} - \\sigma_2^z \\frac{1}{2} + \\sigma_3^z \\frac{1}{2} + \\sigma_1^z \\sigma_2^z \\frac{1}{4} - \\sigma_2^z \\sigma_3^z \\frac{1}{4} - \\sigma_3^z \\sigma_4^z \\frac{1}{4} + \\sigma_5^z \\sigma_6^z \\frac{1}{4} + \\sigma_2^z \\sigma_3^z \\sigma_4^z \\frac{1}{8} - \\sigma_3^z \\sigma_5^z \\sigma_6^z \\frac{1}{8}\n",
    "$$"
   ]
  },
  {
   "cell_type": "markdown",
   "metadata": {},
   "source": [
    "## Quantum Circuit\n",
    "\n",
    "We start by defining a parametrized circuit.\n",
    "We will skip the details of initialization and implementing the mixing operator, as they are the same as in the other notebook."
   ]
  },
  {
   "cell_type": "code",
   "execution_count": null,
   "metadata": {},
   "outputs": [],
   "source": [
    "# Notebook Setup\n",
    "from IPython.core import page\n",
    "page.page = print\n",
    "\n",
    "# Imports used for examples\n",
    "from pprint import pprint"
   ]
  },
  {
   "cell_type": "markdown",
   "metadata": {},
   "source": [
    "### Phase-separating operator\n",
    "Like in the other notebook, the phase-separating operator $U(C,\\gamma)$ encodes $C$ and can be derived from a cost Hamiltonian $H_{Ctot}$ in Ising-form.\n",
    "Unlike in the other notebook, there is now the possibility of having terms of degree higher than 2 in the cost function, for which we need to implement the corresponding $R_{z ... z}$ gates.\n",
    "We do this by decomposing the $R_{z ... z}$ gate into multiple CNOT gates and a single $R_z$ gate.\n"
   ]
  },
  {
   "cell_type": "code",
   "execution_count": null,
   "metadata": {},
   "outputs": [],
   "source": [
    "# R_{zzz} gate\n",
    "from qaoa_mincost_k_sat import k_rz_gate\n",
    "from qiskit import QuantumCircuit\n",
    "\n",
    "qubits = [0, 1, 2]\n",
    "qc = QuantumCircuit(len(qubits))\n",
    "qc_zzz = k_rz_gate(qc, qubits, 1)\n",
    "qc_zzz.draw(output='mpl')"
   ]
  },
  {
   "cell_type": "markdown",
   "metadata": {},
   "source": [
    "Using this implementation of general $R_{z ... z}$ gates, we can now implement the phase-separating operator for our example."
   ]
  },
  {
   "cell_type": "code",
   "execution_count": null,
   "metadata": {},
   "outputs": [],
   "source": [
    "# Hamiltonians may be described as a dict of tuples describing acting qubits and a value for each clause\n",
    "# hamiltonian = {(q1?, q2?, ...) : factor}\n",
    "sat_hamiltonian = {\n",
    "    (): 1,\n",
    "    (0,): -0.5,\n",
    "    (1,): -0.5,\n",
    "    (2,): 0.5,\n",
    "    (0, 1): 0.25,\n",
    "    (1, 2): -0.25,\n",
    "    (2, 3): -0.25,\n",
    "    (4, 5): 0.25,\n",
    "    (1, 2, 3): 0.125,\n",
    "    (2, 4, 5): -0.125\n",
    "}"
   ]
  },
  {
   "cell_type": "code",
   "execution_count": null,
   "metadata": {},
   "outputs": [],
   "source": [
    "from qaoa_mincost_k_sat import problem_circuit\n",
    "%psource problem_circuit"
   ]
  },
  {
   "cell_type": "code",
   "execution_count": null,
   "metadata": {},
   "outputs": [],
   "source": [
    "example_qc_problem, gamma = problem_circuit(sat_hamiltonian, 6)\n",
    "example_qc_problem.draw(output='mpl')"
   ]
  },
  {
   "cell_type": "code",
   "execution_count": null,
   "metadata": {},
   "outputs": [],
   "source": [
    "from qubovert.utils import DictArithmetic\n",
    "alpha_sat = 1000\n",
    "\n",
    "cost_hamiltonian = {\n",
    "    (0,): 30,\n",
    "    (1,): 20,\n",
    "    (2,): 25,\n",
    "    (3,): 50,\n",
    "    (4,): 10,\n",
    "    (5,): 10\n",
    "}\n",
    "\n",
    "combined_hamiltonian = DictArithmetic(cost_hamiltonian) + alpha_sat * DictArithmetic(sat_hamiltonian)\n",
    "\n",
    "print(combined_hamiltonian)"
   ]
  },
  {
   "cell_type": "code",
   "execution_count": null,
   "metadata": {},
   "outputs": [],
   "source": [
    "from qaoa_mincost_k_sat import apply_qaoa\n",
    "\n",
    "hamiltonian = sat_hamiltonian\n",
    "layers = 60 # more layers = higher approximation rate but more quantum errors when running on real qpu\n",
    "n_features = 6\n",
    "shots = 256\n",
    "theta = {\"beta\": 0.01, \"gamma\": -0.01} # start values for optimization\n",
    "use_warmstart = False\n",
    "use_optimizer = True\n",
    "\n",
    "if not use_warmstart:\n",
    "    warmstart_statevector = None\n",
    "\n",
    "counts, qc = apply_qaoa(hamiltonian, layers, n_features, shots, theta, warmstart_statevector, use_optimizer)"
   ]
  },
  {
   "cell_type": "code",
   "execution_count": null,
   "metadata": {},
   "outputs": [],
   "source": [
    "from util.visualization import plot_counts_histogram\n",
    "\n",
    "best_config = \"111111\"\n",
    "valid_configs = [\"111111\", \"011111\", \"101111\", \"001111\", \"110111\", \"010111\", \"100111\", \"000111\", \"011011\", \"101011\", \"001011\", \"010011\", \"100011\", \"000011\", \"111101\", \"011101\", \"101101\", \"001101\", \"011001\", \"101001\", \"001001\", \"010001\", \"100001\", \"000001\", \"111110\", \"011110\", \"101110\", \"001110\", \"110110\", \"010110\", \"100110\", \"000110\", \"011010\", \"101010\", \"010010\", \"100010\", \"000010\"]\n",
    "\n",
    "plot_counts_histogram(counts, best_config, valid_configs)"
   ]
  }
 ],
 "metadata": {
  "kernelspec": {
   "display_name": "Python 3 (ipykernel)",
   "language": "python",
   "name": "python3"
  },
  "language_info": {
   "codemirror_mode": {
    "name": "ipython",
    "version": 3
   },
   "file_extension": ".py",
   "mimetype": "text/x-python",
   "name": "python",
   "nbconvert_exporter": "python",
   "pygments_lexer": "ipython3",
   "version": "3.9.13"
  }
 },
 "nbformat": 4,
 "nbformat_minor": 1
}
