{
 "cells": [
  {
   "cell_type": "markdown",
   "source": [
    "# Solving a mincost k-SAT problem using QAOA\n",
    "\n",
    "Before looking at this notebook, you should understand the methods described in the qaoa_mincost_sat notebook, as we will consider those as given here.\n",
    "With the methods described in the qaoa_mincost_sat notebook, we are only able to solve 2-SAT problems, because we transform our SAT problem to a QUBO problem, which is limited to quadratic terms, and then implement the corresponding Ising model in a quantum circuit.\n",
    "While there are methods for quadratization of Higher Order Binary Optimization (HOBO) problems, meaning a transformation to a QUBO problem, they introduce auxiliary variables and thus require additional qubits.\n",
    "\n",
    "The following describes, how to convert an arbitrary SAT problem to a HOBO problem and how to implement the corresponding problem circuit for applying QAOA, while using the same number of qubits as there are boolean variables in the SAT term and using a circuit depth that grows linear in the number of variables and degree of the SAT problem.\n",
    "\n",
    "The system, we will use as an example in this notebook, is described by the following boolean formular:\n",
    "$\n",
    "(x_1 \\vee x_2) \\wedge (x_2 \\vee \\neg x_3 \\vee x_4) \\wedge (x_3 \\vee \\neg x_5 \\vee \\neg x_6)\n",
    "$\n",
    "\n",
    "We will use the same implementation cost for each feature as in the other notebook:\n",
    "\n",
    "| Feature | Cost $c_i$ |\n",
    "|---------|------------|\n",
    "| $x_1$   | 30         |\n",
    "| $x_2$   | 20         |\n",
    "| $x_3$   | 25         |\n",
    "| $x_4$   | 50         |\n",
    "| $x_5$   | 10         |\n",
    "| $x_6$   | 10         |"
   ],
   "metadata": {
    "collapsed": false
   }
  },
  {
   "cell_type": "markdown",
   "source": [
    "## Converting k-SAT to HOBO\n",
    "\n",
    "For clauses containing two variables, we can just use the quadratic penalties described by [Glover](https://arxiv.org/abs/1811.11538) we used in the other notebook:\n",
    "\n",
    "| Clause Type   | Example                        | Constraint                 | Penalty                     |\n",
    "|---------------|--------------------------------|----------------------------|-----------------------------|\n",
    "| No Negations  | $(x_i \\vee x_j)$               | $x_i + x_j \\geq 1$         | $(1 - x_i - x_j + x_i x_j)$ |\n",
    "| One Negation  | $(x_i \\vee \\lnot{}x_j)$        | $x_i + (1-x_j) \\geq 1$     | $(x_j - x_i x_j)$           |\n",
    "| Two Negations | $(\\lnot{}x_i \\vee \\lnot{}x_j)$ | $(1-x_i) + (1-x_j) \\geq 1$ | $(x_i x_j)$                 |\n",
    "\n",
    "For clauses containing $k \\ge 3$ variables, we can apply the penalties recursively.\n",
    "\n",
    "$$(x_i \\vee x_j \\vee x_k) = ((x_i \\vee x_j) \\vee x_k)$$\n",
    "\n",
    "We first apply the quadratic penalty to $(x_i \\vee x_j)$.\n",
    "The resulting penalty can be seen as a new variable $x_{ij}$ that is 0 exactly when $(x_i \\vee x_j)$ is fulfilled and 1 otherwise, meaning $x_{ij} = \\neg(x_i \\vee x_j)$\n",
    "Using that, we can define the boolean funktion as\n",
    "\n",
    "$$(x_i \\vee x_j \\vee x_k) = (x_k \\vee \\neg x_{ij})$$\n",
    "\n",
    "which we can again transform using the given quadratic penalties as follows:\n",
    "\n",
    "$$\n",
    "(x_{ij} - x_k x_{ij})\\\\\n",
    "= ((1 - x_i - x_j + x_i x_j) - x_k (1 - x_i - x_j + x_i x_j))\\\\\n",
    "= (1 - x_i - x_j + x_i x_j - x_k + x_i x_k + x_j x_k - x_i x_j x_k)\\\\\n",
    "= (1 - x_i - x_j - x_k + x_i x_j + x_i x_k + x_j x_k - x_i x_j x_k)\n",
    "$$\n",
    "\n",
    "The same principle can be applied for clauses with negations or more variables.\n",
    "\n",
    "Using this method we can transform our example into the corresponding HOBO model.\n",
    "\n",
    "$$\n",
    "min~y(x) = (1- x_1 - x_2 + x_1 x_2) + (x_3 - x_2 x_3 - x_3 x_4 + x_2 x_3 x_4) + (x_5 x_6 - x_3 x_5 x_6)\\\\\n",
    "~~~~~~~~~~~~~= 1 - x_1 - x_2 + x_3 + x_1 x_2 - x_2 x_3 - x_3 x_4 + x_5 x_6 + x_2 x_3 x_4 - x_3 x_5 x_6\n",
    "$$\n"
   ],
   "metadata": {
    "collapsed": false
   }
  }
 ],
 "metadata": {
  "kernelspec": {
   "display_name": "Python 3",
   "language": "python",
   "name": "python3"
  },
  "language_info": {
   "codemirror_mode": {
    "name": "ipython",
    "version": 2
   },
   "file_extension": ".py",
   "mimetype": "text/x-python",
   "name": "python",
   "nbconvert_exporter": "python",
   "pygments_lexer": "ipython2",
   "version": "2.7.6"
  }
 },
 "nbformat": 4,
 "nbformat_minor": 0
}
