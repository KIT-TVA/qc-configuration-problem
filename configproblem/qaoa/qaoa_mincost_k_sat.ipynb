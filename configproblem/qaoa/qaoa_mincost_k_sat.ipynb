{
 "cells": [
  {
   "cell_type": "markdown",
   "metadata": {},
   "source": [
    "# Solving a mincost k-SAT problem using QAOA\n",
    "\n",
    "Before looking at this notebook, you should understand the methods described in the qaoa_mincost_sat notebook, as we will consider those as given here.\n",
    "With the methods described in the qaoa_mincost_sat notebook, we are only able to solve 2-SAT problems, because we transform our SAT problem to a QUBO problem, which is limited to quadratic terms, and then implement the corresponding Ising model in a quantum circuit.\n",
    "There are also methods for quadratization of Polynomial Unconstrained Binary Optimization (PUBO) problems, meaning a transformation to a QUBO problem, but they introduce auxiliary variables and thus require additional qubits. Nevertheless, we will also have a look at this method in this notebook.\n",
    "\n",
    "The following describes, how to convert an arbitrary SAT problem to a PUBO problem and how to implement the corresponding problem circuit for applying QAOA, while using the same number of qubits as there are boolean variables in the SAT term.\n",
    "\n",
    "The system, we will use as an example in this notebook, is described by the following boolean formular:\n",
    "$\n",
    "(x_1 \\vee x_2) \\wedge (x_2 \\vee \\neg x_3 \\vee x_4) \\wedge (x_3 \\vee \\neg x_5 \\vee \\neg x_6)\n",
    "$\n",
    "\n",
    "We will use the same implementation cost for each feature as in the other notebook:\n",
    "\n",
    "| Feature | Cost $c_i$ |\n",
    "|---------|------------|\n",
    "| $x_1$   | 30         |\n",
    "| $x_2$   | 20         |\n",
    "| $x_3$   | 25         |\n",
    "| $x_4$   | 50         |\n",
    "| $x_5$   | 10         |\n",
    "| $x_6$   | 10         |"
   ]
  },
  {
   "cell_type": "markdown",
   "metadata": {},
   "source": [
    "## Converting k-SAT to PUBO\n",
    "\n",
    "To get the penalties for general clauses $(x_i \\vee \\dots \\vee x_j \\vee \\neg x_k \\vee \\dots \\vee \\neg x_l)$, we can use the following term:\n",
    "\n",
    "$$(1 - x_i) \\dots (1 - x_j) (x_k) \\dots (x_l)$$\n",
    "\n",
    "If the clause consists of exactly two boolean variables, this is equivalent to the quadratic penalties described by [Glover](https://arxiv.org/abs/1811.11538) we used in the other notebook.\n",
    "\n",
    "Using this method we can transform our example into the corresponding PUBO model.\n",
    "\n",
    "$$\n",
    "y(\\vec x) = (1 - x_1)(1 - x_2) + (1 - x_2)(x_3)(1 - x_4) + (1 - x_3)(x_5)(x_6)\\\\\n",
    "= 1 - x_1 - x_2 + x_3 + x_1 x_2 - x_2 x_3 - x_3 x_4 + x_5 x_6 + x_2 x_3 x_4 - x_3 x_5 x_6\n",
    "$$\n",
    "\n",
    "We can now transform this PUBO model into an Ising model\n",
    "\n",
    "$$\n",
    "y(\\vec z) = 1 - \\frac{1 -z_1}{2} - \\frac{1 - z_2}{2} + \\frac{1 - z_3}{2} + \\frac{1 - z_1}{2} \\frac{1 - z_2}{2} - \\frac{1 - z_2}{2} \\frac{1 - z_3}{2} - \\frac{1 - z_3}{2} \\frac{1 - z_4}{2} + \\frac{1 - z_5}{2} \\frac{1 - z_6}{2} + \\frac{1 - z_2}{2} \\frac{1 - z_3}{2} \\frac{1 - z_4}{2} - \\frac{1 - z_3}{2} \\frac{1 - z_5}{2} \\frac{1 - z_6}{2}\\\\\n",
    "= \\frac{1}{2} - \\frac{1}{4} z_1 + \\frac{3}{8} z_2 + \\frac{1}{8} z_4 - \\frac{1}{8} z_5 - \\frac{1}{8} z_6 + \\frac{1}{4} z_1 z_2 - \\frac{1}{8} z_2 z_3 + \\frac{1}{8} z_2 z_4 - \\frac{1}{8} z_3 z_4 - \\frac{1}{8} z_3 z_5 - \\frac{1}{8} z_3 z_6 + \\frac{1}{8} z_5 z_6 - \\frac{1}{8} z_2 z_3 z_4 + \\frac{1}{8} z_3 z_5 z_6\\\\\n",
    "$$\n",
    "\n",
    "Which leaves us with the following validity hamiltonian $H_v$:\n",
    "\n",
    "$$\n",
    "H_v = \\frac{1}{2} - \\frac{1}{4} \\sigma_1^z + \\frac{3}{8} \\sigma_2^z + \\frac{1}{8} \\sigma_4^z - \\frac{1}{8} \\sigma_5^z - \\frac{1}{8} \\sigma_6^z + \\frac{1}{4} \\sigma_1^z \\sigma_2^z - \\frac{1}{8} \\sigma_2^z \\sigma_3^z + \\frac{1}{8} \\sigma_2^z \\sigma_4^z - \\frac{1}{8} \\sigma_3^z \\sigma_4^z - \\frac{1}{8} \\sigma_3^z \\sigma_5^z - \\frac{1}{8} \\sigma_3^z \\sigma_6^z + \\frac{1}{8} \\sigma_5^z \\sigma_6^z - \\frac{1}{8} \\sigma_2^z \\sigma_3^z \\sigma_4^z + \\frac{1}{8} \\sigma_3^z \\sigma_5^z \\sigma_6^z\\\\\n",
    "$$\n",
    "\n",
    "We can implement such a hamiltonian using the `qubovert` library."
   ]
  },
  {
   "cell_type": "markdown",
   "metadata": {},
   "source": [
    "## Quantum Circuit\n",
    "\n",
    "We start by defining a parametrized circuit.\n",
    "We will skip the details of initialization and implementing the mixing operator, as they are the same as in the other notebook."
   ]
  },
  {
   "cell_type": "code",
   "execution_count": null,
   "metadata": {},
   "outputs": [],
   "source": [
    "# Notebook Setup\n",
    "from IPython.core import page\n",
    "page.page = print\n",
    "\n",
    "# Imports used for examples\n",
    "from pprint import pprint"
   ]
  },
  {
   "cell_type": "markdown",
   "metadata": {},
   "source": [
    "### Phase-separating operator\n",
    "Like in the other notebook, the phase-separating operator $U_C$ encodes $C$ and can be derived from a cost Hamiltonian $H_{C}$ in Ising-form.\n",
    "Unlike in the other notebook, there is now the possibility of having terms of degree higher than 2 in the cost function, for which we need to implement the corresponding multicontrolled $R_z$ gates.\n",
    "We do this by decomposing the multicontrolled $R_z$ gate into multiple $CNOT$ gates and a single $R_z$ gate as illustrated by [Glos et al](https://arxiv.org/pdf/2009.07309.pdf).\n"
   ]
  },
  {
   "cell_type": "code",
   "execution_count": null,
   "metadata": {},
   "outputs": [],
   "source": [
    "from qaoa_mincost_k_sat import k_rz_gate\n",
    "from qiskit import QuantumCircuit\n",
    "\n",
    "qubits = [0, 1, 2]\n",
    "qc = QuantumCircuit(len(qubits))\n",
    "qc_zzz = k_rz_gate(qc, qubits, 1)\n",
    "qc_zzz.draw(output='mpl')"
   ]
  },
  {
   "cell_type": "markdown",
   "metadata": {},
   "source": [
    "Using this implementation of multicontrolled $R_z$ gates, we can now implement the phase-separating operator for our example."
   ]
  },
  {
   "cell_type": "code",
   "execution_count": null,
   "metadata": {},
   "outputs": [],
   "source": [
    "# Hamiltonians may be described as a dict of tuples describing acting qubits and a value for each clause\n",
    "# hamiltonian = {(q1?, q2?, ...) : factor}\n",
    "sat_hamiltonian = {\n",
    "    (): 0.5,\n",
    "    (0,): 0.25,\n",
    "    (1,): 0.375,\n",
    "    (3,): 0.125,\n",
    "    (4,): -0.125,\n",
    "    (5,): -0.125,\n",
    "    (0, 1): 0.25,\n",
    "    (1, 2): -0.125,\n",
    "    (1, 3): 0.125,\n",
    "    (2, 3): -0.125,\n",
    "    (2, 4): -0.125,\n",
    "    (2, 5): -0.125,\n",
    "    (4, 5): 0.125,\n",
    "    (1, 2, 3): -0.125,\n",
    "    (2, 4, 5): 0.125\n",
    "}"
   ]
  },
  {
   "cell_type": "code",
   "execution_count": null,
   "metadata": {},
   "outputs": [],
   "source": [
    "from qaoa_mincost_k_sat import problem_circuit\n",
    "%psource problem_circuit"
   ]
  },
  {
   "cell_type": "code",
   "execution_count": null,
   "metadata": {},
   "outputs": [],
   "source": [
    "from qiskit.circuit import Parameter\n",
    "\n",
    "example_qc_problem = problem_circuit(sat_hamiltonian, 6, Parameter(\"$\\\\gamma$\"))\n",
    "example_qc_problem.draw(output='mpl')"
   ]
  },
  {
   "cell_type": "code",
   "execution_count": null,
   "metadata": {},
   "outputs": [],
   "source": [
    "# cost and sat individually\n",
    "from configproblem.util.model_transformation import convert_to_penalty\n",
    "from qubovert import boolean_var\n",
    "\n",
    "# define binary vars\n",
    "x1, x2, x3, x4, x5, x6 = boolean_var('x1'), boolean_var('x2'), boolean_var('x3'), boolean_var('x4'), boolean_var('x5'), boolean_var('x6')\n",
    "\n",
    "# SAT Penalty\n",
    "alpha_sat = 1000 # 1e6\n",
    "\n",
    "sat_instance = [[(x1, True), (x2, True)],\n",
    "              [(x2, True), (x3, False), (x4, True)],\n",
    "              [(x3, True), (x5, False), (x6, False)]]\n",
    "\n",
    "# SAT PUBO\n",
    "sat_model = convert_to_penalty(sat_instance)\n",
    "\n",
    "# Cost PUBO\n",
    "cost_model = 30*x1 + 20*x2 + 25*x3 + 50*x4 + 10*x5 + 10*x6\n",
    "\n",
    "# Combine models\n",
    "combined_model = cost_model + alpha_sat * sat_model\n",
    "print(\"PUBO Combined Model:\")\n",
    "pprint(combined_model)\n",
    "print(\"Ising Combined Model: \")\n",
    "combined_hamiltonian = combined_model.to_puso()\n",
    "pprint(combined_hamiltonian)"
   ]
  },
  {
   "cell_type": "code",
   "execution_count": null,
   "metadata": {},
   "outputs": [],
   "source": [
    "from configproblem.util.visualization import plot_beta_gamma_cost_landscape, plot_f_mu_cost_landscape\n",
    "import configproblem.qaoa.qaoa_mixer as mixer\n",
    "# Plot cost landscape for different values of beta and gamma\n",
    "hamiltonians = [{'hamiltonian': sat_model.to_puso(), 'name': 'SAT'},\n",
    "               {'hamiltonian': cost_model.to_puso(), 'name': 'COST'},\n",
    "               {'hamiltonian': combined_hamiltonian, 'name': 'COMBINED'}]\n",
    "strategies = ['min', 'avg', 'top']\n",
    "# plot_beta_gamma_cost_landscape(problem_circuit, mixer.standard_mixer, hamiltonians, strategies, 6, 0.2)\n",
    "# \n",
    "# # Plot cost landscape for different f and mu\n",
    "# plot_f_mu_cost_landscape(combined_hamiltonian, 6)"
   ]
  },
  {
   "cell_type": "code",
   "execution_count": null,
   "metadata": {},
   "outputs": [],
   "source": [
    "from qaoa_application import apply_qaoa\n",
    "from qaoa_mincost_k_sat import problem_circuit\n",
    "from configproblem.util.hamiltonian_math import get_hamiltonian_dimension\n",
    "import configproblem.qaoa.qaoa_parameter_optimization as parameter_optimization\n",
    "\n",
    "hamiltonian = combined_hamiltonian\n",
    "mixer_circuit = mixer.standard_mixer\n",
    "parameter_optimization = parameter_optimization.get_optimizer('CG')\n",
    "layers = 10 # more layers = higher approximation rate but more quantum errors when running on real qpu\n",
    "n_features = 6\n",
    "shots = 256\n",
    "theta = {\"beta\": 0.01, \"gamma\": -0.01} # start values for optimization\n",
    "strategy = 'avg'\n",
    "use_warmstart = False\n",
    "use_optimizer = True\n",
    "\n",
    "if not use_warmstart:\n",
    "    warmstart_statevector = None\n",
    "\n",
    "counts, qc = apply_qaoa(problem_circuit, mixer_circuit, parameter_optimization, hamiltonian, layers, get_hamiltonian_dimension(hamiltonian), shots, theta, warmstart_statevector, strategy=strategy, use_optimizer=use_optimizer)"
   ]
  },
  {
   "cell_type": "code",
   "execution_count": null,
   "metadata": {},
   "outputs": [],
   "source": [
    "from configproblem.util.visualization import plot_counts_histogram\n",
    "\n",
    "best_config = \"000010\" # 654321\n",
    "valid_configs = [\"111111\", \"011111\", \"101111\", \"001111\", \"110111\", \"010111\", \"100111\", \"000111\", \"011011\", \"101011\", \"001011\", \"010011\", \"100011\", \"000011\", \"111101\", \"011101\", \"101101\", \"001101\", \"011001\", \"101001\", \"001001\", \"010001\", \"100001\", \"000001\", \"111110\", \"011110\", \"101110\", \"001110\", \"110110\", \"010110\", \"100110\", \"000110\", \"011010\", \"101010\", \"001010\", \"010010\", \"100010\", \"000010\"]\n",
    "\n",
    "plot_counts_histogram(counts, get_hamiltonian_dimension(hamiltonian), best_config, valid_configs)"
   ]
  },
  {
   "cell_type": "code",
   "execution_count": null,
   "metadata": {},
   "outputs": [],
   "source": [
    "# Visualize results using the StatevectorSimulator\n",
    "from qaoa_application import apply_qaoa_statevector\n",
    "import numpy as np\n",
    "\n",
    "probabilities, _ = apply_qaoa_statevector(problem_circuit, mixer_circuit, parameter_optimization, hamiltonian, layers, get_hamiltonian_dimension(hamiltonian), theta, warmstart_statevector, strategy=strategy, use_optimizer=use_optimizer, print_res=True)\n",
    "probabilities_dict = {}\n",
    "for i in range(0, 2 ** get_hamiltonian_dimension(hamiltonian)):\n",
    "    probabilities_dict[(np.binary_repr(i, width=get_hamiltonian_dimension(hamiltonian)))] = round(probabilities[i], 4)\n",
    "\n",
    "plot_counts_histogram(probabilities_dict, get_hamiltonian_dimension(hamiltonian), best_config, valid_configs)"
   ]
  },
  {
   "cell_type": "markdown",
   "source": [
    "## Quadratization of PUBOs\n",
    "\n",
    "Instead of using the PUBO model directly, we can also quadratize the model and use the corresponding QUBO model.\n",
    "For example, if we transform the clause $(x_i \\vee x_j \\vee x_k)$, we get the following penalty:\n",
    "\n",
    "$$1 - x_i - x_j - x_k + x_i x_j + x_i x_k + x_j x_k - x_i x_j x_k$$\n",
    "\n",
    "By introducing a new auxiliary variable $w_{ij} = x_i x_j$ we can rewrite this penalty as:\n",
    "\n",
    "$$1 - x_i - x_j - x_k + w_{ij} + x_i x_k + x_j x_k - w_{ij} x_k$$\n",
    "\n",
    "This term no longer contains a product of three variables but products of at most two variables and can therefore be used in a QUBO model.\n",
    "The method for reduction by substitution above was first described by I. G. Rosenberg in \"Reduction of Bivalent Maximization to the Quadratic Case\" (1975) and can be found in a collection of different quadratization methods by [Dattani](https://arxiv.org/pdf/1901.04405.pdf).\n",
    "\n",
    "We use the `to_quso()` function from the `qubovert` library to quadratize the PUBO model.\n",
    "After applying QAOA to the resulting QUBO model, we can use the `convert_ancilla_bit_results()` function to convert the results back to the original PUBO model."
   ],
   "metadata": {
    "collapsed": false
   }
  },
  {
   "cell_type": "code",
   "execution_count": null,
   "metadata": {},
   "outputs": [],
   "source": [
    "# Visualize results using the StatevectorSimulator with quadratized hamiltonian\n",
    "from qaoa_application import apply_qaoa_statevector\n",
    "from qaoa_mincost_k_sat import convert_ancilla_bit_results\n",
    "from qaoa_mincost_sat import problem_circuit as qubo_problem_circuit\n",
    "import numpy as np\n",
    "\n",
    "hamiltonian = combined_model.to_quso()\n",
    "\n",
    "print(\"Quadratized Hamiltonian:\")\n",
    "pprint(hamiltonian)\n",
    "\n",
    "probabilities, _ = apply_qaoa_statevector(qubo_problem_circuit, mixer_circuit, parameter_optimization, hamiltonian, layers, get_hamiltonian_dimension(hamiltonian), theta, warmstart_statevector, strategy=strategy, use_optimizer=use_optimizer, print_res=True)\n",
    "probabilities_dict = {}\n",
    "for i in range(0, 2 ** get_hamiltonian_dimension(hamiltonian)):\n",
    "    probabilities_dict[np.binary_repr(i, width=get_hamiltonian_dimension(hamiltonian))] = probabilities[i]\n",
    "\n",
    "probabilities_dict = convert_ancilla_bit_results(probabilities_dict, n_features)\n",
    "\n",
    "for key in probabilities_dict:\n",
    "    probabilities_dict[key] = round(probabilities_dict[key], 4)\n",
    "\n",
    "plot_counts_histogram(probabilities_dict, n_features, best_config, valid_configs)"
   ]
  },
  {
   "cell_type": "markdown",
   "source": [
    "## Configuration Prioritization using PUBO models\n",
    "\n",
    "If we have an arbitrary SAT instance, we can use QAOA to find the most likely configuration. We can then exclude the configuration we found from the SAT instance by adding the following clause:\n",
    "\n",
    "$$(x_i \\vee \\dots \\vee x_j \\vee \\neg x_k \\vee \\dots \\vee \\neg x_l)$$\n",
    "\n",
    "Where $x_i$ to $x_j$ are the variables that have the value $0$ for the found configuration and $x_k$ to $x_l$ are the variables that have the value $1$ for the found configuration.\n",
    "\n",
    "We can then run QAOA again with this new SAT instance to find the next most likely configuration.\n",
    "We can repeat this process until we have found a certain number of configurations, thus creating a prioritized list of configurations."
   ],
   "metadata": {
    "collapsed": false
   }
  },
  {
   "cell_type": "code",
   "execution_count": null,
   "metadata": {},
   "outputs": [],
   "source": [
    "from configproblem.qaoa.qaoa_mincost_k_sat import exclude_config\n",
    "\n",
    "list_length = 5\n",
    "debug_output = True\n",
    "\n",
    "current_sat_instance = sat_instance\n",
    "boolean_vars = [x1, x2, x3, x4, x5, x6]\n",
    "prioritized_list = []\n",
    "current_hamiltonian = combined_model.to_puso()\n",
    "for i in range(list_length):\n",
    "    probabilities, _ = apply_qaoa_statevector(problem_circuit, mixer_circuit, parameter_optimization, current_hamiltonian, strategy=strategy, print_res=False)\n",
    "    probabilities_dict = {}\n",
    "    for j in range(0, 2 ** get_hamiltonian_dimension(current_hamiltonian)):\n",
    "        probabilities_dict[(np.binary_repr(j, width=get_hamiltonian_dimension(current_hamiltonian)))] = round(probabilities[j], 4)\n",
    "\n",
    "    current_config = max(probabilities_dict, key=probabilities_dict.get)\n",
    "    current_sat_instance = exclude_config(current_sat_instance, boolean_vars, current_config)\n",
    "    new_combined_model = cost_model + alpha_sat * convert_to_penalty(current_sat_instance)\n",
    "\n",
    "    if debug_output:\n",
    "        print(\"Current hamiltonian: \" + str(current_hamiltonian))\n",
    "        plot_counts_histogram(probabilities_dict, get_hamiltonian_dimension(current_hamiltonian), best_config, valid_configs)\n",
    "        print(\"New combined model: \" + str(new_combined_model))\n",
    "\n",
    "    valid_configs.remove(current_config)\n",
    "    current_hamiltonian = new_combined_model.to_puso()\n",
    "    prioritized_list.append(current_config)\n",
    "\n",
    "print(prioritized_list)"
   ]
  }
 ],
 "metadata": {
  "kernelspec": {
   "display_name": "Python 3 (ipykernel)",
   "language": "python",
   "name": "python3"
  },
  "language_info": {
   "codemirror_mode": {
    "name": "ipython",
    "version": 3
   },
   "file_extension": ".py",
   "mimetype": "text/x-python",
   "name": "python",
   "nbconvert_exporter": "python",
   "pygments_lexer": "ipython3",
   "version": "3.9.13"
  }
 },
 "nbformat": 4,
 "nbformat_minor": 1
}
