{
 "cells": [
  {
   "cell_type": "code",
   "execution_count": null,
   "outputs": [],
   "source": [
    "# imports\n",
    "from qaoa_application import apply_qaoa_statevector\n",
    "from qaoa_mincost_k_sat import problem_circuit as puso_problem_circuit, convert_ancilla_bit_results\n",
    "from qaoa_mincost_sat import problem_circuit as quso_problem_circuit\n",
    "from configproblem.util.hamiltonian_math import get_hamiltonian_dimension\n",
    "from configproblem.util.visualization import plot_counts_histogram\n",
    "from configproblem.util.problem_instance import ProblemInstance\n",
    "from pprint import pprint\n",
    "import numpy as np\n",
    "from qubovert import boolean_var"
   ],
   "metadata": {
    "collapsed": false
   }
  },
  {
   "cell_type": "code",
   "execution_count": null,
   "metadata": {
    "collapsed": true
   },
   "outputs": [],
   "source": [
    "# define binary vars\n",
    "x1, x2, x3, x4, x5, x6 = boolean_var('x1'), boolean_var('x2'), boolean_var('x3'), boolean_var('x4'), boolean_var('x5'), boolean_var('x6')\n",
    "\n",
    "problem_instances = [ProblemInstance([[(x1, True), (x2, True)],\n",
    "                                      [(x2, True), (x3, False), (x4, True)],\n",
    "                                      [(x3, True), (x5, False), (x6, False)]],\n",
    "                                     [x1, x2, x3, x4, x5, x6],\n",
    "                                     [30, 20, 25, 50, 10, 10])]\n",
    "alpha_sat = 1000\n",
    "\n",
    "# qaoa application config\n",
    "layers = 60 # more layers = higher approximation rate but more quantum errors when running on real qpu\n",
    "n_features = 6\n",
    "theta = {\"beta\": 0.01, \"gamma\": -0.01} # start values for optimization\n",
    "strategy = 'min'\n",
    "use_warmstart = False\n",
    "use_optimizer = True\n",
    "print_res = False\n",
    "warmstart_statevector = None"
   ]
  },
  {
   "cell_type": "code",
   "execution_count": null,
   "outputs": [],
   "source": [
    "# print hamiltonians\n",
    "for index, instance in enumerate(problem_instances):\n",
    "    print(f\"Instance {index}:\")\n",
    "    pprint(instance.get_puso_combined_hamiltonian(alpha_sat))"
   ],
   "metadata": {
    "collapsed": false
   }
  },
  {
   "cell_type": "code",
   "execution_count": null,
   "outputs": [],
   "source": [
    "# plot cost landscape"
   ],
   "metadata": {
    "collapsed": false
   }
  },
  {
   "cell_type": "code",
   "execution_count": null,
   "outputs": [],
   "source": [
    "# plot PUBO results\n",
    "for index, instance in enumerate(problem_instances):\n",
    "    print(f\"Instance {index}:\")\n",
    "    hamiltonian = instance.get_puso_combined_hamiltonian(alpha_sat)\n",
    "\n",
    "    probabilities, _ = apply_qaoa_statevector(puso_problem_circuit, hamiltonian, layers, get_hamiltonian_dimension(hamiltonian), theta, warmstart_statevector, strategy=strategy, use_optimizer=use_optimizer, print_res=print_res)\n",
    "    probabilities_dict = {}\n",
    "    for i in range(0, 2 ** get_hamiltonian_dimension(hamiltonian)):\n",
    "        probabilities_dict[(np.binary_repr(i, width=get_hamiltonian_dimension(hamiltonian)))] = round(probabilities[i], 4)\n",
    "\n",
    "    plot_counts_histogram(probabilities_dict, get_hamiltonian_dimension(hamiltonian), instance.get_best_config(), instance.get_valid_configs())"
   ],
   "metadata": {
    "collapsed": false
   }
  },
  {
   "cell_type": "code",
   "execution_count": null,
   "outputs": [],
   "source": [
    "# plot quadratized QUBO results\n",
    "for index, instance in enumerate(problem_instances):\n",
    "    print(f\"Instance {index}:\")\n",
    "    hamiltonian = instance.get_quso_combined_hamiltonian(alpha_sat)\n",
    "\n",
    "    probabilities, _ = apply_qaoa_statevector(quso_problem_circuit, hamiltonian, layers, get_hamiltonian_dimension(hamiltonian), theta, warmstart_statevector, strategy=strategy, use_optimizer=use_optimizer, print_res=print_res)\n",
    "    probabilities_dict = {}\n",
    "    for i in range(0, 2 ** get_hamiltonian_dimension(hamiltonian)):\n",
    "        probabilities_dict[np.binary_repr(i, width=get_hamiltonian_dimension(hamiltonian))] = probabilities[i]\n",
    "\n",
    "    probabilities_dict = convert_ancilla_bit_results(probabilities_dict, n_features)\n",
    "\n",
    "    for key in probabilities_dict:\n",
    "        probabilities_dict[key] = round(probabilities_dict[key], 4)\n",
    "\n",
    "    plot_counts_histogram(probabilities_dict, n_features, instance.get_best_config(), instance.get_valid_configs())"
   ],
   "metadata": {
    "collapsed": false
   }
  }
 ],
 "metadata": {
  "kernelspec": {
   "display_name": "Python 3",
   "language": "python",
   "name": "python3"
  },
  "language_info": {
   "codemirror_mode": {
    "name": "ipython",
    "version": 2
   },
   "file_extension": ".py",
   "mimetype": "text/x-python",
   "name": "python",
   "nbconvert_exporter": "python",
   "pygments_lexer": "ipython2",
   "version": "2.7.6"
  }
 },
 "nbformat": 4,
 "nbformat_minor": 0
}
