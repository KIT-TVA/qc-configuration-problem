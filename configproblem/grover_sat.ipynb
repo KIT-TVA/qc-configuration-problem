{
 "cells": [
  {
   "cell_type": "markdown",
   "id": "ead2cbc8",
   "metadata": {},
   "source": [
    "# Solving SAT With Grover\n",
    "In this notebook, we aim to solve satisfyability formulae using grover search.\n",
    "For this, we first construct marking oracles for the basic gates of AND, OR and NOT.\n",
    "Then, we transform them into the required phase-oracle-form.\n",
    "\n",
    "The main resources used are this [Microsoft Kata](https://github.com/microsoft/QuantumKatas/blob/ec925ccfcb599a6bb29c8a39035d0b149f447f9a/SolveSATWithGrover/Workbook_SolveSATWithGrover.ipynb) and this [Qiskit Textbook Chapter](https://qiskit.org/textbook/ch-applications/satisfiability-grover.html).\n",
    "\n"
   ]
  },
  {
   "cell_type": "code",
   "execution_count": null,
   "id": "b6090ad2",
   "metadata": {},
   "outputs": [],
   "source": [
    "from IPython.core import page\n",
    "page.page = print\n",
    "\n",
    "from qiskit.circuit import Qubit, QuantumRegister, AncillaRegister, QuantumCircuit, Gate, ClassicalRegister\n",
    "from qiskit.quantum_info import Operator\n",
    "\n",
    "import numpy as np\n",
    "import math\n",
    "np.set_printoptions(threshold=1e6)"
   ]
  },
  {
   "cell_type": "markdown",
   "id": "3d4da92b",
   "metadata": {},
   "source": [
    "## Marking Oracles\n",
    "### And"
   ]
  },
  {
   "cell_type": "code",
   "execution_count": null,
   "id": "52ca2a43",
   "metadata": {},
   "outputs": [],
   "source": [
    "from grover_sat import create_and_oracle\n",
    "%psource create_and_oracle"
   ]
  },
  {
   "cell_type": "markdown",
   "id": "c832fd6b",
   "metadata": {},
   "source": [
    "### Or"
   ]
  },
  {
   "cell_type": "code",
   "execution_count": null,
   "id": "c15b61de",
   "metadata": {},
   "outputs": [],
   "source": [
    "from grover_sat import create_or_oracle\n",
    "%psource create_or_oracle"
   ]
  },
  {
   "cell_type": "markdown",
   "id": "0476a398",
   "metadata": {},
   "source": [
    "While we could go on further and create _XOR_ and _AlternatingBits_ oracles but we don't need them for now so let's not :)\n",
    "\n",
    "## SAT Marking Oracles\n",
    "Using our marking gate-oracles, we can create oracles for evaluating SAT clauses and finally complete functions.\n",
    "\n",
    "### Single Clause Oracle\n",
    "A Clause is a disjunction of variables (qubits) that are potentially negated.\n",
    "The clause `x0 || !x1` may be represented by the input `[(0, true), (1, false)]`."
   ]
  },
  {
   "cell_type": "code",
   "execution_count": null,
   "id": "c1479873",
   "metadata": {},
   "outputs": [],
   "source": [
    "from grover_sat import get_clause_qubits\n",
    "%psource create_and_oracle\n",
    "\n",
    "from grover_sat import create_clause_oracle\n",
    "%psource create_and_oracle"
   ]
  },
  {
   "cell_type": "code",
   "execution_count": null,
   "id": "bbf077cc",
   "metadata": {},
   "outputs": [],
   "source": [
    "# Debug Clause Oracle\n",
    "inp_reg = QuantumRegister(3, name=\"q_in\")\n",
    "tar = Qubit()\n",
    "tar_reg = QuantumRegister(bits=[tar])\n",
    "clause = [(0, True),(1, False),(2,False)]\n",
    "\n",
    "clause_circuit = create_clause_oracle(inp_reg, tar, clause)\n",
    "clause_circuit.draw(output=\"mpl\")"
   ]
  },
  {
   "cell_type": "markdown",
   "id": "5962e20a",
   "metadata": {},
   "source": [
    "### k-SAT Oracle\n",
    "Using our single clause oracle, we can take their conjunction and create a marking oracle for the entire expression."
   ]
  },
  {
   "cell_type": "code",
   "execution_count": null,
   "id": "b777fed3",
   "metadata": {},
   "outputs": [],
   "source": [
    "from grover_sat import create_ksat_oracle\n",
    "%psource create_ksat_oracle"
   ]
  },
  {
   "cell_type": "markdown",
   "id": "68bf5f17",
   "metadata": {},
   "source": [
    "**DONE** We can now formulate a SAT problem and create a marking oracle for it!"
   ]
  },
  {
   "cell_type": "code",
   "execution_count": null,
   "id": "224fa5a0",
   "metadata": {},
   "outputs": [],
   "source": [
    "# f(x) = (B + !D + E) * (A + !C)\n",
    "# g(x) = (!A+!C)(!B+C)\n",
    "problem_f = [[(1, True),(3, False),(4, True)],\n",
    "          [(0, True),(2, False)]]\n",
    "\n",
    "problem_g = [[(0, False)], [(1, True), (2, True)]]\n",
    "\n",
    "problem = np.array(problem_f, dtype=object)\n",
    "n_variables = 5\n",
    "\n",
    "inp_reg = QuantumRegister(n_variables, name=\"q_in\")\n",
    "tar = Qubit()\n",
    "tar_reg = QuantumRegister(bits=[tar])\n",
    "\n",
    "problem_circuit = create_ksat_oracle(inp_reg, tar, problem)\n",
    "problem_circuit.draw(output=\"mpl\", justify=\"left\")"
   ]
  },
  {
   "cell_type": "markdown",
   "id": "bccd06b0",
   "metadata": {},
   "source": [
    "## Converting the oracles into phase oracles for Grover"
   ]
  },
  {
   "cell_type": "code",
   "execution_count": null,
   "id": "c75a1ce0",
   "metadata": {},
   "outputs": [],
   "source": [
    "from grover_sat import oracle_converter\n",
    "%psource oracle_converter"
   ]
  },
  {
   "cell_type": "code",
   "execution_count": null,
   "id": "e0dba889",
   "metadata": {},
   "outputs": [],
   "source": [
    "phase_problem_circuit = oracle_converter(problem_circuit, len(inp_reg))\n",
    "phase_problem_circuit.draw(output=\"mpl\")"
   ]
  },
  {
   "cell_type": "markdown",
   "id": "6e17b214",
   "metadata": {},
   "source": [
    "### Analyzing Oracles"
   ]
  },
  {
   "cell_type": "code",
   "execution_count": null,
   "id": "8bf045b8",
   "metadata": {},
   "outputs": [],
   "source": [
    "from grover_sat import print_matrix\n",
    "%psource print_matrix\n",
    "    \n",
    "# print_matrix(phase_problem_circuit)"
   ]
  },
  {
   "cell_type": "code",
   "execution_count": null,
   "id": "4a22c7bc",
   "metadata": {},
   "outputs": [],
   "source": [
    "from grover_sat import print_diagonal_analysis\n",
    "%psource print_diagonal_analysis\n",
    "        \n",
    "#count_dummy = {'101': 30, '111': 32, '011': 31, '100': 271, '110': 296, '001': 28, '010': 282, '000': 30}\n",
    "count_dummy = {'01010': 1, '11000': 2, '11011': 7, '00011': 1, '01111': 3, '00010': 8, '00101': 4, '10101': 5, '01011': 6, '00001': 8, '11010': 5, '10010': 10, '00000': 1, '01001': 87, '10000': 6, '11001': 4, '11111': 2, '10110': 89, '11101': 3, '00110': 75, '11110': 87, '10111': 5, '01101': 79, '01110': 87, '10011': 7, '00100': 78, '01100': 78, '10001': 3, '01000': 91, '11100': 72, '00111': 4, '10100': 82}\n",
    "# print_diagonal_analysis(phase_problem_circuit, count_dummy)"
   ]
  },
  {
   "cell_type": "markdown",
   "id": "752eee7d",
   "metadata": {},
   "source": [
    "# Plugging Oracles into Grover\n",
    "As we can now create phase oracles, we can model a complete grover loop.\n",
    "\n",
    "1. Create uniform superposition over q_in (an & target stay |0>)\n",
    "2. Make oracle: ksat_for_problem(...) & phase_oracle(...)\n",
    "3. Grover Loop (k-times? correctness-check?)\n",
    "    1. Append Phase_Oracle over all q registers\n",
    "    2. Append Grover Diffuser over all q registers\n",
    "3. Add classical registers for output measurements\n",
    "5. Measure q_in into classical registers and check solution (histogram)"
   ]
  },
  {
   "cell_type": "code",
   "execution_count": null,
   "id": "5ed7acb9",
   "metadata": {},
   "outputs": [],
   "source": [
    "# Input:\n",
    "# f(x) = (x0 + !x1) * (!x2 + !x3) * (x2 + x3) * (!x4 + x5) # Poster Problem\n",
    "#problem = [[(0, True), (1, True)], [(2, False), (3, False)], [(2, True), (3, True)], [(4, False), (5, True)]]\n",
    "# n_variables = 6"
   ]
  },
  {
   "cell_type": "markdown",
   "id": "14be65eb",
   "metadata": {},
   "source": [
    "(1.) Create uniform superposition"
   ]
  },
  {
   "cell_type": "code",
   "execution_count": null,
   "id": "bfdb0d7a",
   "metadata": {},
   "outputs": [],
   "source": [
    "from fragments.quantum_states import add_all_hadamards\n",
    "%psource add_all_hadamards"
   ]
  },
  {
   "cell_type": "markdown",
   "id": "bab8c1c8",
   "metadata": {},
   "source": [
    "(2.) Make oracle for specific sat problem"
   ]
  },
  {
   "cell_type": "code",
   "execution_count": null,
   "id": "03853f32",
   "metadata": {},
   "outputs": [],
   "source": [
    "from grover_sat import init_sat_circuit\n",
    "%psource init_sat_circuit"
   ]
  },
  {
   "cell_type": "code",
   "execution_count": null,
   "id": "1901d48e",
   "metadata": {},
   "outputs": [],
   "source": [
    "_, _, _, _, qc_phase_oracle = init_sat_circuit(problem)\n",
    "qc_phase_oracle_decomposed = qc_phase_oracle.decompose() # .decompose().decompose().decompose()\n",
    "qc_phase_oracle_decomposed.draw(output=\"mpl\", justify=\"left\")\n"
   ]
  },
  {
   "cell_type": "markdown",
   "id": "d319782b",
   "metadata": {},
   "source": [
    "(3.) Grover Loop"
   ]
  },
  {
   "cell_type": "code",
   "execution_count": null,
   "id": "11b6fe28",
   "metadata": {},
   "outputs": [],
   "source": [
    "from grover_sat import create_ksat_grover\n",
    "%psource create_ksat_grover"
   ]
  },
  {
   "cell_type": "code",
   "execution_count": null,
   "id": "294a5d11",
   "metadata": {},
   "outputs": [],
   "source": [
    "# A suitable k could be calculated using quantum phase estimation\n",
    "k=1\n",
    "\n",
    "# Create the circuit\n",
    "main_qc, qc_oracle = create_ksat_grover(problem, k)\n",
    "\n",
    "\n",
    "main_qc.draw(output=\"mpl\", justify=\"left\")"
   ]
  },
  {
   "cell_type": "markdown",
   "id": "511d16cd",
   "metadata": {},
   "source": [
    "The Quantum Circuit is completed! Simulate it!"
   ]
  },
  {
   "cell_type": "code",
   "execution_count": null,
   "id": "76689a4a",
   "metadata": {},
   "outputs": [],
   "source": [
    "from qiskit import Aer, transpile\n",
    "from qiskit.visualization import plot_histogram\n",
    "from qiskit.providers.aer import StatevectorSimulator\n",
    "\n",
    "transpiled_grover_circuit = transpile(main_qc, StatevectorSimulator())\n",
    "results = StatevectorSimulator().run(transpiled_grover_circuit, shots=1000).result()\n",
    "counts = results.get_counts()\n",
    "histogram = plot_histogram(counts, figsize=(40, 10))\n",
    "histogram # For display purposes in jupyter"
   ]
  },
  {
   "cell_type": "markdown",
   "id": "b6163e0d",
   "metadata": {},
   "source": [
    "## Warmstarting other Quantum circuits\n",
    "If we want to use this result to warmstart other quantum circuits, we need the list of complex amplitudes of that statevector!"
   ]
  },
  {
   "cell_type": "code",
   "execution_count": null,
   "id": "f70d490e",
   "metadata": {},
   "outputs": [],
   "source": [
    "# Get the statevector from counts.\n",
    "from grover_sat import calc_statevector_from\n",
    "%psource calc_statevector_from"
   ]
  },
  {
   "cell_type": "markdown",
   "id": "6fd904e3",
   "metadata": {},
   "source": [
    "This function can be used to calculate a statevector from a set of measurements!\n",
    "Now double check that this vector yields the same result"
   ]
  },
  {
   "cell_type": "code",
   "execution_count": null,
   "id": "9f2a7124",
   "metadata": {},
   "outputs": [],
   "source": [
    "num_vars = n_variables # restrict to n qubits defined near the problems because we don't care about our ancillas\n",
    "manual_statevector = calc_statevector_from(counts, num_vars)\n",
    "print(repr(manual_statevector))\n",
    "\n",
    "qc_vec = QuantumCircuit(QuantumRegister(num_vars), ClassicalRegister(num_vars))\n",
    "qc_vec.initialize(manual_statevector)\n",
    "qc_vec.measure(list(range(num_vars)), list(range(num_vars)))\n",
    "qc_vec.draw(output=\"mpl\")"
   ]
  },
  {
   "cell_type": "code",
   "execution_count": null,
   "id": "89438d6e",
   "metadata": {
    "scrolled": true
   },
   "outputs": [],
   "source": [
    "transpiled_vec_circuit = transpile(qc_vec, StatevectorSimulator())\n",
    "print(f\"Circuit Depth: {transpiled_vec_circuit.depth()}\")\n",
    "results = StatevectorSimulator().run(transpiled_vec_circuit, shots=1000).result()\n",
    "counts = results.get_counts()\n",
    "histogram = plot_histogram(counts, figsize=(40, 10))\n",
    "histogram # For display purposes in jupyter"
   ]
  },
  {
   "cell_type": "markdown",
   "id": "1eb48186",
   "metadata": {},
   "source": [
    "# Importing Feature Models"
   ]
  },
  {
   "cell_type": "code",
   "execution_count": null,
   "id": "c31049c7",
   "metadata": {},
   "outputs": [],
   "source": [
    "# from qiskit import Aer, transpile\n",
    "# from util.xml_reader import Extended_Modelreader\n",
    "# from util.dimacs_reader import DimacsReader\n",
    "# from util.cnf import CNF\n",
    "# import os \n",
    "\n",
    "from grover_sat import create_grover_for_model\n",
    "%psource create_grover_for_model\n",
    "    \n",
    "model = \"../benchmarks/featureide-examples/car.dimacs\"\n",
    "# model = \"../benchmarks/problem_f.cnf\"\n",
    "model_circuit = create_grover_for_model(model)\n",
    "# model_circuit.draw(output=\"mpl\")"
   ]
  },
  {
   "cell_type": "code",
   "execution_count": null,
   "id": "b7e47d23",
   "metadata": {},
   "outputs": [],
   "source": [
    "from grover_sat import collect_circuit_info\n",
    "%psource collect_circuit_info\n",
    "\n",
    "# gather backend metrics\n",
    "# from qiskit import IBMQ, assemble, transpile\n",
    "# provider = IBMQ.load_account()\n",
    "\n",
    "# print(provider.backends())\n",
    "# simulate_circuit(model_circuit, provider.backend.ibmq_geneva)    \n",
    "\n",
    "# actual simulation\n",
    "# info = collect_circuit_info(model_circuit, backend=\"statevector_simulator\", shots=1000, simulate=True)\n",
    "# plot_histogram(info['counts'], figsize=(40, 10))"
   ]
  },
  {
   "cell_type": "code",
   "execution_count": null,
   "id": "9e5a8234",
   "metadata": {},
   "outputs": [],
   "source": []
  }
 ],
 "metadata": {
  "kernelspec": {
   "display_name": "Python 3 (ipykernel)",
   "language": "python",
   "name": "python3"
  },
  "language_info": {
   "codemirror_mode": {
    "name": "ipython",
    "version": 3
   },
   "file_extension": ".py",
   "mimetype": "text/x-python",
   "name": "python",
   "nbconvert_exporter": "python",
   "pygments_lexer": "ipython3",
   "version": "3.9.15 (main, Nov 24 2022, 08:29:02) \n[Clang 14.0.6 ]"
  },
  "vscode": {
   "interpreter": {
    "hash": "faad9e4f9b7fb42165439c94406641ba61da81ba54e9c6de9b6b2c791707c6b0"
   }
  }
 },
 "nbformat": 4,
 "nbformat_minor": 5
}
