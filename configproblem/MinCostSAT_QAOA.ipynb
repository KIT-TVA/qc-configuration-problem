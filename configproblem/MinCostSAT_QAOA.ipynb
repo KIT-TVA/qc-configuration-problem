{
 "cells": [
  {
   "cell_type": "markdown",
   "id": "6eb8a3d8",
   "metadata": {},
   "source": [
    "# Solving a mincost SAT problem using QAOA\n",
    "\n",
    "$$\\newcommand{\\ket}[1]{\\left|{#1}\\right\\rangle}$$\n",
    "$$\\newcommand{\\bra}[1]{\\left\\langle{#1}\\right|}$$\n",
    "\n",
    "We want to find an (almost) optimal configuration in an attributed feature model.\n",
    "\n",
    "The system can be described by the following boolean formulae:\n",
    "$\n",
    "(x_1 \\vee x_2) \\wedge (x_3 \\oplus x_4) \\wedge (x_5 \\implies x_6)\n",
    "\\iff\n",
    "(x_1 \\vee x_2) \\wedge (\\neg x_3 \\vee \\neg x_4) \\wedge (x_3 \\vee x_4) \\wedge (\\neg x_5 \\vee x_6)\n",
    "$\n",
    "\n",
    "The right hand side is in conjunctive normal form (CNF).\n",
    "\n",
    "Furthermore, there is an implementation cost associated with each feature, as shown in the table below.\n",
    "\n",
    "| Feature | Cost $c_i$ |\n",
    "| --- | --- |\n",
    "| $x_1$ | 30 |\n",
    "| $x_2$ | 20 |\n",
    "| $x_3$ | 25 |\n",
    "| $x_4$ | 50 |\n",
    "| $x_5$ | 10 |\n",
    "| $x_6$ | 10 |\n"
   ]
  },
  {
   "cell_type": "markdown",
   "id": "7d64fd65",
   "metadata": {},
   "source": [
    "# Quantum Approximation Optimization Algorithm\n",
    "Approximates the solution of an combinatorial optimization problem consisting of:\n",
    "- $n$ binary variables\n",
    "- $m$ clauses\n",
    "- objective function $C(z)$\n",
    "\n",
    "The domain of the problem is unconstraind, thus the algorithms goal is to find an (almost) optimal bistring $z=z_1...z_n$\n",
    "\n",
    "It refines VQA and uses the Alternating Operator Ansatz.\n",
    "The algorithm constists of a classical and quantum part.\n",
    "\n",
    "On a quantum computer a circuit is constructed which is parameterized by $\\gamma$ and $\\beta$.\n",
    "Intially the unform superposition state $H^{\\otimes n}$ is prepared.\n",
    "\n",
    "Two operators $U(C,\\gamma)$ and $U(B,\\beta)$ are constructed.\n",
    "The phase-separating operator $U(C,\\gamma)$ encodes $C$  and applies a phase shift $e^{-i\\gamma}$ on every computational basis state for every clause that is fulfilled.\n",
    "The mixing operator $U(B, \\beta)$ changes the amplitude of solutions useing rotation $R_x$.\n",
    "\n",
    "Both $U(C,\\gamma)$  and $U(B,\\beta)$ are then applied $p$ times according to the hyper-paramter $p \\in \\mathbf{N}$.\n",
    "Finally measurements gates are added.\n",
    "\n",
    "The circuit has a shallow cicuit depth of at most $mp+m$.\n",
    "\n",
    "On a classical computer the cost of $C(z)$ for the current evaluation is evaluated.\n",
    "Either the process is terminated if the termination condition is met ($C(z)$ is sufficiently low), or the paramters $\\gamma$ and $\\beta$ are optimized classically.\n"
   ]
  },
  {
   "cell_type": "markdown",
   "id": "a37455bf",
   "metadata": {},
   "source": [
    "## Quantum circuit\n",
    "We start by defining the parameteriezed circuit."
   ]
  },
  {
   "cell_type": "code",
   "execution_count": null,
   "id": "cecf5c50",
   "metadata": {},
   "outputs": [],
   "source": [
    "# Imports\n",
    "from qiskit import Aer, transpile, QuantumCircuit, ClassicalRegister, QuantumRegister\n",
    "from qiskit.circuit import Parameter\n",
    "from qiskit.visualization import plot_histogram\n",
    "import matplotlib.pyplot as plt\n",
    "\n",
    "from pprint import pprint"
   ]
  },
  {
   "cell_type": "markdown",
   "id": "37fdd0d7",
   "metadata": {},
   "source": [
    "### Initialization\n",
    "Uniform superposition by applying Hadamard gates $H$ on every qubit."
   ]
  },
  {
   "cell_type": "code",
   "execution_count": null,
   "id": "183305a6",
   "metadata": {},
   "outputs": [],
   "source": [
    "# Uniform Superposition Initialization\n",
    "def superposition_circuit(nqubits: int) -> QuantumCircuit:\n",
    "    qc_0 = QuantumCircuit(nqubits)\n",
    "    for i in range(0, nqubits):\n",
    "        qc_0.h(i)\n",
    "    return qc_0"
   ]
  },
  {
   "cell_type": "code",
   "execution_count": null,
   "id": "d649f8fa",
   "metadata": {},
   "outputs": [],
   "source": [
    "superposition_circuit(2).draw(output=\"mpl\")"
   ]
  },
  {
   "cell_type": "markdown",
   "id": "9f2eaf2f",
   "metadata": {},
   "source": [
    "### Mixing operator\n",
    "The mixing operator $U(B, \\beta)$ applies a rotation around $X$ of $2*\\beta$ on every qubit using $R_x$ gates."
   ]
  },
  {
   "cell_type": "code",
   "execution_count": null,
   "id": "c5245d4c",
   "metadata": {},
   "outputs": [],
   "source": [
    "# Mixer Hamiltonian\n",
    "def mixer_circuit(nqubits: int) -> QuantumCircuit:\n",
    "    beta = Parameter(\"$\\\\beta$\")\n",
    "    qc_mix = QuantumCircuit(nqubits)\n",
    "    for i in range(0, nqubits):\n",
    "        qc_mix.rx(2 * beta, i)\n",
    "    return qc_mix, beta"
   ]
  },
  {
   "cell_type": "code",
   "execution_count": null,
   "id": "c90c877a",
   "metadata": {},
   "outputs": [],
   "source": [
    "example_qc_mixer, _ = mixer_circuit(2)\n",
    "example_qc_mixer.draw(output=\"mpl\")"
   ]
  },
  {
   "cell_type": "markdown",
   "id": "82ca4d5f",
   "metadata": {},
   "source": [
    "### Phase-separating operator\n",
    "The phase-separating operator $U(C,\\gamma)$ encodes $C$ and can be derived from a cost Hamiltonian $H_{Ctot}$ in Ising-form. \n",
    "We can describe $H_{Ctot}$ in a form where for $m$ clauses operating on one or two qubits (because the domain is unconstrained) the values of $C$ are encoded.\n",
    "We later describe how such a Hamilonian can be constructed for our concrete problem class."
   ]
  },
  {
   "cell_type": "code",
   "execution_count": null,
   "id": "42ea509a",
   "metadata": {},
   "outputs": [],
   "source": [
    "# Hamiltonians may be described as a dict of tuples describing acting qubits and a value for each clause\n",
    "# hamiltonian = {(q1?, q2?, ...) : factor}\n",
    "sat_hamiltonian = {\n",
    "    () : 1,\n",
    "    (0,): 0.25,\n",
    "    (1,): 0.25,\n",
    "    (4,): -0.25,\n",
    "    (5,): 0.25,\n",
    "    (0, 1): 0.25,\n",
    "    (2, 3): 0.5,\n",
    "    (4, 5): -0.25\n",
    "}"
   ]
  },
  {
   "cell_type": "markdown",
   "id": "ba8b0ab6",
   "metadata": {},
   "source": [
    "Clauses on one qubits are then translated into $R_z$ rotations and clauses on two qubits are translated into the symmetric $R_{zz}$ gate.\n",
    "\n",
    "**TODO: explain / understand $R_{zz}$**\n",
    "\n",
    "**TODO: normalization**"
   ]
  },
  {
   "cell_type": "code",
   "execution_count": null,
   "id": "5b038751",
   "metadata": {},
   "outputs": [],
   "source": [
    "# Cost Hamiltonian\n",
    "def problem_circuit(hamiltonian, nqubits: int) -> QuantumCircuit:\n",
    "    gamma = Parameter(\"$\\\\gamma$\")\n",
    "    qc_p = QuantumCircuit(nqubits)\n",
    "    \n",
    "    for key, factor in hamiltonian.items():\n",
    "        acting_qubits = len(key)\n",
    "        \n",
    "        if acting_qubits == 0:\n",
    "            pass # identity case\n",
    "        elif acting_qubits == 1:\n",
    "            # single qubit term\n",
    "            q1 = key[0]\n",
    "            qc_p.rz(2 * factor * gamma, q1)\n",
    "        elif acting_qubits ==2:\n",
    "            # quadratic qubit term\n",
    "            q1 = key[0]\n",
    "            q2 = key[1]\n",
    "            qc_p.rzz(2 * factor * gamma, q1, q2)\n",
    "        else:\n",
    "            # non quadratic, error\n",
    "            RuntimeError(f\"Non quadratic term in hamiltonian: {key, factor}\")\n",
    "            \n",
    "    return qc_p, gamma"
   ]
  },
  {
   "cell_type": "code",
   "execution_count": null,
   "id": "d27344d3",
   "metadata": {},
   "outputs": [],
   "source": [
    "example_qc_problem, _ = problem_circuit(sat_hamiltonian, 6)\n",
    "example_qc_problem.draw(output=\"mpl\")"
   ]
  },
  {
   "cell_type": "markdown",
   "id": "d0fef60f",
   "metadata": {},
   "source": [
    "### QAOA circuit\n",
    "Now we can create a QAOA circuit for a problem hamiltonian.\n",
    "\n",
    "The circuit can also be warmstarted by intializing a specific state $\\ket{s}$ instead of a uniform superposition."
   ]
  },
  {
   "cell_type": "code",
   "execution_count": null,
   "id": "c2969e03",
   "metadata": {},
   "outputs": [],
   "source": [
    "# QAOA Circuit\n",
    "def qaoa_circuit(hamiltonian, nqubits, nlayers, amplitude_vector=None) -> QuantumCircuit:\n",
    "    if amplitude_vector is not None:\n",
    "        # warm start\n",
    "        qc = QuantumCircuit(nqubits) \n",
    "        qc.initialize(amplitude_vector)\n",
    "    else:\n",
    "        # equal superposition\n",
    "        qc = superposition_circuit(nqubits)\n",
    "        \n",
    "    \n",
    "    qg_mixer, beta = mixer_circuit(nqubits)\n",
    "#     qg_mixer.name = \"Mixer\"\n",
    "    qg_problem, gamma = problem_circuit(hamiltonian, nqubits)\n",
    "#     qg_problem.name = \"Problem\"\n",
    "    \n",
    "    for l in range(nlayers):\n",
    "        qc.barrier()\n",
    "        qc = qc.compose(qg_problem)\n",
    "        qc.barrier()\n",
    "        qc = qc.compose(qg_mixer)\n",
    "\n",
    "        \n",
    "    qc.measure_all()\n",
    "    return qc, beta, gamma"
   ]
  },
  {
   "cell_type": "code",
   "execution_count": null,
   "id": "ffc835df",
   "metadata": {},
   "outputs": [],
   "source": [
    "example_qaoa_circuit, _, _ = qaoa_circuit(sat_hamiltonian, 6, 1)\n",
    "example_qaoa_circuit.draw(output=\"mpl\")"
   ]
  },
  {
   "cell_type": "markdown",
   "id": "065556b5",
   "metadata": {},
   "source": [
    "### Quantum routine\n",
    "Executes QAOA circuit an returns circuit and results"
   ]
  },
  {
   "cell_type": "code",
   "execution_count": null,
   "id": "c83f7645",
   "metadata": {},
   "outputs": [],
   "source": [
    "# QAOA Quantum Procedure\n",
    "def quantum(hamiltonian, nqubits, layers, beta_val, gamma_val, shots=512, amplitude_vector=None):\n",
    "    qc, beta, gamma = qaoa_circuit(hamiltonian, nqubits, layers, amplitude_vector)\n",
    "        \n",
    "    # Set parameters for qc\n",
    "    qc = qc.bind_parameters({\n",
    "        beta: beta_val,\n",
    "        gamma: gamma_val\n",
    "    })\n",
    "\n",
    "    # run and measure qc\n",
    "    qasm_sim = Aer.get_backend('qasm_simulator')\n",
    "    transpiled_qaoa = transpile(qc, qasm_sim)\n",
    "    results = qasm_sim.run(transpiled_qaoa, shots=shots).result()\n",
    "    counts = results.get_counts()\n",
    "\n",
    "    return counts, qc"
   ]
  },
  {
   "cell_type": "code",
   "execution_count": null,
   "id": "a122e334",
   "metadata": {},
   "outputs": [],
   "source": [
    "counts, qc = quantum(sat_hamiltonian, 6, 1, 1, 1)\n",
    "qc.draw(output=\"mpl\")"
   ]
  },
  {
   "cell_type": "code",
   "execution_count": null,
   "id": "db93aa01",
   "metadata": {},
   "outputs": [],
   "source": [
    "plot_histogram(counts, figsize=(40, 10))"
   ]
  },
  {
   "cell_type": "markdown",
   "id": "6db5b34f",
   "metadata": {},
   "source": [
    "## Creating a problem specific Hamiltonian\n",
    "\n",
    "### Creating a cost function satisfying features\n",
    "\n",
    "[Glover](https://arxiv.org/abs/1811.11538) described quadratic penalties for the 2-SAT problem by treating inputs as $0/1$ values, forming a traditional constraint and then deriving a quadratic penalty. We summarize their work here:\n",
    "\n",
    "| Clause Type | Example | Constraint | Penalty |\n",
    "|---|---|---|---|\n",
    "| No Negations  | $$(x_i \\vee x_j)$$               | $$x_i + x_j = 1$$            | $$(1 - x_i - x_j + x_i x_j)$$\n",
    "| One Negation  | $$(x_i \\vee \\lnot{}x_j)$$        | $$x_i + (1-x_j) \\geq 1$$     | $$(x_j - x_i x_j)$$\n",
    "| Two Negations | $$(\\lnot{}x_i \\vee \\lnot{}x_j)$$ | $$(1-x_i) + (1-x_j) \\geq 1$$ | $$(x_i x_j)$$\n",
    "\n",
    "\n",
    "Using these penalties we can transform our example into a QUBO model.\n",
    "\n",
    "$$\n",
    "min~y(x) = 2-x_1-x_2-x_3-x_4+x_5+x_1*x_2+2*x_3*x_4-x_5*x_6\n",
    "$$\n",
    "\n",
    "$y(x)$ is the integer of unsatisfied clauses. In other words, $y=0$ indicates that all clauses are satisfied, which is desired for this problem.\n",
    "\n",
    "### Creating a cost function for feature costs\n",
    "\n",
    "For the feature costs, we can formulate a sum that adds a features cost if it is in the input vector x.\n",
    "$$\n",
    "k(x) = \\sum_{x}^{} c_i x_i\n",
    "$$\n",
    "\n",
    "\n",
    "### Combining the functions\n",
    "In our example, we want to find a valid configuration with the minimum cost, so we sum the two previous functions and add a penalty factor $\\alpha$ to be able to change the influence of our SAT constraints.\n",
    "\n",
    "$$\n",
    "min~f(x) = k(x) + \\alpha y(x)\n",
    "$$\n",
    "\n",
    "We assume $\\alpha \\gg 0$, the exact value probably depends on the value of $k(x)$.\n",
    "\n",
    "### Forming Hamiltonians\n",
    "We got our QUBO cost function defined. We now need to transform the Binary input space $x_i \\in \\{0,1\\}$ to the Ising Spin model of $s_i \\in \\{-1, 1\\}$. \n",
    "\n",
    "Replace $x_i$ with $S_i = 2x_i-1$ meaning $x_i = \\frac{1 - S_i}{2}$ (Note that switching the sign changes the eigenvectors)\n",
    "\n",
    "#### Cost Hamiltonian for the SAT part\n",
    "Before applying it to the entire function, let's first consider only $min~y(x)$.\n",
    "\n",
    "Ising Form:\n",
    "$$\n",
    "min~y(s) = 2-\\frac{1-s_1}{2}-\\frac{1-s_2}{2}-\\frac{1-s_3}{2}-\\frac{1-s_4}{2}+\\frac{1-s_5}{2}+\\frac{1-s_1}{2}*\\frac{1-s_2}{2}+2*\\frac{1-s_3}{2}*\\frac{1-s_4}{2}-\\frac{1-s_5}{2}*\\frac{1-s_6}{2}\n",
    "$$\n",
    "Simplified to (not really needed):\n",
    "$$ \n",
    "min~y(s) = (4 + s_2 + s_1 (1 + s_2) + 2 s_3 s_4 + s_6 - s_5 (1 + s_6))*\\frac{1}{4}\n",
    "$$\n",
    "Which expands to:\n",
    "$$\n",
    "min~y(s) = 1 + s_1\\frac{1}{4} + s_2\\frac{1}{4} + s_1 s_2\\frac{1}{4} + s_3 s_4 \\frac{1}{2} - s_5\\frac{1}{4} + s_6\\frac{1}{4} - s_5 s_6 \\frac{1}{4}\n",
    "$$\n",
    "And leaves us with a cost hamiltonian $H_C$ with Pauli-Z-Gates $\\sigma^z_i$ and an Identity $I$ on the global phase(?):\n",
    "$$\n",
    "H_C = 1*I + \\sigma^z_1\\frac{1}{4} + \\sigma^z_2\\frac{1}{4} + \\sigma^z_1 \\sigma^z_2\\frac{1}{4} + \\sigma^z_3 \\sigma^z_4 \\frac{1}{2} - \\sigma^z_5\\frac{1}{4} + \\sigma^z_6\\frac{1}{4} - \\sigma^z_5 \\sigma^z_6 \\frac{1}{4}\n",
    "$$\n",
    "\n",
    "#### Cost Hamiltonian for the feature costs\n",
    "We can expand the feature costs in our example according to the table above.\n",
    "$$\n",
    "min~k(x) = \\sum_{x}^{} c_i x_i \\\\\n",
    "= 30*x_1 + 20*x_2 + 25*x_3 + 50*x_4 + 30*x_5 + 10*x_6\n",
    "$$\n",
    "Which we then again transform into Ising form.\n",
    "\n",
    "$$\n",
    "min~k(s) = 15*(1-s_1) + 10*(1-s_2)+ 12.5*(1-s_3) + 25*(1-s_4) + 15*(1-s_5) + 5*(1-s_6) \\\\\n",
    "min~k(s) = 82.5 - 15 s_1 - 10 s_2 - 12.5 s_3 - 25 s_4 - 15 s_5 - 5 s_6\n",
    "$$\n",
    "\n",
    "Which leaves us with our cost Hamiltonian $H_{Ck}$\n",
    "$$\n",
    "H_{Ck} = 82.5 I - 15 \\sigma^z_1 - 10 \\sigma^z_2 - 12.5 \\sigma^z_3 - 25 \\sigma^z_4 - 15 \\sigma^z_5 - 5 \\sigma^z_6\n",
    "$$\n",
    "\n",
    "#### Combining Hamiltonians\n",
    "\n",
    "All that's left to do is choosing a suitable $\\alpha$ and combining the functions.\n",
    "\n",
    "We choose $\\alpha = 1000$ as a first guess ($82.5 * 10$ rounded up).\n",
    "\n",
    "$$\n",
    "H_{Ctot} = H_{Ck} + \\alpha ~ H_C\n",
    "$$\n",
    "\n",
    "$$\n",
    "H_{Ctot} = 82.5 I - 15 \\sigma^z_1 - 10 \\sigma^z_2 - 12.5 \\sigma^z_3 - 25 \\sigma^z_4 - 15 \\sigma^z_5 - 5 \\sigma^z_6  + 1000*I + \\sigma^z_1 250 + \\sigma^z_2 250 + \\sigma^z_1 \\sigma^z_2 250 + \\sigma^z_3 \\sigma^z_4 500 - \\sigma^z_5 250 + \\sigma^z_6 250 - \\sigma^z_5 \\sigma^z_6 250\n",
    "$$\n",
    "\n",
    "simplified to\n",
    "\n",
    "$$\n",
    "H_{Ctot} = 1082.5 I + 250 \\sigma^z_1 \\sigma^z_2 + 235 \\sigma^z_1 + 240 \\sigma^z_2 + 500 \\sigma^z_3 \\sigma^z_4 - 12.5 \\sigma^z_3 - 25 \\sigma^z_4 - 250 \\sigma^z_5 \\sigma^z_6 - 265 \\sigma^z_5 + 245 \\sigma^z_6\n",
    "$$\n",
    "\n",
    "We can implement such a Hamiltonian $H_{Ctot}$ using the `qubovert` library and solve small instances via bruteforce."
   ]
  },
  {
   "cell_type": "code",
   "execution_count": null,
   "id": "7b31907a",
   "metadata": {},
   "outputs": [],
   "source": [
    "from qubovert import spin_var\n",
    "\n",
    "def solve_bruteforce(model):\n",
    "    model_solution = model.solve_bruteforce()\n",
    "    print(\"Variable assignment:\", model_solution)\n",
    "    print(\"Model value:\", model.value(model_solution))\n",
    "    print(\"Constraints satisfied?\", model.is_solution_valid(model_solution)) # we don't have constraints in our model"
   ]
  },
  {
   "cell_type": "code",
   "execution_count": null,
   "id": "d15861ec",
   "metadata": {},
   "outputs": [],
   "source": [
    "# define spin variables \n",
    "z1, z2, z3, z4, z5, z6 = spin_var('z1'), spin_var('z2'), spin_var('z3'), spin_var('z4'), spin_var('z5'), spin_var('z6')\n",
    "\n",
    "# Our manually calculated hamiltonian\n",
    "feetcost_model = 1082.5 + 250 * z1 * z2 + 235 * z1 + 240 * z2 + 500 * z3 * z4 - 12.5 * z3 - 25 * z4 - 250 * z5 * z6 - 265 * z5 + 245 * z6\n",
    "solve_bruteforce(feetcost_model)"
   ]
  },
  {
   "cell_type": "markdown",
   "id": "5a09ca48",
   "metadata": {},
   "source": [
    "We can also define the SAT ($H_C$) and cost ($H_{Ck}$) Hamiltonians separatly and combine them afterwards."
   ]
  },
  {
   "cell_type": "code",
   "execution_count": null,
   "id": "c3b53638",
   "metadata": {},
   "outputs": [],
   "source": [
    "# cost and sat individually\n",
    "from qubovert import boolean_var\n",
    "\n",
    "# define binary vars\n",
    "x1, x2, x3, x4, x5, x6 = boolean_var('x1'), boolean_var('x2'), boolean_var('x3'), boolean_var('x4'), boolean_var('x5'), boolean_var('x6')\n",
    "\n",
    "# SAT Penalty\n",
    "alpha_sat = 1000 # 1e6\n",
    "\n",
    "# SAT QUBO\n",
    "sat_model = alpha_sat * (2 - x1 - x2 - x3 - x4 + x5 + x1 * x2 + 2 * x3 * x4 - x5 * x6)\n",
    "\n",
    "# Cost QUBO\n",
    "cost_model = 30*x1 + 20*x2 + 25*x3 + 50*x4 + 30*x5 + 10*x6\n",
    "\n",
    "# Combine models\n",
    "combine_model = sat_model +  cost_model\n",
    "print(\"QUBO Combined Model:\")\n",
    "pprint(combine_model)\n",
    "print(\"Ising Combined Model: \")\n",
    "pprint(combine_model.to_quso())\n",
    "\n",
    "solve_bruteforce(combine_model)"
   ]
  },
  {
   "cell_type": "markdown",
   "id": "b94cf144",
   "metadata": {},
   "source": [
    "## Classical Routine\n",
    "On the classical side we now need functions to evaluate $C$, which correspond to computing the energy of the Hamiltonian for a specific measured output (a configuration in our case) by `compute_config_energy`.\n",
    "\n",
    "As the circuit is executed multiple times the function `compute_hamiltonian_energy` averages `compute_config_energy` over a histogramm."
   ]
  },
  {
   "cell_type": "code",
   "execution_count": null,
   "id": "6e8c6d26",
   "metadata": {},
   "outputs": [],
   "source": [
    "def compute_hamiltonian_energy(hamiltonian, counts):\n",
    "    def compute_config_energy(config: str):\n",
    "        energy = 0\n",
    "        \n",
    "        for key, factor in hamiltonian.items():\n",
    "            acting_qubits = len(key)\n",
    "\n",
    "            if acting_qubits == 0:\n",
    "                # identity case\n",
    "                energy += factor\n",
    "            elif acting_qubits == 1:\n",
    "                # single qubit term\n",
    "                q1 = key[0]\n",
    "                energy += factor * config[q1]\n",
    "            elif acting_qubits ==2:\n",
    "                # quadratic qubit term\n",
    "                q1 = key[0]\n",
    "                q2 = key[1]\n",
    "                energy += factor * config[q1] * config[q2]\n",
    "            else:\n",
    "                # non quadratic, error\n",
    "                RuntimeError(f\"Non quadratic term in hamiltonian: {key, factor}\")\n",
    "\n",
    "        return energy\n",
    "    \n",
    "    # # take the config that was measured most often\n",
    "    # config_str = max(counts, key=counts.get) \n",
    "    # # convert the 0/1 feature string to ising integers\n",
    "    # config = [-1 if s == \"0\" else 1 for s in config_str]\n",
    "    # return compute_config_energy(config)\n",
    "\n",
    "    average_energy = 0\n",
    "    for config_str in counts.keys():\n",
    "        config = [-1 if s == \"0\" else 1 for s in config_str]\n",
    "        energy = compute_config_energy(config)*counts.get(config_str)\n",
    "\n",
    "        # print(config, counts.get(config_str), energy)\n",
    "        average_energy += energy\n",
    "\n",
    "    average_energy /= counts.shots()\n",
    "    # print(\"Average:\", average_energy)\n",
    "    return average_energy\n",
    "\n"
   ]
  },
  {
   "cell_type": "markdown",
   "id": "0d9c75f3",
   "metadata": {},
   "source": [
    "We can then define a function that given a beta and gamma as input creates a quantum circuit, executes it multiple times and returns the energy.\n",
    "\n",
    "This function can be used in a classical optimzer."
   ]
  },
  {
   "cell_type": "code",
   "execution_count": null,
   "id": "8d685bcd",
   "metadata": {},
   "outputs": [],
   "source": [
    "def get_expectation(hamiltonian, nqubits, nlayers, shots=128, amplitude_vector=None):\n",
    "    backend = Aer.get_backend('qasm_simulator')\n",
    "    backend.shots = shots\n",
    "    \n",
    "    def execute_circ(theta):\n",
    "        qc, beta, gamma = qaoa_circuit(hamiltonian, nqubits, nlayers, amplitude_vector)\n",
    "        \n",
    "        # Set parameters for qc\n",
    "        qc = qc.bind_parameters({\n",
    "            beta: theta[0],\n",
    "            gamma: theta[1]\n",
    "        })\n",
    "        \n",
    "        counts = backend.run(qc, nshots=shots).result().get_counts()\n",
    "        return compute_hamiltonian_energy(hamiltonian, counts)\n",
    "    \n",
    "    return execute_circ"
   ]
  },
  {
   "cell_type": "markdown",
   "id": "b4b13585",
   "metadata": {},
   "source": [
    "## Applying QAOA\n",
    "Finally we can run the whole algorithm for a specific problem Hamiltonian."
   ]
  },
  {
   "cell_type": "code",
   "execution_count": null,
   "id": "802d16f4",
   "metadata": {},
   "outputs": [],
   "source": [
    "# QAOA Using Optimizer\n",
    "from scipy.optimize import minimize, basinhopping\n",
    "\n",
    "# inputs\n",
    "# hamiltonian = [(factor, q1, q2)]\n",
    "feetcost_hamiltonian = {(): 1000082.5,\n",
    " (0,): 249985.0,\n",
    " (0, 1): 250000.0,\n",
    " (1,): 249990.0,\n",
    " (2,): -12.5,\n",
    " (2, 3): 500000.0,\n",
    " (3,): -25.0,\n",
    " (4,): -250015.0,\n",
    " (4, 5): -250000.0,\n",
    " (5,): 249995.0}\n",
    "\n",
    "# warmstart array\n",
    "warmstart_statevector = \\\n",
    "      [0.        , 0.        , 0.        , 0.        , 0.        ,\n",
    "       0.232379  , 0.28809721, 0.20976177, 0.        , 0.25298221,\n",
    "       0.19493589, 0.24899799, 0.        , 0.        , 0.        ,\n",
    "       0.        , 0.        , 0.        , 0.        , 0.        ,\n",
    "       0.        , 0.        , 0.        , 0.        , 0.        ,\n",
    "       0.        , 0.        , 0.        , 0.        , 0.        ,\n",
    "       0.        , 0.        , 0.        , 0.        , 0.        ,\n",
    "       0.        , 0.        , 0.20976177, 0.17888544, 0.23021729,\n",
    "       0.        , 0.24899799, 0.23664319, 0.29664794, 0.        ,\n",
    "       0.        , 0.        , 0.        , 0.        , 0.        ,\n",
    "       0.        , 0.        , 0.        , 0.23021729, 0.24083189,\n",
    "       0.26267851, 0.        , 0.232379  , 0.20248457, 0.20736441,\n",
    "       0.04472136, 0.        , 0.        , 0.        ]\n",
    "\n",
    "layers = 1 # more layers = higher approximation rate but more quantum errors when running on real qpu\n",
    "nfeatures = 6\n",
    "shots = 128\n",
    "use_warmstart = False\n",
    "\n",
    "if use_warmstart:\n",
    "    expectation = get_expectation(feetcost_hamiltonian, nfeatures, layers, shots, warmstart_statevector)\n",
    "else:\n",
    "    expectation = get_expectation(feetcost_hamiltonian, nfeatures, layers, shots)\n",
    "    \n",
    "# run qaoa\n",
    "res = minimize(expectation, [1, 1], method='BFGS', tol=1e-12)      \n",
    "\n",
    "# output \n",
    "if use_warmstart:\n",
    "    counts, qc = quantum(feetcost_hamiltonian, nfeatures, layers, res.x[0], res.x[1], shots, warmstart_statevector)\n",
    "else:\n",
    "    counts, qc = quantum(feetcost_hamiltonian, nfeatures, layers, res.x[0], res.x[1], shots)"
   ]
  },
  {
   "cell_type": "code",
   "execution_count": null,
   "id": "37815e68",
   "metadata": {},
   "outputs": [],
   "source": [
    "print(res)"
   ]
  },
  {
   "cell_type": "code",
   "execution_count": null,
   "id": "9476b012",
   "metadata": {},
   "outputs": [],
   "source": [
    "qc.draw(output=\"mpl\")"
   ]
  },
  {
   "cell_type": "code",
   "execution_count": null,
   "id": "7e594338",
   "metadata": {},
   "outputs": [],
   "source": [
    "# Pretty Print the results of the previous Cell\n",
    "\n",
    "histogram_figure = plot_histogram(counts, figsize=(40, 10))\n",
    "\n",
    "best_config = \"000110\" # 654321\n",
    "valid_configs = [\"101010\", \"101001\", \"101011\", \"100110\", \"100101\", \"100111\", \"001010\", \"001001\", \"001011\", \"000101\", \"000111\", \"111010\", \"111001\", \"111011\", \"110110\", \"110101\", \"110111\"]\n",
    "\n",
    "ax = histogram_figure.axes[0] # get x axis\n",
    "for xtick in ax.get_xticklabels():\n",
    "    if xtick.get_text() == best_config:\n",
    "        xtick.set_color('r')\n",
    "    if xtick.get_text() in valid_configs:\n",
    "        xtick.set_color(\"brown\")\n",
    "        \n",
    "histogram_figure"
   ]
  }
 ],
 "metadata": {
  "kernelspec": {
   "display_name": "Python 3 (ipykernel)",
   "language": "python",
   "name": "python3"
  },
  "language_info": {
   "codemirror_mode": {
    "name": "ipython",
    "version": 3
   },
   "file_extension": ".py",
   "mimetype": "text/x-python",
   "name": "python",
   "nbconvert_exporter": "python",
   "pygments_lexer": "ipython3",
   "version": "3.9.12"
  },
  "vscode": {
   "interpreter": {
    "hash": "d3514f4bb63f5ef06960f249eaf871d4155ba26850e795a4551f45f075b9fcda"
   }
  }
 },
 "nbformat": 4,
 "nbformat_minor": 5
}
