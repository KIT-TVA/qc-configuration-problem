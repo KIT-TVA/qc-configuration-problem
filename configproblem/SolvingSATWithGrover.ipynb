{
 "cells": [
  {
   "cell_type": "markdown",
   "id": "ead2cbc8",
   "metadata": {},
   "source": [
    "# Solving SAT With Grover\n",
    "In this notebook, we aim to solve satisfyability formulae using grover search.\n",
    "For this, we first construct marking oracles for the basic gates of AND, OR and NOT.\n",
    "Then, we transform them into the required phase-oracle-form.\n",
    "\n",
    "The main resources used are this [Microsoft Kata](https://github.com/microsoft/QuantumKatas/blob/ec925ccfcb599a6bb29c8a39035d0b149f447f9a/SolveSATWithGrover/Workbook_SolveSATWithGrover.ipynb) and this [Qiskit Textbook Chapter](https://qiskit.org/textbook/ch-applications/satisfiability-grover.html).\n",
    "\n",
    "## Marking Oracles\n",
    "### And"
   ]
  },
  {
   "cell_type": "code",
   "execution_count": null,
   "id": "52ca2a43",
   "metadata": {},
   "outputs": [],
   "source": [
    "from qiskit.quantum_info.operators import Operator\n",
    "from qiskit import QuantumCircuit, QuantumRegister, AncillaRegister, ClassicalRegister\n",
    "import matplotlib.pyplot as plt\n",
    "\n",
    "## Define Basic Matrices\n",
    "I = Operator([[1,0],[0,1]])\n",
    "X = Operator([[0,1],[1,0]])\n",
    "\n",
    "def sized_identity(nqubits):\n",
    "    \"\"\"Creates an identity operator of given size\"\"\"\n",
    "    unitary = I\n",
    "    for i in range(nqubits-1):\n",
    "        unitary = unitary.tensor(I)\n",
    "    return unitary\n",
    "\n",
    "def marking_and_oracle(nqubits):\n",
    "    \"\"\"Returns a matrix representation of the and oracle\"\"\"\n",
    "    unitary = sized_identity(nqubits)\n",
    "    \n",
    "    # Apply the x gate to the output register\n",
    "    unitary.data[-1][-1] = 0\n",
    "    unitary.data[-2][-2] = 0\n",
    "    unitary.data[-1][-2] = 1\n",
    "    unitary.data[-2][-1] = 1\n",
    "    return unitary "
   ]
  },
  {
   "cell_type": "markdown",
   "id": "c832fd6b",
   "metadata": {},
   "source": [
    "### Or"
   ]
  },
  {
   "cell_type": "code",
   "execution_count": null,
   "id": "c15b61de",
   "metadata": {},
   "outputs": [],
   "source": [
    "def sized_x(nqubits):\n",
    "    \"\"\"Creates a not operator of given size\"\"\"\n",
    "    unitary = X\n",
    "    for i in range(nqubits-1):\n",
    "        unitary = unitary.tensor(X)\n",
    "    return unitary\n",
    "\n",
    "def marking_or_oracle(nqubits):\n",
    "    \"\"\"Returns a matrix representation of the or oracle\"\"\"\n",
    "    unitary = sized_x(nqubits).dot(marking_and_oracle(nqubits))\n",
    "    unitary = unitary.dot(sized_x(nqubits-1).tensor(I))\n",
    "    return unitary"
   ]
  },
  {
   "cell_type": "markdown",
   "id": "0476a398",
   "metadata": {},
   "source": [
    "While we could go on further and create _XOR_ and _AlternatingBits_ oracles but we don't need them for now so let's not :)\n",
    "\n",
    "## SAT Marking Oracles\n",
    "Using our marking gate-oracles, we can create oracles for evaluating SAT clauses and finally complete functions.\n",
    "\n",
    "### Single Clause Oracle\n",
    "A Clause is a disjunction of variables (qubits) that are potentially negated.\n",
    "The clause `x0 || !x1` may be represented by the input `[(0, true), (1, false)]`."
   ]
  },
  {
   "cell_type": "code",
   "execution_count": null,
   "id": "c1479873",
   "metadata": {},
   "outputs": [],
   "source": [
    "def marking_clause_oracle(qubits: [int], target: int, clause: [(int,bool)]):\n",
    "    nqubits = len(qubits) + 1\n",
    "    qc = QuantumCircuit(nqubits)\n",
    "    # Flip input qubits\n",
    "    for index, positive in clause:\n",
    "        if not positive:\n",
    "            qc.x(index)\n",
    "            \n",
    "    # Get Clause Qubits\n",
    "    clause_qubits = [i for i, _ in clause]\n",
    "    \n",
    "    # Create an Oracle for n qubits\n",
    "    nqubits_or = len(clause_qubits) + 1  # +1 for target qubit\n",
    "    or_oracle = marking_or_oracle(nqubits_or)\n",
    "    or_qc = QuantumCircuit(nqubits_or)\n",
    "    or_qc.unitary(or_oracle, range(nqubits_or), \"or_oracle\")\n",
    "    # compose list maps the qubits linearly (0,1,2,3...) on the given target list\n",
    "    clause_qubits.append(target)\n",
    "    qc = qc.compose(or_qc, clause_qubits)\n",
    "    \n",
    "    # Inverse the initial Flips\n",
    "    for index, positive in clause:\n",
    "        if not positive:\n",
    "            qc.x(index)\n",
    "    return qc"
   ]
  },
  {
   "cell_type": "code",
   "execution_count": null,
   "id": "bbf077cc",
   "metadata": {},
   "outputs": [],
   "source": [
    "# Debug Clause Oracle\n",
    "clause_circuit = marking_clause_oracle(range(5), 5, [(1, True),(3, False),(4, True)])\n",
    "clause_circuit.draw(output=\"mpl\")"
   ]
  },
  {
   "cell_type": "markdown",
   "id": "5962e20a",
   "metadata": {},
   "source": [
    "### k-SAT Oracle\n",
    "Using our single clause oracle, we can take their conjunction and create a marking oracle for the entire expression."
   ]
  },
  {
   "cell_type": "code",
   "execution_count": null,
   "id": "b777fed3",
   "metadata": {},
   "outputs": [],
   "source": [
    "def marking_ksat_oracle(qubits: [int], target: int, clauses: [[(int, bool)]]):\n",
    "    auxiliary_qc = QuantumCircuit(len(clauses)) # Each clause output needs to be stored in aux\n",
    "    qreg_in = QuantumRegister(size=len(qubits), name=\"q_in\")\n",
    "    qreg_an = AncillaRegister(size=len(clauses), name=\"q_an\")\n",
    "    qreg_target = QuantumRegister(size=1, name=\"q_target\")\n",
    "    \n",
    "    qc = QuantumCircuit(qreg_in, qreg_an, qreg_target)\n",
    "    \n",
    "    # Compose individual clauses\n",
    "    for idx, clause in enumerate(clauses):\n",
    "        aux_idx = len(qubits) + idx\n",
    "        one_clause_qc = marking_clause_oracle(qubits, len(qubits), clause)\n",
    "        qbit_map = list(qubits)\n",
    "        qbit_map.append(aux_idx)\n",
    "        qc = qc.compose(one_clause_qc, qbit_map)\n",
    "    \n",
    "    # Store the conjugate transpose (inverse) for later qubit cleanup\n",
    "    inverse_qc = qc.inverse()\n",
    "    \n",
    "    # And the auxiliary registers\n",
    "    nqubits_and = len(clauses) + 1\n",
    "    and_oracle = marking_and_oracle(nqubits_and)\n",
    "    and_qc = QuantumCircuit(nqubits_and)\n",
    "    and_qc.unitary(and_oracle, range(nqubits_and), \"and_oracle\")\n",
    "    \n",
    "    # Compose the and oracle\n",
    "    and_qc_map = [idx+len(qubits) for idx in range(len(clauses)+1)]\n",
    "    ksat_qc = qc.compose(and_qc, and_qc_map)\n",
    "    # Apply the inversion to the circuit\n",
    "    return ksat_qc.compose(inverse_qc)\n",
    "\n",
    "def ksat_for_problem(problem):\n",
    "    nqubits_aux = len(problem) # one for each clause\n",
    "    nqubit_in = max([i for c in problem for i, _ in c]) + 1\n",
    "    problem_qc = marking_ksat_oracle(range(nqubit_in), nqubit_in+nqubits_aux+1, problem)\n",
    "    return problem_qc\n",
    "    "
   ]
  },
  {
   "cell_type": "markdown",
   "id": "68bf5f17",
   "metadata": {},
   "source": [
    "**DONE** We can now formulate a SAT problem and create a marking oracle for it!"
   ]
  },
  {
   "cell_type": "code",
   "execution_count": null,
   "id": "224fa5a0",
   "metadata": {},
   "outputs": [],
   "source": [
    "# f(x) = (x1 + !x3 + x4) * (x0 + !x2)\n",
    "problem = [[(1, True),(3, False),(4, True)],\n",
    "          [(0, True),(2, False)]]\n",
    "problem_circuit = ksat_for_problem(problem)\n",
    "problem_circuit.draw(output=\"mpl\", justify=\"left\")\n"
   ]
  },
  {
   "cell_type": "markdown",
   "id": "bccd06b0",
   "metadata": {},
   "source": [
    "## Converting the oracles into phase oracles for Grover"
   ]
  },
  {
   "cell_type": "code",
   "execution_count": null,
   "id": "c75a1ce0",
   "metadata": {},
   "outputs": [],
   "source": [
    "def phase_oracle(problem_oracle, target_idx):\n",
    "    qc_conv = QuantumCircuit(1, name=\"Mark2Phase\")\n",
    "    qc_conv.x(0)\n",
    "    qc_conv.h(0)\n",
    "    # Prepend the phase transformation\n",
    "    problem_oracle = problem_oracle.compose(qc_conv, qubits=[target_idx], front=True)\n",
    "    # Append the phase transformation \n",
    "    problem_oracle = problem_oracle.compose(qc_conv.inverse(), qubits=[target_idx])\n",
    "    \n",
    "    return problem_oracle\n",
    "\n",
    "phase_problem_circuit = phase_oracle(problem_circuit, -1)\n",
    "phase_problem_circuit.draw(output=\"mpl\")"
   ]
  },
  {
   "cell_type": "markdown",
   "id": "752eee7d",
   "metadata": {},
   "source": [
    "# Plugging Oracles into Grover\n",
    "As we can now create phase oracles, we can model a complete grover loop.\n",
    "\n",
    "1. Make oracle: ksat_for_problem(...) & phase_oracle(...)\n",
    "2. Add classical registers for output measurements\n",
    "3. Create uniform superposition over q_in (an & target stay |0>)\n",
    "4. Grover Loop (k-times? correctness-check?)\n",
    "    1. Append Phase_Oracle over all q registers\n",
    "    2. Append Grover Diffuser over all q registers\n",
    "5. Measure q_in into classical registers and check solution (histogram)"
   ]
  },
  {
   "cell_type": "code",
   "execution_count": null,
   "id": "03853f32",
   "metadata": {},
   "outputs": [],
   "source": [
    "def create_diffuser(nqubits):\n",
    "    qc = QuantumCircuit(nqubits)\n",
    "    # Apply transformation |s> -> |00..0> (H-gates)\n",
    "    for qubit in range(nqubits):\n",
    "        qc.h(qubit)\n",
    "    # Apply transformation |00..0> -> |11..1> (X-gates)\n",
    "    for qubit in range(nqubits):\n",
    "        qc.x(qubit)\n",
    "    # Do multi-controlled-Z gate\n",
    "    qc.h(nqubits-1)\n",
    "    qc.mct(list(range(nqubits-1)), nqubits-1)  # multi-controlled-toffoli\n",
    "    qc.h(nqubits-1)\n",
    "    # Apply transformation |11..1> -> |00..0>\n",
    "    for qubit in range(nqubits):\n",
    "        qc.x(qubit)\n",
    "    # Apply transformation |00..0> -> |s>\n",
    "    for qubit in range(nqubits):\n",
    "        qc.h(qubit)\n",
    "    # We will return the diffuser as a gate\n",
    "    U_s = qc.to_gate()\n",
    "    U_s.name = \"U$_{Diffuser}$\"\n",
    "    return U_s"
   ]
  },
  {
   "cell_type": "code",
   "execution_count": null,
   "id": "1901d48e",
   "metadata": {},
   "outputs": [],
   "source": [
    "# Input:\n",
    "# f(x) = (x0 + !x1) * (x2) * (x1) {FTT, TTT}\n",
    "problem = [[(0, True), (1, False)], [(2, True)], [(1, True)]]\n",
    "\n",
    "marking_oracle = ksat_for_problem(problem)\n",
    "phase_problem_qc = phase_oracle(marking_oracle, -1)\n",
    "oracle_gate = phase_problem_qc.to_gate(label=\"SAT_Oracle\")\n",
    "num_var = phase_problem_qc.num_qubits-phase_problem_qc.num_ancillas\n",
    "\n",
    "diffuser = create_diffuser(num_var-1)\n",
    "\n",
    "# Construct Main Quantum Circuit\n",
    "main_qc = phase_problem_qc.copy_empty_like()\n",
    "creg = ClassicalRegister(num_var, name=\"c\")\n",
    "main_qc.add_register(creg)\n",
    "\n",
    "# main_qc.draw(output=\"mpl\", justify=\"left\")"
   ]
  },
  {
   "cell_type": "markdown",
   "id": "0cb509ff",
   "metadata": {},
   "source": [
    "(3.) Create uniform superposition over input qubits"
   ]
  },
  {
   "cell_type": "code",
   "execution_count": null,
   "id": "cd920bf2",
   "metadata": {},
   "outputs": [],
   "source": [
    "def initialize_s(qc, qubits):\n",
    "    \"\"\"Apply a H-gate to 'qubits' in qc\"\"\"\n",
    "    for q in qubits:\n",
    "        qc.h(q)\n",
    "    return qc\n",
    "\n",
    "main_qc = initialize_s(main_qc, range(num_var-1))\n",
    "# main_qc.h(-1)\n",
    "\n",
    "# main_qc.draw(output=\"mpl\", justify=\"left\")"
   ]
  },
  {
   "cell_type": "markdown",
   "id": "d319782b",
   "metadata": {},
   "source": [
    "(4.) Grover Loop"
   ]
  },
  {
   "cell_type": "code",
   "execution_count": null,
   "id": "294a5d11",
   "metadata": {},
   "outputs": [],
   "source": [
    "# TODO find k\n",
    "k=1\n",
    "\n",
    "# Add the oracle-diffusor step k times\n",
    "for i in range(k):\n",
    "    main_qc.append(oracle_gate, range(main_qc.num_qubits))\n",
    "    register_map = list(range(num_var-1))\n",
    "    # register_map.append(-1) # target\n",
    "    main_qc = main_qc.compose(diffuser, register_map)\n",
    "    \n",
    "# Measure Inputs and Target\n",
    "for i, c in enumerate(creg):\n",
    "    if i < len(creg)-1:\n",
    "        main_qc.measure(i, c) # measure inputs\n",
    "#     else:\n",
    "#         main_qc.measure(-1, c) # measure target, if 0 the results are trash\n",
    "\n",
    "# Reapply Marking Oracle for correctness check\n",
    "qreg_out = QuantumRegister(size=1, name=\"q_out\")\n",
    "main_qc.add_register(qreg_out)\n",
    "marking_out_map = list(range(num_var+main_qc.num_ancillas-1))\n",
    "marking_out_map.append(-1)\n",
    "main_qc = main_qc.compose(marking_oracle, marking_out_map)\n",
    "main_qc.measure(-1, -1) # measure q_out into last classical register\n",
    "\n",
    "main_qc.draw(output=\"mpl\", justify=\"left\")"
   ]
  },
  {
   "cell_type": "markdown",
   "id": "511d16cd",
   "metadata": {},
   "source": [
    "The Quantum Circuit is completed! Simulate it!"
   ]
  },
  {
   "cell_type": "code",
   "execution_count": null,
   "id": "76689a4a",
   "metadata": {},
   "outputs": [],
   "source": [
    "from qiskit import Aer, transpile\n",
    "from qiskit.visualization import plot_histogram\n",
    "\n",
    "qasm_sim = Aer.get_backend('qasm_simulator')\n",
    "transpiled_grover_circuit = transpile(main_qc, qasm_sim)\n",
    "results = qasm_sim.run(transpiled_grover_circuit).result()\n",
    "counts = results.get_counts()\n",
    "histogram = plot_histogram(counts)\n",
    "histogram # For display purposes in jupyter"
   ]
  },
  {
   "cell_type": "code",
   "execution_count": null,
   "id": "18f6bcf5",
   "metadata": {},
   "outputs": [],
   "source": [
    "# DMACS\n",
    "problem_dmacs = \"c problem dmacs\\np cnf 3 2\\n1 -2 0\\n3 0\"\n",
    "\n",
    "from qiskit.circuit.library import PhaseOracle\n",
    "import numpy as np\n",
    "np.set_printoptions(threshold=np.inf)\n",
    "\n",
    "import qiskit.quantum_info as qi\n",
    "op = qi.Operator(phase_problem_qc)\n",
    "print(op.data.real)"
   ]
  },
  {
   "cell_type": "code",
   "execution_count": null,
   "id": "e0cb59c2",
   "metadata": {},
   "outputs": [],
   "source": []
  }
 ],
 "metadata": {
  "kernelspec": {
   "display_name": "Python 3 (ipykernel)",
   "language": "python",
   "name": "python3"
  },
  "language_info": {
   "codemirror_mode": {
    "name": "ipython",
    "version": 3
   },
   "file_extension": ".py",
   "mimetype": "text/x-python",
   "name": "python",
   "nbconvert_exporter": "python",
   "pygments_lexer": "ipython3",
   "version": "3.9.12"
  }
 },
 "nbformat": 4,
 "nbformat_minor": 5
}
