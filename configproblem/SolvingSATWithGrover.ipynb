{
 "cells": [
  {
   "cell_type": "markdown",
   "id": "cce91eee",
   "metadata": {},
   "source": [
    "# Solving SAT With Grover\n",
    "In this notebook, we aim to solve satisfyability formulae using grover search.\n",
    "For this, we first construct marking oracles for the basic gates of AND, OR and NOT.\n",
    "Then, we transform them into the required phase-oracle-form.\n",
    "\n",
    "The main resources used are this [Microsoft Kata](https://github.com/microsoft/QuantumKatas/blob/ec925ccfcb599a6bb29c8a39035d0b149f447f9a/SolveSATWithGrover/Workbook_SolveSATWithGrover.ipynb) and this [Qiskit Textbook Chapter](https://qiskit.org/textbook/ch-applications/satisfiability-grover.html).\n",
    "\n",
    "## Marking Oracles\n",
    "### And"
   ]
  },
  {
   "cell_type": "code",
   "execution_count": null,
   "id": "c3704801",
   "metadata": {},
   "outputs": [],
   "source": [
    "from qiskit.quantum_info.operators import Operator\n",
    "from qiskit import QuantumCircuit\n",
    "\n",
    "## Define Basic Matrices\n",
    "I = Operator([[1,0],[0,1]])\n",
    "X = Operator([[0,1],[1,0]])\n",
    "\n",
    "def sized_identity(nqubits):\n",
    "    \"\"\"Creates an identity operator of given size\"\"\"\n",
    "    unitary = I\n",
    "    for i in range(nqubits-1):\n",
    "        unitary = unitary.tensor(I)\n",
    "    return unitary\n",
    "\n",
    "def marking_and_oracle(nqubits):\n",
    "    \"\"\"Returns a matrix representation of the and oracle\"\"\"\n",
    "    unitary = sized_identity(nqubits)\n",
    "    \n",
    "    # Apply the x gate to the output register\n",
    "    unitary.data[-1][-1] = 0\n",
    "    unitary.data[-2][-2] = 0\n",
    "    unitary.data[-1][-2] = 1\n",
    "    unitary.data[-2][-1] = 1\n",
    "    return unitary "
   ]
  },
  {
   "cell_type": "markdown",
   "id": "5e2d9404",
   "metadata": {},
   "source": [
    "### Or"
   ]
  },
  {
   "cell_type": "code",
   "execution_count": null,
   "id": "03331ce6",
   "metadata": {},
   "outputs": [],
   "source": [
    "def sized_x(nqubits):\n",
    "    \"\"\"Creates a not operator of given size\"\"\"\n",
    "    unitary = X\n",
    "    for i in range(nqubits-1):\n",
    "        unitary = unitary.tensor(X)\n",
    "    return unitary\n",
    "\n",
    "def marking_or_oracle(nqubits):\n",
    "    \"\"\"Returns a matrix representation of the or oracle\"\"\"\n",
    "    unitary = sized_x(nqubits).dot(marking_and_oracle(nqubits))\n",
    "    unitary = unitary.dot(sized_x(nqubits-1).tensor(I))\n",
    "    return unitary"
   ]
  },
  {
   "cell_type": "markdown",
   "id": "1a764b24",
   "metadata": {},
   "source": [
    "While we could go on further and create _XOR_ and _AlternatingBits_ oracles but we don't need them for now so let's not :)\n",
    "\n",
    "## SAT Oracles\n",
    "Using our marking gate-oracles, we can create oracles for evaluating SAT clauses and finally complete functions.\n",
    "\n",
    "### Single Clause Oracle\n",
    "A Clause is a disjunction of variables (qubits) that are potentially negated.\n",
    "The clause `x0 || !x1` may be represented by the input `[(0, true), (1, false)]`."
   ]
  },
  {
   "cell_type": "code",
   "execution_count": null,
   "id": "9b92c084",
   "metadata": {},
   "outputs": [],
   "source": [
    "import matplotlib.pyplot as plt\n",
    "\n",
    "def marking_clause_oracle(qubits: [int], target: int, clause: [(int,bool)]):\n",
    "    nqubits = len(qubits) + 1\n",
    "    qc = QuantumCircuit(nqubits)\n",
    "    # Flip input qubits\n",
    "    for index, positive in clause:\n",
    "        if not positive:\n",
    "            qc.x(index)\n",
    "            \n",
    "    # Get Clause Qubits\n",
    "    clause_qubits = [i for i, _ in clause]\n",
    "    \n",
    "    # Create an Oracle for n qubits\n",
    "    nqubits_or = len(clause_qubits) + 1  # +1 for target qubit\n",
    "    or_oracle = marking_or_oracle(nqubits_or)\n",
    "    or_qc = QuantumCircuit(nqubits_or)\n",
    "    or_qc.unitary(or_oracle, range(nqubits_or), \"or_oracle\")\n",
    "    # compose list maps the qubits linearly (0,1,2,3...) on the given target list\n",
    "    clause_qubits.append(target)\n",
    "    return qc.compose(or_qc, clause_qubits)\n",
    "#     return or_qc"
   ]
  },
  {
   "cell_type": "code",
   "execution_count": null,
   "id": "427d729f",
   "metadata": {},
   "outputs": [],
   "source": [
    "# Debug Clause Oracle\n",
    "clause_circuit = marking_clause_oracle(range(5), 5, [(1, True),(3, False),(4, True)])\n",
    "clause_circuit.draw(output=\"mpl\")"
   ]
  },
  {
   "cell_type": "markdown",
   "id": "a0ff5b11",
   "metadata": {},
   "source": [
    "### k-SAT Oracle\n",
    "Using our single clause oracle, we can take their conjunction and create a marking oracle for the entire expression."
   ]
  },
  {
   "cell_type": "code",
   "execution_count": null,
   "id": "a9590703",
   "metadata": {},
   "outputs": [],
   "source": [
    "def marking_ksat_oracle(qubits: [int], target: int, clauses: [[(int, bool)]]):\n",
    "    auxiliary_qc = QuantumCircuit(len(clauses)) # Each clause output needs to be stored in aux\n",
    "    qc = QuantumCircuit(len(qubits) + 1 + len(clauses))  # +1 for overall target\n",
    "    \n",
    "    # Compose individual clauses\n",
    "    for idx, clause in enumerate(clauses):\n",
    "        aux_idx = len(qubits) + idx\n",
    "        one_clause_qc = marking_clause_oracle(qubits, len(qubits), clause)\n",
    "        qbit_map = list(qubits)\n",
    "        qbit_map.append(aux_idx)\n",
    "        qc = qc.compose(one_clause_qc, qbit_map)\n",
    "        \n",
    "    # And the auxiliary registers\n",
    "    nqubits_and = len(clauses) + 1\n",
    "    and_oracle = marking_and_oracle(nqubits_and)\n",
    "    and_qc = QuantumCircuit(nqubits_and)\n",
    "    and_qc.unitary(and_oracle, range(nqubits_and), \"and_oracle\")\n",
    "    \n",
    "    # Compose the and oracle\n",
    "    and_qc_map = [idx+len(qubits) for idx in range(len(clauses)+1)]\n",
    "    # TODO Return auxiliary qubits to |0> State?\n",
    "    return qc.compose(and_qc, and_qc_map)\n",
    "\n",
    "def ksat_for_problem(problem):\n",
    "    nqubits_aux = len(problem) # one for each clause\n",
    "    nqubit_in = max([i for c in problem for i, _ in c]) + 1\n",
    "    problem_qc = marking_ksat_oracle(range(nqubit_in), nqubit_in+nqubits_aux+1, problem)\n",
    "    return problem_qc\n",
    "    "
   ]
  },
  {
   "cell_type": "markdown",
   "id": "c304fcfd",
   "metadata": {},
   "source": [
    "**DONE** We can now formulate a SAT problem and create a marking oracle for it!"
   ]
  },
  {
   "cell_type": "code",
   "execution_count": null,
   "id": "75a3b587",
   "metadata": {},
   "outputs": [],
   "source": [
    "# f(x) = (x1 + !x3 + x4) * (x0 + !x2)\n",
    "problem = [[(1, True),(3, False),(4, True)],\n",
    "          [(0, True),(2, False)]]\n",
    "problem_circuit = ksat_for_problem(problem)\n",
    "problem_circuit.draw(output=\"mpl\")\n"
   ]
  },
  {
   "cell_type": "code",
   "execution_count": null,
   "id": "8abce7de",
   "metadata": {},
   "outputs": [],
   "source": []
  }
 ],
 "metadata": {
  "kernelspec": {
   "display_name": "Python 3 (ipykernel)",
   "language": "python",
   "name": "python3"
  },
  "language_info": {
   "codemirror_mode": {
    "name": "ipython",
    "version": 3
   },
   "file_extension": ".py",
   "mimetype": "text/x-python",
   "name": "python",
   "nbconvert_exporter": "python",
   "pygments_lexer": "ipython3",
   "version": "3.9.12"
  }
 },
 "nbformat": 4,
 "nbformat_minor": 5
}
