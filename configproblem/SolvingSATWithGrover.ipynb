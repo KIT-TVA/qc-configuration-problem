{
 "cells": [
  {
   "cell_type": "markdown",
   "id": "10ba4354",
   "metadata": {},
   "source": [
    "# Solving SAT With Grover\n",
    "In this notebook, we aim to solve satisfyability formulae using grover search.\n",
    "For this, we first construct marking oracles for the basic gates of AND, OR and NOT.\n",
    "Then, we transform them into the required phase-oracle-form.\n",
    "\n",
    "The main resources used are this [Microsoft Kata](https://github.com/microsoft/QuantumKatas/blob/ec925ccfcb599a6bb29c8a39035d0b149f447f9a/SolveSATWithGrover/Workbook_SolveSATWithGrover.ipynb) and this [Qiskit Textbook Chapter](https://qiskit.org/textbook/ch-applications/satisfiability-grover.html).\n",
    "\n",
    "## Marking Oracles\n",
    "### And"
   ]
  },
  {
   "cell_type": "code",
   "execution_count": null,
   "id": "90246474",
   "metadata": {},
   "outputs": [],
   "source": [
    "from qiskit.quantum_info.operators import Operator\n",
    "\n",
    "## Define Basic Matrices\n",
    "I = Operator([[1,0],[0,1]])\n",
    "X = Operator([[0,1],[1,0]])\n",
    "\n",
    "def sized_identity(nqubits):\n",
    "    \"\"\"Creates an identity operator of given size\"\"\"\n",
    "    unitary = I\n",
    "    for i in range(nqubits-1):\n",
    "        unitary = unitary.tensor(I)\n",
    "    return unitary\n",
    "\n",
    "def marking_and_oracle(nInputRegister):\n",
    "    \"\"\"Returns a matrix representation of the and oracle\"\"\"\n",
    "    nqubits = nInputRegister+1;\n",
    "    unitary = sized_identity(nqubits)\n",
    "    \n",
    "    # Apply the x gate to the output register\n",
    "    unitary.data[-1][-1] = 0\n",
    "    unitary.data[-2][-2] = 0\n",
    "    unitary.data[-1][-2] = 1\n",
    "    unitary.data[-2][-1] = 1\n",
    "    return unitary "
   ]
  },
  {
   "cell_type": "markdown",
   "id": "2e79ae08",
   "metadata": {},
   "source": [
    "### Or"
   ]
  },
  {
   "cell_type": "code",
   "execution_count": null,
   "id": "3e8be81c",
   "metadata": {},
   "outputs": [],
   "source": [
    "def sized_x(nqubits):\n",
    "    \"\"\"Creates a not operator of given size\"\"\"\n",
    "    unitary = X\n",
    "    for i in range(nqubits-1):\n",
    "        unitary = unitary.tensor(X)\n",
    "    return unitary\n",
    "\n",
    "def marking_or_oracle(nInputRegisters):\n",
    "    \"\"\"Returns a matrix representation of the or oracle\"\"\"\n",
    "    nqubits = nInputRegisters+1\n",
    "    unitary = sized_x(nqubits).dot(marking_and_oracle(nInputRegisters))\n",
    "    unitary = unitary.dot(sized_x(nInputRegisters).tensor(I))\n",
    "    return unitary"
   ]
  },
  {
   "cell_type": "markdown",
   "id": "53ddda31",
   "metadata": {},
   "source": [
    "While we could go on further and create _XOR_ and _AlternatingBits_ oracles but we don't need them for now so let's not :)\n",
    "\n",
    "## SAT Oracles\n",
    "Using our marking gate-oracles, we can create oracles for evaluating SAT clauses and finally complete functions.\n",
    "\n",
    "### Single Clause Oracle\n",
    "A Clause is a disjunction of variables (qubits) that are potentially negated.\n",
    "The clause `x0 || !x1` may be represented by the input `[(0, true), (1, false)]`."
   ]
  },
  {
   "cell_type": "code",
   "execution_count": null,
   "id": "7f292ba2",
   "metadata": {},
   "outputs": [],
   "source": [
    "def marking_clause_oracle(qubits: [int], target: int, clause: [(int,bool)]):\n",
    "    nqubits = len(qubits) + target\n",
    "    unitary = sized_identity(nqubits)\n",
    "    # Flip input qubits\n",
    "    for index, positive in clause:\n",
    "        if not positive:\n",
    "            unitary = unitary.\n",
    "            "
   ]
  }
 ],
 "metadata": {
  "kernelspec": {
   "display_name": "Python 3 (ipykernel)",
   "language": "python",
   "name": "python3"
  },
  "language_info": {
   "codemirror_mode": {
    "name": "ipython",
    "version": 3
   },
   "file_extension": ".py",
   "mimetype": "text/x-python",
   "name": "python",
   "nbconvert_exporter": "python",
   "pygments_lexer": "ipython3",
   "version": "3.9.12"
  }
 },
 "nbformat": 4,
 "nbformat_minor": 5
}
