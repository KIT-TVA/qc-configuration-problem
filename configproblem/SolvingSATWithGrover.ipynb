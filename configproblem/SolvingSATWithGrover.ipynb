{
 "cells": [
  {
   "cell_type": "markdown",
   "id": "ead2cbc8",
   "metadata": {},
   "source": [
    "# Solving SAT With Grover\n",
    "In this notebook, we aim to solve satisfyability formulae using grover search.\n",
    "For this, we first construct marking oracles for the basic gates of AND, OR and NOT.\n",
    "Then, we transform them into the required phase-oracle-form.\n",
    "\n",
    "The main resources used are this [Microsoft Kata](https://github.com/microsoft/QuantumKatas/blob/ec925ccfcb599a6bb29c8a39035d0b149f447f9a/SolveSATWithGrover/Workbook_SolveSATWithGrover.ipynb) and this [Qiskit Textbook Chapter](https://qiskit.org/textbook/ch-applications/satisfiability-grover.html).\n",
    "\n",
    "## Marking Oracles\n",
    "### And"
   ]
  },
  {
   "cell_type": "code",
   "execution_count": null,
   "id": "52ca2a43",
   "metadata": {},
   "outputs": [],
   "source": [
    "from qiskit.circuit import Qubit, QuantumRegister, AncillaRegister, QuantumCircuit, Gate, ClassicalRegister\n",
    "from qiskit.quantum_info import Operator\n",
    "\n",
    "from typing import Dict, List, Tuple\n",
    "\n",
    "import numpy as np\n",
    "import math\n",
    "np.set_printoptions(threshold=1e6)\n",
    "\n",
    "\n",
    "def create_and_oracle(inp_reg: QuantumRegister, tar: Qubit) -> QuantumCircuit:\n",
    "    \"\"\"\n",
    "        Constructs an oracle for boolean AND,\n",
    "        that is a multi-controlled X gate\n",
    "    \"\"\"\n",
    "    tar_reg = QuantumRegister(bits=[tar])\n",
    "    qc = QuantumCircuit(inp_reg, tar_reg)\n",
    "\n",
    "    qc.mcx(inp_reg, tar_reg)\n",
    "\n",
    "    return qc"
   ]
  },
  {
   "cell_type": "markdown",
   "id": "c832fd6b",
   "metadata": {},
   "source": [
    "### Or"
   ]
  },
  {
   "cell_type": "code",
   "execution_count": null,
   "id": "c15b61de",
   "metadata": {},
   "outputs": [],
   "source": [
    "def create_or_oracle(inp_reg: QuantumRegister, tar: Qubit) -> QuantumCircuit:\n",
    "    \"\"\"\n",
    "        Constructs an oracle for boolean OR,\n",
    "        from NOT (X) and AND oracles\n",
    "    \"\"\"\n",
    "    tar_reg = QuantumRegister(bits=[tar])\n",
    "    qc = QuantumCircuit(inp_reg, tar_reg)\n",
    "\n",
    "    # Negate all inputs\n",
    "    for i in inp_reg:\n",
    "        qc.x(i)\n",
    "    \n",
    "    # Call AND oracle\n",
    "    and_oracle = create_and_oracle(inp_reg, tar).to_gate(label=\"$U_{and}$\")\n",
    "    qc.append(and_oracle, inp_reg[:]+tar_reg[:])\n",
    "\n",
    "    # Inverse negation\n",
    "    for i in inp_reg:\n",
    "        # Inverse of x is x\n",
    "        qc.x(i)\n",
    "\n",
    "    # Flip target\n",
    "    qc.x(tar_reg[0])\n",
    "    \n",
    "    return qc"
   ]
  },
  {
   "cell_type": "markdown",
   "id": "0476a398",
   "metadata": {},
   "source": [
    "While we could go on further and create _XOR_ and _AlternatingBits_ oracles but we don't need them for now so let's not :)\n",
    "\n",
    "## SAT Marking Oracles\n",
    "Using our marking gate-oracles, we can create oracles for evaluating SAT clauses and finally complete functions.\n",
    "\n",
    "### Single Clause Oracle\n",
    "A Clause is a disjunction of variables (qubits) that are potentially negated.\n",
    "The clause `x0 || !x1` may be represented by the input `[(0, true), (1, false)]`."
   ]
  },
  {
   "cell_type": "code",
   "execution_count": null,
   "id": "c1479873",
   "metadata": {},
   "outputs": [],
   "source": [
    "def get_clause_qubits(inp_reg: QuantumRegister, clause: List[Tuple[int, bool]]) -> List[Qubit]:\n",
    "    \"\"\"\n",
    "        Return a register containing only relevant qubits for a SAT clause\n",
    "    \"\"\"\n",
    "\n",
    "    clause_qubits:list(Qubit) = []\n",
    "\n",
    "    for index, _ in clause:\n",
    "        clause_qubits.append(inp_reg[index])\n",
    "\n",
    "    return clause_qubits\n",
    "\n",
    "def create_clause_oracle(inp_reg: QuantumRegister, tar: Qubit, clause: List[Tuple[int, bool]]) -> QuantumCircuit:\n",
    "    \"\"\"\n",
    "        Create an oracle for a SAT clause\n",
    "    \"\"\"\n",
    "    tar_reg = QuantumRegister(bits=[tar], name=\"q_tar\")\n",
    "    qc = QuantumCircuit(inp_reg, tar_reg)\n",
    "\n",
    "    # Flip all qubits which are negated in the clause\n",
    "    for index, positive in clause:\n",
    "        if not positive:\n",
    "            qc.x(index)\n",
    "    \n",
    "    \n",
    "    # Get Clause Qubits\n",
    "    clause_qubits = get_clause_qubits(inp_reg, clause)\n",
    "    clause_reg = QuantumRegister(bits=clause_qubits)\n",
    "\n",
    "    # Create an OR oracle for clause\n",
    "    clause_oracle = create_or_oracle(clause_reg, tar).to_gate(label=\"$U_{or}$\")\n",
    "    qc.append(clause_oracle, clause_reg[:]+tar_reg[:])\n",
    "\n",
    "    # Inverse the initial flips\n",
    "    for index, positive in clause:\n",
    "        if not positive:\n",
    "            qc.x(index)\n",
    "\n",
    "    return qc"
   ]
  },
  {
   "cell_type": "code",
   "execution_count": null,
   "id": "bbf077cc",
   "metadata": {},
   "outputs": [],
   "source": [
    "# Debug Clause Oracle\n",
    "inp_reg = QuantumRegister(3, name=\"q_in\")\n",
    "tar = Qubit()\n",
    "tar_reg = QuantumRegister(bits=[tar])\n",
    "clause = [(0, True),(1, False),(2,False)]\n",
    "\n",
    "clause_circuit = create_clause_oracle(inp_reg, tar, clause)\n",
    "clause_circuit.draw(output=\"mpl\")"
   ]
  },
  {
   "cell_type": "markdown",
   "id": "5962e20a",
   "metadata": {},
   "source": [
    "### k-SAT Oracle\n",
    "Using our single clause oracle, we can take their conjunction and create a marking oracle for the entire expression."
   ]
  },
  {
   "cell_type": "code",
   "execution_count": null,
   "id": "b777fed3",
   "metadata": {},
   "outputs": [],
   "source": [
    "def create_ksat_oracle(inp_reg: QuantumRegister, tar: Qubit, clauses: List[List[Tuple[int, bool]]]) -> Gate:\n",
    "    \"\"\"\n",
    "        Create an Oracle for a kSAT problem\n",
    "    \"\"\"\n",
    "    ancilla_reg = AncillaRegister(len(clauses), name=\"a\")\n",
    "    tar_reg = QuantumRegister(bits=[tar], name=\"q_tar\")\n",
    "    qc = QuantumCircuit(inp_reg, tar_reg, ancilla_reg)\n",
    "\n",
    "    # Compose individual clauses\n",
    "    for index, clause in enumerate(clauses):\n",
    "        # Use one ancilla for each clause\n",
    "        clause_oracle = create_clause_oracle(inp_reg, ancilla_reg[index], clause).to_gate(label=\"$U_{clause}$\")\n",
    "        qc.append(clause_oracle, inp_reg[:]+[ancilla_reg[index]])\n",
    "    \n",
    "    # Store the conjugate transpose (inverse) for later qubit cleanup\n",
    "    inverse_qc = qc.inverse()\n",
    "    \n",
    "    # Use and oracle onto ancilla register and target\n",
    "    and_oracle = create_and_oracle(ancilla_reg, tar).to_gate(label=\"$U_{and}$\")\n",
    "    qc.append(and_oracle, ancilla_reg[:]+tar_reg[:])\n",
    "\n",
    "    # Inverse clause oracles\n",
    "    qc = qc.compose(inverse_qc)\n",
    "\n",
    "    return qc"
   ]
  },
  {
   "cell_type": "markdown",
   "id": "68bf5f17",
   "metadata": {},
   "source": [
    "**DONE** We can now formulate a SAT problem and create a marking oracle for it!"
   ]
  },
  {
   "cell_type": "code",
   "execution_count": null,
   "id": "224fa5a0",
   "metadata": {},
   "outputs": [],
   "source": [
    "# f(x) = (B + !D + E) * (A + !C)\n",
    "# g(x) = (!A+!C)(!B+C)\n",
    "problem_f = [[(1, True),(3, False),(4, True)],\n",
    "          [(0, True),(2, False)]]\n",
    "\n",
    "problem_g = [[(0, False)], [(1, True), (2, True)]]\n",
    "\n",
    "problem = np.array(problem_f)\n",
    "n_variables = 5\n",
    "\n",
    "inp_reg = QuantumRegister(n_variables, name=\"q_in\")\n",
    "tar = Qubit()\n",
    "tar_reg = QuantumRegister(bits=[tar])\n",
    "\n",
    "problem_circuit = create_ksat_oracle(inp_reg, tar, problem)\n",
    "problem_circuit.draw(output=\"mpl\", justify=\"left\")"
   ]
  },
  {
   "cell_type": "markdown",
   "id": "bccd06b0",
   "metadata": {},
   "source": [
    "## Converting the oracles into phase oracles for Grover"
   ]
  },
  {
   "cell_type": "code",
   "execution_count": null,
   "id": "c75a1ce0",
   "metadata": {},
   "outputs": [],
   "source": [
    "def oracle_converter(oracle_qc: QuantumCircuit, target_idx: int) -> QuantumCircuit:\n",
    "    \"\"\"\n",
    "        Convert a bit-flip into a phase oracle\n",
    "    \"\"\"\n",
    "    phase_qc = oracle_qc.copy()\n",
    "\n",
    "    qc_conv = QuantumCircuit(1, name=\"$U_{phase}$\")\n",
    "    qc_conv.x(0)\n",
    "    qc_conv.h(0)\n",
    "    # Prepend the phase transformation\n",
    "    phase_qc = phase_qc.compose(qc_conv, qubits=[target_idx], front=True)\n",
    "    # Append the phase transformation \n",
    "    phase_qc = phase_qc.compose(qc_conv.inverse(), qubits=[target_idx])\n",
    "\n",
    "    return phase_qc\n",
    "\n",
    "phase_problem_circuit = oracle_converter(problem_circuit, len(inp_reg))\n",
    "phase_problem_circuit.draw(output=\"mpl\")"
   ]
  },
  {
   "cell_type": "markdown",
   "id": "6e17b214",
   "metadata": {},
   "source": [
    "### Analyzing Oracles"
   ]
  },
  {
   "cell_type": "code",
   "execution_count": null,
   "id": "8bf045b8",
   "metadata": {},
   "outputs": [],
   "source": [
    "def print_matrix(circuit):\n",
    "    ppod = Operator(circuit).data\n",
    "    print(\"Values in Operator\", set(ppod.flatten()))\n",
    "    print(f\"Oracle Shape: {ppod.shape}\", f\"Elements;; nonzero:{np.count_nonzero(ppod)}, 1: {np.count_nonzero(ppod.real > 0.99)}, -1: {np.count_nonzero(ppod.real < -0.99)}\")\n",
    "    print(\"Diagonal values: \", [round(ppod[x][x].real) for x in range(len(ppod[0]))])\n",
    "    print(ppod)\n",
    "    \n",
    "print_matrix(phase_problem_circuit)"
   ]
  },
  {
   "cell_type": "code",
   "execution_count": null,
   "id": "4a22c7bc",
   "metadata": {},
   "outputs": [],
   "source": [
    "def print_diagonal_analysis(circuit, measurements=None):\n",
    "    od = Operator(circuit).data\n",
    "    diagonal_values = [round(od[x][x].real) for x in range(len(od[0]))]\n",
    "    bspace_padding = math.ceil(math.log(len(diagonal_values), 2))\n",
    "    \n",
    "    if measurements is not None:\n",
    "        measurement_threshold = max(measurements.values()) / (2**2)\n",
    "        measurements = {key:val for key, val in measurements.items() if val > measurement_threshold}\n",
    "    \n",
    "    for i, v in enumerate(diagonal_values):\n",
    "        vs = \" 1\" if  v == 1 else \"-1\"\n",
    "        state_str = format(i, f\"0{bspace_padding}b\")\n",
    "        \n",
    "        # when measurements are available, check if a phase flipped state may be good\n",
    "        state_marking = \"\"\n",
    "        if measurements is not None and v == -1:\n",
    "            if list(filter(state_str.endswith, measurements.keys())) != []:\n",
    "                state_marking = \"good\"\n",
    "            else:\n",
    "                input_size = len(list(measurements)[0])\n",
    "                ancilla_State = int(state_str[:-input_size])\n",
    "                if ancilla_State == 0:\n",
    "                    state_marking = \"!AMBIGUOUS!\"\n",
    "                else:\n",
    "                    state_marking = \"invalid\"\n",
    "        \n",
    "        print(vs, state_str, state_marking)\n",
    "        \n",
    "#count_dummy = {'101': 30, '111': 32, '011': 31, '100': 271, '110': 296, '001': 28, '010': 282, '000': 30}\n",
    "count_dummy = {'01010': 1, '11000': 2, '11011': 7, '00011': 1, '01111': 3, '00010': 8, '00101': 4, '10101': 5, '01011': 6, '00001': 8, '11010': 5, '10010': 10, '00000': 1, '01001': 87, '10000': 6, '11001': 4, '11111': 2, '10110': 89, '11101': 3, '00110': 75, '11110': 87, '10111': 5, '01101': 79, '01110': 87, '10011': 7, '00100': 78, '01100': 78, '10001': 3, '01000': 91, '11100': 72, '00111': 4, '10100': 82}\n",
    "print_diagonal_analysis(phase_problem_circuit, count_dummy)"
   ]
  },
  {
   "cell_type": "markdown",
   "id": "752eee7d",
   "metadata": {},
   "source": [
    "# Plugging Oracles into Grover\n",
    "As we can now create phase oracles, we can model a complete grover loop.\n",
    "\n",
    "1. Create uniform superposition over q_in (an & target stay |0>)\n",
    "2. Make oracle: ksat_for_problem(...) & phase_oracle(...)\n",
    "3. Grover Loop (k-times? correctness-check?)\n",
    "    1. Append Phase_Oracle over all q registers\n",
    "    2. Append Grover Diffuser over all q registers\n",
    "3. Add classical registers for output measurements\n",
    "5. Measure q_in into classical registers and check solution (histogram)"
   ]
  },
  {
   "cell_type": "code",
   "execution_count": null,
   "id": "5ed7acb9",
   "metadata": {},
   "outputs": [],
   "source": [
    "# Input:\n",
    "# f(x) = (x0 + !x1) * (!x2 + !x3) * (x2 + x3) * (!x4 + x5) # Poster Problem\n",
    "#problem = [[(0, True), (1, True)], [(2, False), (3, False)], [(2, True), (3, True)], [(4, False), (5, True)]]\n",
    "# n_variables = 6"
   ]
  },
  {
   "cell_type": "markdown",
   "id": "14be65eb",
   "metadata": {},
   "source": [
    "(1.) Create uniform superposition"
   ]
  },
  {
   "cell_type": "code",
   "execution_count": null,
   "id": "bfdb0d7a",
   "metadata": {},
   "outputs": [],
   "source": [
    "def initialize_s(qc, qubits):\n",
    "    \"\"\"\n",
    "        Apply a H-gate to 'qubits' in qc\n",
    "    \"\"\"\n",
    "    for q in qubits:\n",
    "        qc.h(q)\n",
    "    return qc"
   ]
  },
  {
   "cell_type": "markdown",
   "id": "bab8c1c8",
   "metadata": {},
   "source": [
    "(2.) Make oracle for specific sat problem"
   ]
  },
  {
   "cell_type": "code",
   "execution_count": null,
   "id": "03853f32",
   "metadata": {},
   "outputs": [],
   "source": [
    "def init_sat_circuit(problem):\n",
    "    \"\"\"\n",
    "        Returns calculated number of qubits, created circuit\n",
    "    \"\"\"\n",
    "\n",
    "    # Number of input qubits\n",
    "    num_vars = len(set([statement[0] for clause in problem for statement in clause]))\n",
    "    # Number of ancialla qubits\n",
    "    num_clauses = len(problem)\n",
    "    num_qubits = num_vars + num_clauses + 1\n",
    "\n",
    "    # Init registers and qubits\n",
    "    inp_reg = QuantumRegister(num_vars, name=\"q_in\")\n",
    "    tar = Qubit()\n",
    "    tar_reg = QuantumRegister(bits=[tar], name=\"q_tar\")\n",
    "    ancilla_reg = AncillaRegister(num_clauses, name=\"a\")\n",
    "\n",
    "    # Create oracle for this SAT problem instance\n",
    "    qc_oracle = QuantumCircuit(num_qubits)\n",
    "    qc_oracle.append(create_ksat_oracle(inp_reg, tar, problem).to_gate(label=\"$U_{ksat}$\"), qc_oracle.qubits)\n",
    "    qc_phase_oracle = oracle_converter(qc_oracle, len(inp_reg))\n",
    "\n",
    "    # Construct main quantum circuit\n",
    "    c_regs = ClassicalRegister(num_vars, 'c')\n",
    "    main_qc = QuantumCircuit(inp_reg, tar_reg, ancilla_reg, c_regs)\n",
    "\n",
    "    # Create uniform superposition\n",
    "    main_qc = initialize_s(main_qc, range(num_vars))\n",
    "\n",
    "    return (num_vars, num_qubits, main_qc, qc_oracle, qc_phase_oracle)"
   ]
  },
  {
   "cell_type": "code",
   "execution_count": null,
   "id": "1901d48e",
   "metadata": {},
   "outputs": [],
   "source": [
    "_, _, _, _, qc_phase_oracle = init_sat_circuit(problem)\n",
    "qc_phase_oracle_decomposed = qc_phase_oracle.decompose() # .decompose().decompose().decompose()\n",
    "qc_phase_oracle_decomposed.draw(output=\"mpl\", justify=\"left\")\n"
   ]
  },
  {
   "cell_type": "markdown",
   "id": "d319782b",
   "metadata": {},
   "source": [
    "(3.) Grover Loop"
   ]
  },
  {
   "cell_type": "code",
   "execution_count": null,
   "id": "11b6fe28",
   "metadata": {},
   "outputs": [],
   "source": [
    "def create_ksat_grover(problem: List[List[Tuple[int, bool]]], k) -> Tuple[QuantumCircuit, QuantumCircuit]:\n",
    "    \"\"\"\n",
    "        Creates an circuit for the SAT problem instance and applies Grover k times\n",
    "    \"\"\"\n",
    "\n",
    "    # Init sat circuit\n",
    "    num_inp_qubits, num_qubits, main_qc, qc_oracle, qc_phase_oracle = init_sat_circuit(problem)\n",
    "\n",
    "    # Add grover diffuser\n",
    "    from grover import diffuser\n",
    "    diff = diffuser(num_inp_qubits)\n",
    "\n",
    "    # Grover loop: add the oracle and diffusor step k times\n",
    "    phase_oracle_gate = qc_phase_oracle.to_gate(label='U$_{oracle}$')\n",
    "    register_map = list(range(num_inp_qubits))\n",
    "    for i in range(k):\n",
    "        main_qc.append(phase_oracle_gate, range(num_qubits))\n",
    "        main_qc = main_qc.compose(diff, register_map)\n",
    "        \n",
    "    # Add measurements of input qubits\n",
    "    main_qc.measure(register_map, register_map)\n",
    "#     main_qc.measure_all()\n",
    "    \n",
    "    return (main_qc, qc_phase_oracle)"
   ]
  },
  {
   "cell_type": "code",
   "execution_count": null,
   "id": "294a5d11",
   "metadata": {},
   "outputs": [],
   "source": [
    "# A suitable k could be calculated using quantum phase estimation\n",
    "k=1\n",
    "\n",
    "# Create the circuit\n",
    "main_qc, qc_oracle = create_ksat_grover(problem, k)\n",
    "\n",
    "\n",
    "main_qc.draw(output=\"mpl\", justify=\"left\")"
   ]
  },
  {
   "cell_type": "markdown",
   "id": "511d16cd",
   "metadata": {},
   "source": [
    "The Quantum Circuit is completed! Simulate it!"
   ]
  },
  {
   "cell_type": "code",
   "execution_count": null,
   "id": "76689a4a",
   "metadata": {},
   "outputs": [],
   "source": [
    "from qiskit import Aer, transpile\n",
    "from qiskit.visualization import plot_histogram\n",
    "from qiskit.providers.aer import StatevectorSimulator\n",
    "\n",
    "transpiled_grover_circuit = transpile(main_qc, StatevectorSimulator())\n",
    "results = StatevectorSimulator().run(transpiled_grover_circuit, shots=1000).result()\n",
    "counts = results.get_counts()\n",
    "histogram = plot_histogram(counts, figsize=(40, 10))\n",
    "histogram # For display purposes in jupyter"
   ]
  },
  {
   "cell_type": "markdown",
   "id": "b6163e0d",
   "metadata": {},
   "source": [
    "## Warmstarting other Quantum circuits\n",
    "If we want to use this result to warmstart other quantum circuits, we need the list of complex amplitudes of that statevector!"
   ]
  },
  {
   "cell_type": "code",
   "execution_count": null,
   "id": "f70d490e",
   "metadata": {},
   "outputs": [],
   "source": [
    "# Get the statevector from counts.\n",
    "def calc_statevector_from(counts, width=None):\n",
    "    threshold = max(counts.values())/1e2 # one order of magnitude below the most often measured results\n",
    "    count_vector = []\n",
    "    shots = 0 # measured shots\n",
    "    \n",
    "    # derive width from counts if not given\n",
    "    if width is None:\n",
    "        width = len(list(counts.keys()))\n",
    "    \n",
    "    # create statevector by using counts\n",
    "    for i in range(2**width):\n",
    "        b = format(i, f\"0{width}b\")\n",
    "        c = counts.get(b)\n",
    "        # print(i, b, c)\n",
    "        if c is None:\n",
    "            count_vector.append(0)\n",
    "        else:\n",
    "            count_vector.append(c)\n",
    "            shots += c\n",
    "    \n",
    "    # normalize vector\n",
    "    count_arr = np.array(count_vector)\n",
    "    norm_vector = count_arr / count_arr.sum()\n",
    "    \n",
    "    # sqrt vector\n",
    "    statevector = np.sqrt(norm_vector)\n",
    "    return statevector"
   ]
  },
  {
   "cell_type": "markdown",
   "id": "6fd904e3",
   "metadata": {},
   "source": [
    "This function can be used to calculate a statevector from a set of measurements!\n",
    "Now double check that this vector yields the same result"
   ]
  },
  {
   "cell_type": "code",
   "execution_count": null,
   "id": "9f2a7124",
   "metadata": {},
   "outputs": [],
   "source": [
    "num_vars = n_variables # restrict to n qubits defined near the problems because we don't care about our ancillas\n",
    "manual_statevector = calc_statevector_from(counts, num_vars)\n",
    "print(repr(manual_statevector))\n",
    "\n",
    "qc_vec = QuantumCircuit(QuantumRegister(num_vars), ClassicalRegister(num_vars))\n",
    "qc_vec.initialize(manual_statevector)\n",
    "qc_vec.measure(list(range(num_vars)), list(range(num_vars)))\n",
    "qc_vec.draw(output=\"mpl\")"
   ]
  },
  {
   "cell_type": "code",
   "execution_count": null,
   "id": "89438d6e",
   "metadata": {
    "scrolled": true
   },
   "outputs": [],
   "source": [
    "transpiled_vec_circuit = transpile(qc_vec, StatevectorSimulator())\n",
    "print(f\"Circuit Depth: {transpiled_vec_circuit.depth()}\")\n",
    "results = StatevectorSimulator().run(transpiled_vec_circuit, shots=1000).result()\n",
    "counts = results.get_counts()\n",
    "histogram = plot_histogram(counts, figsize=(40, 10))\n",
    "histogram # For display purposes in jupyter"
   ]
  },
  {
   "cell_type": "markdown",
   "id": "1eb48186",
   "metadata": {},
   "source": [
    "# Importing Feature Models"
   ]
  },
  {
   "cell_type": "code",
   "execution_count": null,
   "id": "c31049c7",
   "metadata": {},
   "outputs": [],
   "source": [
    "from util.hamiltonian_generator import Extended_Modelreader\n",
    "import os \n",
    "\n",
    "def create_grover_for_model(rel_path, k=1):\n",
    "    # load given model\n",
    "    current_folder = globals()['_dh'][0]\n",
    "    some_model_path = os.path.join(current_folder, rel_path)\n",
    "    reader = Extended_Modelreader()\n",
    "    feature_model, constraints = reader.readModel(some_model_path)\n",
    "    \n",
    "    # transform to cnf and then to problem\n",
    "    feature_cnf = feature_model.build_cnf(constraints)\n",
    "    print(feature_cnf)\n",
    "    feature_problem = feature_cnf.to_problem()\n",
    "    \n",
    "    # create grover circuit\n",
    "    problem_qc, problem_oracle = create_ksat_grover(feature_problem, k) # Create the circuit\n",
    "    return problem_qc\n",
    "    \n",
    "model = \"../benchmarks/car.xml\"\n",
    "model_circuit = create_grover_for_model(model)\n",
    "# model_circuit.draw(output=\"mpl\")"
   ]
  },
  {
   "cell_type": "code",
   "execution_count": null,
   "id": "b7e47d23",
   "metadata": {},
   "outputs": [],
   "source": [
    "from qiskit.providers.aer import StatevectorSimulator, QasmSimulator\n",
    "\n",
    "def simulate_circuit(circuit, backend=StatevectorSimulator(), shots=100, simulate=False):\n",
    "    # transpile and collect meta data\n",
    "    transpiled_grover_circuit = transpile(circuit, backend)\n",
    "    print(f\"Circuit depth: {transpiled_grover_circuit.depth()}gates - width: {transpiled_grover_circuit.num_qubits}qubits\")\n",
    "    \n",
    "    # try to run/simulate\n",
    "    if simulate:\n",
    "        results = backend.run(transpiled_grover_circuit, shots=shots).result()\n",
    "        counts = results.get_counts()\n",
    "        return counts\n",
    "\n",
    "# gather backend metrics\n",
    "# from qiskit import IBMQ, assemble, transpile\n",
    "# provider = IBMQ.load_account()\n",
    "\n",
    "# print(provider.backends())\n",
    "# simulate_circuit(model_circuit, provider.backend.ibmq_geneva)    \n",
    "\n",
    "# actual simulation\n",
    "measurements = simulate_circuit(model_circuit, shots=1000, simulate=False)\n",
    "plot_histogram(measurements, figsize=(40, 10))"
   ]
  }
 ],
 "metadata": {
  "kernelspec": {
   "display_name": "Python 3 (ipykernel)",
   "language": "python",
   "name": "python3"
  },
  "language_info": {
   "codemirror_mode": {
    "name": "ipython",
    "version": 3
   },
   "file_extension": ".py",
   "mimetype": "text/x-python",
   "name": "python",
   "nbconvert_exporter": "python",
   "pygments_lexer": "ipython3",
   "version": "3.9.13"
  },
  "vscode": {
   "interpreter": {
    "hash": "d3514f4bb63f5ef06960f249eaf871d4155ba26850e795a4551f45f075b9fcda"
   }
  }
 },
 "nbformat": 4,
 "nbformat_minor": 5
}
