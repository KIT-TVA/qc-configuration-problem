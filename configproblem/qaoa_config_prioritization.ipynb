{
 "cells": [
  {
   "cell_type": "markdown",
   "metadata": {},
   "source": [
    "# Configuration prioritization using QAOA\n",
    "\n",
    "We want to extend our findings from the qaoa_mincost_sat notebook by adding functionality for creating an ordered list of configurations sorted by ascending configuration cost.\n",
    "We will be using the same mincost SAT instance as before as an example.\n",
    "\n",
    "\n",
    "The cost for each valid configuration is as follows:\n",
    "\n",
    "| Feature Vector | Config. Cost | Feature Vector | Config. Cost |\n",
    "|----------------|--------------|----------------|--------------|\n",
    "| 01 01 01       | 80           | 01 10 00       | 45           |\n",
    "| 10 01 01       | 90           | 10 10 00       | 55           |\n",
    "| 11 01 01       | 110          | 11 10 00       | 75           |\n",
    "| 01 10 01       | 55           | 01 01 11       | 90           |\n",
    "| 10 10 01       | 65           | 10 01 11       | 100          |\n",
    "| 11 10 01       | 95           | 11 01 11       | 120          |\n",
    "| 01 01 00       | 70           | 01 10 11       | 65           |\n",
    "| 10 01 00       | 80           | 10 10 11       | 75           |\n",
    "| 11 01 00       | 100          | 11 10 11       | 95           |"
   ]
  },
  {
   "cell_type": "code",
   "execution_count": null,
   "metadata": {},
   "outputs": [],
   "source": [
    "# Notebook Setup\n",
    "from IPython.core import page\n",
    "page.page = print\n",
    "\n",
    "# Imports used for examples\n",
    "import qaoa_config_prioritization as prio\n",
    "from pprint import pprint"
   ]
  },
  {
   "cell_type": "code",
   "execution_count": null,
   "metadata": {},
   "outputs": [],
   "source": [
    "# cost and sat individually\n",
    "from qubovert import boolean_var\n",
    "\n",
    "# define binary vars\n",
    "x1, x2, x3, x4, x5, x6 = boolean_var('x1'), boolean_var('x2'), boolean_var('x3'), boolean_var('x4'), boolean_var('x5'), boolean_var('x6')\n",
    "\n",
    "# SAT Penalty\n",
    "alpha_sat = 1000 # 1e6\n",
    "\n",
    "# SAT QUBO\n",
    "sat_model = alpha_sat * (2 - x1 - x2 - x3 - x4 + x5 + x1 * x2 + 2 * x3 * x4 - x5 * x6)\n",
    "\n",
    "# Equal probability sat model\n",
    "# sat_model = alpha_sat * ( 0.6 * (1 - x1 - x2 + x1 * x2) + (x3 * x4) + (1 - x3 - x4 + x3 * x4) + 0.6 * (x5 - x5 * x6) )\n",
    "\n",
    "# Cost QUBO\n",
    "cost_model = 30*x1 + 20*x2 + 25*x3 + 50*x4 + 30*x5 + 10*x6\n",
    "\n",
    "# Combine models\n",
    "combined_model = sat_model +  cost_model\n",
    "combined_hamiltonian = combined_model.to_quso()"
   ]
  },
  {
   "cell_type": "code",
   "execution_count": null,
   "metadata": {},
   "outputs": [],
   "source": [
    "# Config cost for each valid config\n",
    "config_cost = {\"101010\": 80, \"101001\":  90, \"101011\": 110,\n",
    "               \"100110\": 55, \"100101\":  65, \"100111\":  95,\n",
    "               \"001010\": 70, \"001001\":  80, \"001011\": 100,\n",
    "               \"000110\": 45, \"000101\":  55, \"000111\":  75,\n",
    "               \"111010\": 90, \"111001\": 100, \"111011\": 120,\n",
    "               \"110110\": 65, \"110101\":  75, \"110111\":  95}"
   ]
  },
  {
   "cell_type": "markdown",
   "metadata": {},
   "source": [
    "# Adjusting the Hamiltonian\n",
    "\n",
    "In order to create an ordered list of configurations with ascending cost, we need to run the QAOA algorithm multiple times and adjust the hamiltonian for each run to exclude the config that was previously measured with the highest probability.\n",
    "We do this by using Variational Quantum Deflation as described by [Higgott et al.](https://arxiv.org/abs/1805.08138)\n",
    "\n",
    "## Deflating configurations\n",
    "In order to determine the $k$-th best configuration, we need to exclude every other configuration in our hamiltonian.\n",
    "To do this we can use the following formular:\n",
    "\n",
    "$H_k := H + \\sum_{i = 0}^{k - 1} \\beta_i | i \\rangle \\langle i |$\n",
    "\n",
    "where $i$ is the previously found $i$-th configuration of our optimization problem.\n",
    "\n",
    "To guarantee a minimum hamiltonian energy at $E_k$ for the $k$-th configuration, we need to choose $\\beta_i > E_k - E_i$.\n",
    "We achieve this by running the algorithm multiple times and adjusting (i.e. doubling) $\\beta_i$ starting from a predetermined value until we find a $\\beta_i$ which is big enough."
   ]
  },
  {
   "cell_type": "code",
   "execution_count": null,
   "metadata": {},
   "outputs": [],
   "source": [
    "%psource prio.deflate_config"
   ]
  },
  {
   "cell_type": "code",
   "execution_count": null,
   "metadata": {},
   "outputs": [],
   "source": [
    "prioritized_list = prio.config_prioritization(combined_hamiltonian, 3, 2600)\n",
    "\n",
    "for item in prioritized_list:\n",
    "    # Check config validity\n",
    "    if config_cost.keys().__contains__(item):\n",
    "        print(\"Valid config \" + str(item) + \" with cost: \" + str(config_cost[item]))\n",
    "    else:\n",
    "        print(\"Invalid config\")"
   ]
  }
 ],
 "metadata": {
  "kernelspec": {
   "display_name": "Python 3 (ipykernel)",
   "language": "python",
   "name": "python3"
  },
  "language_info": {
   "codemirror_mode": {
    "name": "ipython",
    "version": 3
   },
   "file_extension": ".py",
   "mimetype": "text/x-python",
   "name": "python",
   "nbconvert_exporter": "python",
   "pygments_lexer": "ipython3",
   "version": "3.9.13"
  }
 },
 "nbformat": 4,
 "nbformat_minor": 1
}
