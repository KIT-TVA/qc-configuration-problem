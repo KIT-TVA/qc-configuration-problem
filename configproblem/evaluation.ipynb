{
 "cells": [
  {
   "cell_type": "code",
   "execution_count": 1,
   "id": "2941328f",
   "metadata": {
    "ExecuteTime": {
     "end_time": "2023-11-16T04:51:42.376268096Z",
     "start_time": "2023-11-16T04:51:41.737256321Z"
    }
   },
   "outputs": [],
   "source": [
    "from IPython.core.pylabtools import figsize\n",
    "\n",
    "import grover_feature_qasm as gfq\n",
    "import grover_sat_qasm_new as gsq\n",
    "import grover_sat as gs\n",
    "from qiskit.qasm3 import loads\n",
    "from matplotlib import pyplot as plt\n",
    "import numpy as np\n",
    "from typing import Dict"
   ]
  },
  {
   "cell_type": "markdown",
   "id": "e91e8781",
   "metadata": {},
   "source": [
    "# Evaluating Depth Calculation\n",
    "\n",
    "To evaluate the depth calculation we will compare the calculated depth to the one calculated by qiskit circuits, created using the ```parse()``` method."
   ]
  },
  {
   "cell_type": "code",
   "execution_count": 65,
   "id": "3b115aa9",
   "metadata": {
    "ExecuteTime": {
     "end_time": "2023-11-16T04:49:21.014852740Z",
     "start_time": "2023-11-16T04:49:21.013750578Z"
    }
   },
   "outputs": [
    {
     "name": "stdout",
     "output_type": "stream",
     "text": [
      "Error can only parse xml files\n"
     ]
    },
    {
     "ename": "Exception",
     "evalue": "Can only parse xml files",
     "output_type": "error",
     "traceback": [
      "\u001B[0;31m---------------------------------------------------------------------------\u001B[0m",
      "\u001B[0;31mException\u001B[0m                                 Traceback (most recent call last)",
      "Cell \u001B[0;32mIn [65], line 12\u001B[0m\n\u001B[1;32m      9\u001B[0m results \u001B[38;5;241m=\u001B[39m {k:[] \u001B[38;5;28;01mfor\u001B[39;00m k \u001B[38;5;129;01min\u001B[39;00m models\u001B[38;5;241m.\u001B[39mkeys()}\n\u001B[1;32m     10\u001B[0m gates \u001B[38;5;241m=\u001B[39m [\u001B[38;5;124m\"\u001B[39m\u001B[38;5;124m$U_\u001B[39m\u001B[38;5;132;01m{ksat}\u001B[39;00m\u001B[38;5;124m$\u001B[39m\u001B[38;5;124m\"\u001B[39m, \u001B[38;5;124m\"\u001B[39m\u001B[38;5;124mU$_\u001B[39m\u001B[38;5;132;01m{oracle}\u001B[39;00m\u001B[38;5;124m$\u001B[39m\u001B[38;5;124m\"\u001B[39m,\u001B[38;5;124m\"\u001B[39m\u001B[38;5;124m$U_\u001B[39m\u001B[38;5;132;01m{diffuser}\u001B[39;00m\u001B[38;5;124m$\u001B[39m\u001B[38;5;124m\"\u001B[39m, \u001B[38;5;124m\"\u001B[39m\u001B[38;5;124mU$_\u001B[39m\u001B[38;5;132;01m{Diffuser}\u001B[39;00m\u001B[38;5;124m$\u001B[39m\u001B[38;5;124m\"\u001B[39m, \u001B[38;5;124m\"\u001B[39m\u001B[38;5;124m$U_\u001B[39m\u001B[38;5;132;01m{clause}\u001B[39;00m\u001B[38;5;124m$\u001B[39m\u001B[38;5;124m\"\u001B[39m, \u001B[38;5;124m\"\u001B[39m\u001B[38;5;124m$U_\u001B[39m\u001B[38;5;132;01m{and}\u001B[39;00m\u001B[38;5;124m$\u001B[39m\u001B[38;5;124m\"\u001B[39m, \u001B[38;5;124m\"\u001B[39m\u001B[38;5;124m$U_\u001B[39m\u001B[38;5;132;01m{or}\u001B[39;00m\u001B[38;5;124m$\u001B[39m\u001B[38;5;124m\"\u001B[39m] \u001B[38;5;241m+\u001B[39m [\n\u001B[1;32m     11\u001B[0m         \u001B[38;5;124mf\u001B[39m\u001B[38;5;124m\"\u001B[39m\u001B[38;5;124mcircuit-\u001B[39m\u001B[38;5;132;01m{\u001B[39;00mi\u001B[38;5;132;01m}\u001B[39;00m\u001B[38;5;124m_dg\u001B[39m\u001B[38;5;124m\"\u001B[39m \u001B[38;5;28;01mfor\u001B[39;00m i \u001B[38;5;129;01min\u001B[39;00m \u001B[38;5;28mrange\u001B[39m(\u001B[38;5;241m500\u001B[39m)]\n\u001B[0;32m---> 12\u001B[0m qasms \u001B[38;5;241m=\u001B[39m \u001B[43m{\u001B[49m\u001B[43mmodel\u001B[49m\u001B[43m:\u001B[49m\u001B[43mgfq\u001B[49m\u001B[38;5;241;43m.\u001B[39;49m\u001B[43minit_feature_circuit\u001B[49m\u001B[43m(\u001B[49m\u001B[38;5;124;43mf\u001B[39;49m\u001B[38;5;124;43m\"\u001B[39;49m\u001B[38;5;124;43m../benchmarks/featureide-examples/\u001B[39;49m\u001B[38;5;132;43;01m{\u001B[39;49;00m\u001B[43mmodels\u001B[49m\u001B[43m[\u001B[49m\u001B[43mmodel\u001B[49m\u001B[43m]\u001B[49m\u001B[38;5;132;43;01m}\u001B[39;49;00m\u001B[38;5;124;43m\"\u001B[39;49m\u001B[43m,\u001B[49m\u001B[43m \u001B[49m\u001B[43mk\u001B[49m\u001B[38;5;241;43m=\u001B[39;49m\u001B[43mk\u001B[49m\u001B[43m)\u001B[49m\u001B[43m \u001B[49m\u001B[38;5;28;43;01mfor\u001B[39;49;00m\u001B[43m \u001B[49m\u001B[43mmodel\u001B[49m\u001B[43m \u001B[49m\u001B[38;5;129;43;01min\u001B[39;49;00m\u001B[43m \u001B[49m\u001B[43mmodels\u001B[49m\u001B[38;5;241;43m.\u001B[39;49m\u001B[43mkeys\u001B[49m\u001B[43m(\u001B[49m\u001B[43m)\u001B[49m\u001B[43m}\u001B[49m\n\u001B[1;32m     13\u001B[0m circuits \u001B[38;5;241m=\u001B[39m {model:loads(qasms[model][\u001B[38;5;241m0\u001B[39m]\u001B[38;5;241m.\u001B[39mto_qasm()) \u001B[38;5;28;01mfor\u001B[39;00m model \u001B[38;5;129;01min\u001B[39;00m models\u001B[38;5;241m.\u001B[39mkeys()}\n",
      "Cell \u001B[0;32mIn [65], line 12\u001B[0m, in \u001B[0;36m<dictcomp>\u001B[0;34m(.0)\u001B[0m\n\u001B[1;32m      9\u001B[0m results \u001B[38;5;241m=\u001B[39m {k:[] \u001B[38;5;28;01mfor\u001B[39;00m k \u001B[38;5;129;01min\u001B[39;00m models\u001B[38;5;241m.\u001B[39mkeys()}\n\u001B[1;32m     10\u001B[0m gates \u001B[38;5;241m=\u001B[39m [\u001B[38;5;124m\"\u001B[39m\u001B[38;5;124m$U_\u001B[39m\u001B[38;5;132;01m{ksat}\u001B[39;00m\u001B[38;5;124m$\u001B[39m\u001B[38;5;124m\"\u001B[39m, \u001B[38;5;124m\"\u001B[39m\u001B[38;5;124mU$_\u001B[39m\u001B[38;5;132;01m{oracle}\u001B[39;00m\u001B[38;5;124m$\u001B[39m\u001B[38;5;124m\"\u001B[39m,\u001B[38;5;124m\"\u001B[39m\u001B[38;5;124m$U_\u001B[39m\u001B[38;5;132;01m{diffuser}\u001B[39;00m\u001B[38;5;124m$\u001B[39m\u001B[38;5;124m\"\u001B[39m, \u001B[38;5;124m\"\u001B[39m\u001B[38;5;124mU$_\u001B[39m\u001B[38;5;132;01m{Diffuser}\u001B[39;00m\u001B[38;5;124m$\u001B[39m\u001B[38;5;124m\"\u001B[39m, \u001B[38;5;124m\"\u001B[39m\u001B[38;5;124m$U_\u001B[39m\u001B[38;5;132;01m{clause}\u001B[39;00m\u001B[38;5;124m$\u001B[39m\u001B[38;5;124m\"\u001B[39m, \u001B[38;5;124m\"\u001B[39m\u001B[38;5;124m$U_\u001B[39m\u001B[38;5;132;01m{and}\u001B[39;00m\u001B[38;5;124m$\u001B[39m\u001B[38;5;124m\"\u001B[39m, \u001B[38;5;124m\"\u001B[39m\u001B[38;5;124m$U_\u001B[39m\u001B[38;5;132;01m{or}\u001B[39;00m\u001B[38;5;124m$\u001B[39m\u001B[38;5;124m\"\u001B[39m] \u001B[38;5;241m+\u001B[39m [\n\u001B[1;32m     11\u001B[0m         \u001B[38;5;124mf\u001B[39m\u001B[38;5;124m\"\u001B[39m\u001B[38;5;124mcircuit-\u001B[39m\u001B[38;5;132;01m{\u001B[39;00mi\u001B[38;5;132;01m}\u001B[39;00m\u001B[38;5;124m_dg\u001B[39m\u001B[38;5;124m\"\u001B[39m \u001B[38;5;28;01mfor\u001B[39;00m i \u001B[38;5;129;01min\u001B[39;00m \u001B[38;5;28mrange\u001B[39m(\u001B[38;5;241m500\u001B[39m)]\n\u001B[0;32m---> 12\u001B[0m qasms \u001B[38;5;241m=\u001B[39m {model:\u001B[43mgfq\u001B[49m\u001B[38;5;241;43m.\u001B[39;49m\u001B[43minit_feature_circuit\u001B[49m\u001B[43m(\u001B[49m\u001B[38;5;124;43mf\u001B[39;49m\u001B[38;5;124;43m\"\u001B[39;49m\u001B[38;5;124;43m../benchmarks/featureide-examples/\u001B[39;49m\u001B[38;5;132;43;01m{\u001B[39;49;00m\u001B[43mmodels\u001B[49m\u001B[43m[\u001B[49m\u001B[43mmodel\u001B[49m\u001B[43m]\u001B[49m\u001B[38;5;132;43;01m}\u001B[39;49;00m\u001B[38;5;124;43m\"\u001B[39;49m\u001B[43m,\u001B[49m\u001B[43m \u001B[49m\u001B[43mk\u001B[49m\u001B[38;5;241;43m=\u001B[39;49m\u001B[43mk\u001B[49m\u001B[43m)\u001B[49m \u001B[38;5;28;01mfor\u001B[39;00m model \u001B[38;5;129;01min\u001B[39;00m models\u001B[38;5;241m.\u001B[39mkeys()}\n\u001B[1;32m     13\u001B[0m circuits \u001B[38;5;241m=\u001B[39m {model:loads(qasms[model][\u001B[38;5;241m0\u001B[39m]\u001B[38;5;241m.\u001B[39mto_qasm()) \u001B[38;5;28;01mfor\u001B[39;00m model \u001B[38;5;129;01min\u001B[39;00m models\u001B[38;5;241m.\u001B[39mkeys()}\n",
      "File \u001B[0;32m~/Documents/University/bachelor-thesis/qc-configuration-problem/configproblem/grover_feature_qasm.py:245\u001B[0m, in \u001B[0;36minit_feature_circuit\u001B[0;34m(rel_path, k)\u001B[0m\n\u001B[1;32m    242\u001B[0m \u001B[38;5;28;01mdef\u001B[39;00m \u001B[38;5;21minit_feature_circuit\u001B[39m(rel_path: \u001B[38;5;28mstr\u001B[39m, k:\u001B[38;5;28mint\u001B[39m \u001B[38;5;241m=\u001B[39m \u001B[38;5;241m1\u001B[39m) \u001B[38;5;241m-\u001B[39m\u001B[38;5;241m>\u001B[39m Tuple[QASM3, Dict[\u001B[38;5;28mstr\u001B[39m, \u001B[38;5;28mint\u001B[39m]]:\n\u001B[1;32m    243\u001B[0m \n\u001B[1;32m    244\u001B[0m     \u001B[38;5;66;03m# Create oracle and add diffusion operator to get one iteration\u001B[39;00m\n\u001B[0;32m--> 245\u001B[0m     oracle, feature_qubits, feature_names \u001B[38;5;241m=\u001B[39m \u001B[43mfeature_oracle\u001B[49m\u001B[43m(\u001B[49m\u001B[43mrel_path\u001B[49m\u001B[43m)\u001B[49m\n\u001B[1;32m    246\u001B[0m     add_diffusion_feature(oracle, feature_qubits)\n\u001B[1;32m    248\u001B[0m     \u001B[38;5;66;03m# Create final circuit\u001B[39;00m\n",
      "File \u001B[0;32m~/Documents/University/bachelor-thesis/qc-configuration-problem/configproblem/grover_feature_qasm.py:90\u001B[0m, in \u001B[0;36mfeature_oracle\u001B[0;34m(feature_model_path)\u001B[0m\n\u001B[1;32m     88\u001B[0m \u001B[38;5;28;01mif\u001B[39;00m feature_model_path\u001B[38;5;241m.\u001B[39msplit(\u001B[38;5;124m\"\u001B[39m\u001B[38;5;124m.\u001B[39m\u001B[38;5;124m\"\u001B[39m)[\u001B[38;5;241m-\u001B[39m\u001B[38;5;241m1\u001B[39m] \u001B[38;5;241m!=\u001B[39m \u001B[38;5;124m\"\u001B[39m\u001B[38;5;124mxml\u001B[39m\u001B[38;5;124m\"\u001B[39m:\n\u001B[1;32m     89\u001B[0m     \u001B[38;5;28mprint\u001B[39m(\u001B[38;5;124m\"\u001B[39m\u001B[38;5;124mError can only parse xml files\u001B[39m\u001B[38;5;124m\"\u001B[39m)\n\u001B[0;32m---> 90\u001B[0m     \u001B[38;5;28;01mraise\u001B[39;00m \u001B[38;5;167;01mException\u001B[39;00m(\u001B[38;5;124m\"\u001B[39m\u001B[38;5;124mCan only parse xml files\u001B[39m\u001B[38;5;124m\"\u001B[39m)\n\u001B[1;32m     91\u001B[0m reader \u001B[38;5;241m=\u001B[39m Extended_Modelreader()\n\u001B[1;32m     92\u001B[0m model, constraints \u001B[38;5;241m=\u001B[39m reader\u001B[38;5;241m.\u001B[39mreadModel(feature_model_path)\n",
      "\u001B[0;31mException\u001B[0m: Can only parse xml files"
     ]
    }
   ],
   "source": [
    "models = {\n",
    "    \"car\" : \"car.xml\",\n",
    "    \"sandwich\" : \"sandwich.xml\",\n",
    "    \"bike\" : \"bike.xml\",\n",
    "    \"axTLS\": \"axTLS.xml\",\n",
    "    \"uClibc\" : \"uClibc.xml\",\n",
    "    \"busybox\": \"busybox.xml\"\n",
    "}\n",
    "k=1\n",
    "gates = [\"$U_{ksat}$\", \"U$_{oracle}$\",\"$U_{diffuser}$\", \"U$_{Diffuser}$\", \"$U_{clause}$\", \"$U_{and}$\", \"$U_{or}$\"] + [\n",
    "        f\"circuit-{i}_dg\" for i in range(500)]\n",
    "qasms = {model:gsq.create_grover_for_model(f\"../benchmarks/featureide-examples/{models[model]}\", k=k) for model in models.keys()}\n",
    "circuits = {model:loads(qasms[model][0].to_qasm()) for model in models.keys()}"
   ]
  },
  {
   "cell_type": "code",
   "execution_count": 5,
   "id": "5e1087fe",
   "metadata": {
    "ExecuteTime": {
     "end_time": "2023-11-16T04:52:27.914027137Z",
     "start_time": "2023-11-16T04:52:21.642779553Z"
    }
   },
   "outputs": [],
   "source": [
    "models = {\n",
    "    \"car\" : \"car.xml\",\n",
    "    \"sandwich\" : \"sandwich.xml\",\n",
    "    \"bike\" : \"bike.xml\",\n",
    "    \"axTLS\": \"axTLS.xml\",\n",
    "    \"uClibc\" : \"uClibc.xml\",\n",
    "    \"busybox\": \"busybox.xml\"\n",
    "}\n",
    "results = {k:[] for k in models.keys()}\n",
    "k=1\n",
    "for model,file in models.items():\n",
    "    qasm, _ = gfq.init_feature_circuit(f\"../benchmarks/featureide-examples/{file}\", k=k)\n",
    "    circuit = loads(qasm.to_qasm())\n",
    "    results[model].append((qasm.calculate_depth()[0], qasm.calculate_adapted_depth()[0], circuit.depth()))"
   ]
  },
  {
   "cell_type": "code",
   "execution_count": 8,
   "id": "1a13ece3",
   "metadata": {
    "ExecuteTime": {
     "end_time": "2023-11-16T05:16:56.498363624Z",
     "start_time": "2023-11-16T05:16:30.142992664Z"
    }
   },
   "outputs": [
    {
     "data": {
      "text/plain": "23"
     },
     "execution_count": 8,
     "metadata": {},
     "output_type": "execute_result"
    }
   ],
   "source": [
    "gsq.create_grover_for_model(f\"../benchmarks/featureide-examples/car.xml\", k=k)[0].calculate_depth()[0]"
   ]
  },
  {
   "cell_type": "markdown",
   "source": [
    "# Evaluating Circuit Properties\n",
    "\n",
    "To evaluate the circuit properties we will compare our different designs to the original implementation. \n"
   ],
   "metadata": {
    "collapsed": false
   },
   "id": "48fe311af3fded03"
  },
  {
   "cell_type": "code",
   "execution_count": 7,
   "outputs": [
    {
     "name": "stdout",
     "output_type": "stream",
     "text": [
      "car\n",
      "0\n",
      "feat\n",
      "qasm\n",
      "old\n",
      "(21, 28, 28)\n",
      "------\n",
      "sandwich\n",
      "0\n",
      "feat\n",
      "qasm\n",
      "old\n",
      "(35, 47, 47)\n",
      "------\n",
      "bike\n",
      "0\n",
      "feat\n",
      "qasm\n",
      "old\n",
      "(92, 182, 182)\n",
      "------\n",
      "axTLS\n",
      "0\n",
      "feat\n"
     ]
    },
    {
     "name": "stderr",
     "output_type": "stream",
     "text": [
      "/home/marwin/Documents/University/bachelor-thesis/qc-configuration-problem/configproblem/util/cnf.py:323: UserWarning: Clauses Mismatch between dimacs input and generated CNF! dimacs 183 / cnf 177\n",
      "  warnings.warn(f\"Clauses Mismatch between dimacs input and generated CNF! dimacs {dimacs_reader.nClauses} / cnf {nClauses}\")\n"
     ]
    },
    {
     "ename": "KeyboardInterrupt",
     "evalue": "",
     "output_type": "error",
     "traceback": [
      "\u001B[0;31m---------------------------------------------------------------------------\u001B[0m",
      "\u001B[0;31mKeyboardInterrupt\u001B[0m                         Traceback (most recent call last)",
      "Cell \u001B[0;32mIn [7], line 23\u001B[0m\n\u001B[1;32m     21\u001B[0m \u001B[38;5;28mprint\u001B[39m(\u001B[38;5;124m\"\u001B[39m\u001B[38;5;124mfeat\u001B[39m\u001B[38;5;124m\"\u001B[39m)\n\u001B[1;32m     22\u001B[0m qasm, _ \u001B[38;5;241m=\u001B[39m gsq\u001B[38;5;241m.\u001B[39mcreate_grover_for_model(\u001B[38;5;124mf\u001B[39m\u001B[38;5;124m\"\u001B[39m\u001B[38;5;124m../benchmarks/featureide-examples/\u001B[39m\u001B[38;5;132;01m{\u001B[39;00mfile\u001B[38;5;132;01m}\u001B[39;00m\u001B[38;5;124m.dimacs\u001B[39m\u001B[38;5;124m\"\u001B[39m, k\u001B[38;5;241m=\u001B[39mk)\n\u001B[0;32m---> 23\u001B[0m \u001B[38;5;28;43mprint\u001B[39;49m\u001B[43m(\u001B[49m\u001B[38;5;124;43m\"\u001B[39;49m\u001B[38;5;124;43mqasm\u001B[39;49m\u001B[38;5;124;43m\"\u001B[39;49m\u001B[43m)\u001B[49m\n\u001B[1;32m     24\u001B[0m \u001B[38;5;28;01mtry\u001B[39;00m:\n\u001B[1;32m     25\u001B[0m     circuit, _ \u001B[38;5;241m=\u001B[39m gs\u001B[38;5;241m.\u001B[39mcreate_grover_for_model(\u001B[38;5;124mf\u001B[39m\u001B[38;5;124m\"\u001B[39m\u001B[38;5;124m../benchmarks/featureide-examples/\u001B[39m\u001B[38;5;132;01m{\u001B[39;00mfile\u001B[38;5;132;01m}\u001B[39;00m\u001B[38;5;124m.dimacs\u001B[39m\u001B[38;5;124m\"\u001B[39m, k\u001B[38;5;241m=\u001B[39mk)\n",
      "\u001B[0;31mKeyboardInterrupt\u001B[0m: "
     ]
    }
   ],
   "source": [
    "models = {\n",
    "    \"car\": \"car\",\n",
    "    \"sandwich\": \"sandwich\",\n",
    "    \"bike\": \"bike\",\n",
    "    \"axTLS\": \"axTLS\",\n",
    "    \"uClibc\" : \"uClibc\",\n",
    "    \"busybox\": \"busybox\",\n",
    "    # \"EMBToolkit\": \"EMBToolkit\",\n",
    "}\n",
    "results_width = {k: [] for k in models.keys()}\n",
    "simulate = True\n",
    "shots = 10000\n",
    "k = 1\n",
    "gates = [\"$U_{ksat}$\", \"U$_{oracle}$\", \"$U_{diffuser}$\", \"U$_{Diffuser}$\", \"$U_{clause}$\", \"$U_{and}$\", \"$U_{or}$\"] + [\n",
    "    f\"circuit-{i}_dg\" for i in range(500)]\n",
    "for model, file in models.items():\n",
    "    print(model)\n",
    "    for i in range(1):\n",
    "        print(i)\n",
    "        feature_qasm, _ = gfq.init_feature_circuit(f\"../benchmarks/featureide-examples/{file}.xml\", k=k)\n",
    "        print(\"feat\")\n",
    "        qasm, _ = gsq.create_grover_for_model(f\"../benchmarks/featureide-examples/{file}.dimacs\", k=k)\n",
    "        print(\"qasm\")\n",
    "        try:\n",
    "            circuit, _ = gs.create_grover_for_model(f\"../benchmarks/featureide-examples/{file}.dimacs\", k=k)\n",
    "            print(\"old\")\n",
    "        except:\n",
    "            print(\"failed\")\n",
    "            print(feature_qasm.calculate_depth()[0], qasm.calculate_depth()[0])\n",
    "            results[model].append((feature_qasm.calculate_depth()[0], qasm.calculate_depth()[0], 0))        \n",
    "            continue\n",
    "        result = feature_qasm.width(), qasm.width(), circuit.num_qubits \n",
    "        print(result)\n",
    "        results_width[model].append((result))\n",
    "    print(\"------\")"
   ],
   "metadata": {
    "collapsed": false,
    "ExecuteTime": {
     "end_time": "2023-11-15T17:44:42.010109927Z",
     "start_time": "2023-11-15T17:44:38.649629257Z"
    }
   },
   "id": "9153eb84e04a8e8f"
  },
  {
   "cell_type": "code",
   "execution_count": null,
   "outputs": [],
   "source": [
    "results_width"
   ],
   "metadata": {
    "collapsed": false,
    "ExecuteTime": {
     "end_time": "2023-11-15T17:44:42.010719413Z",
     "start_time": "2023-11-15T17:44:42.010342923Z"
    }
   },
   "id": "5032da4f4a784330"
  },
  {
   "cell_type": "code",
   "execution_count": 64,
   "outputs": [
    {
     "name": "stdout",
     "output_type": "stream",
     "text": [
      "car\n",
      "feat\n",
      "qasm\n",
      "old\n",
      "({'depth': 26, 'width': 21}, {'depth': 32, 'width': 28}, {'depth': 32, 'width': 28})\n",
      "------\n",
      "sandwich\n",
      "feat\n",
      "qasm\n",
      "old\n",
      "({'depth': 26, 'width': 35}, {'depth': 32, 'width': 47}, {'depth': 32, 'width': 47})\n",
      "------\n",
      "bike\n",
      "feat\n",
      "qasm\n",
      "old\n",
      "({'depth': 40, 'width': 92}, {'depth': 76, 'width': 182}, {'depth': 76, 'width': 182})\n",
      "------\n",
      "axTLS\n",
      "feat\n",
      "qasm\n"
     ]
    },
    {
     "name": "stderr",
     "output_type": "stream",
     "text": [
      "/home/marwin/Documents/University/bachelor-thesis/qc-configuration-problem/configproblem/util/cnf.py:323: UserWarning: Clauses Mismatch between dimacs input and generated CNF! dimacs 183 / cnf 177\n",
      "  warnings.warn(f\"Clauses Mismatch between dimacs input and generated CNF! dimacs {dimacs_reader.nClauses} / cnf {nClauses}\")\n"
     ]
    },
    {
     "name": "stdout",
     "output_type": "stream",
     "text": [
      "old\n",
      "({'depth': 204, 'width': 296}, {'depth': 216, 'width': 274}, {'depth': 216, 'width': 274})\n",
      "------\n",
      "uClibc\n",
      "feat\n",
      "qasm\n"
     ]
    },
    {
     "name": "stderr",
     "output_type": "stream",
     "text": [
      "/home/marwin/Documents/University/bachelor-thesis/qc-configuration-problem/configproblem/util/cnf.py:323: UserWarning: Clauses Mismatch between dimacs input and generated CNF! dimacs 1240 / cnf 1239\n",
      "  warnings.warn(f\"Clauses Mismatch between dimacs input and generated CNF! dimacs {dimacs_reader.nClauses} / cnf {nClauses}\")\n"
     ]
    },
    {
     "name": "stdout",
     "output_type": "stream",
     "text": [
      "old\n",
      "({'depth': 606, 'width': 1103}, {'depth': 480, 'width': 1553}, {'depth': 480, 'width': 1553})\n",
      "------\n",
      "busybox\n",
      "feat\n",
      "qasm\n"
     ]
    },
    {
     "name": "stderr",
     "output_type": "stream",
     "text": [
      "/home/marwin/Documents/University/bachelor-thesis/qc-configuration-problem/configproblem/util/cnf.py:323: UserWarning: Clauses Mismatch between dimacs input and generated CNF! dimacs 1163 / cnf 1124\n",
      "  warnings.warn(f\"Clauses Mismatch between dimacs input and generated CNF! dimacs {dimacs_reader.nClauses} / cnf {nClauses}\")\n"
     ]
    },
    {
     "name": "stdout",
     "output_type": "stream",
     "text": [
      "old\n",
      "({'depth': 1342, 'width': 2558}, {'depth': 1004, 'width': 1979}, {'depth': 1004, 'width': 1979})\n",
      "------\n"
     ]
    }
   ],
   "source": [
    "models = {\n",
    "    \"car\": \"car\",\n",
    "    \"sandwich\": \"sandwich\",\n",
    "    \"bike\": \"bike\",\n",
    "    \"axTLS\": \"axTLS\",\n",
    "    \"uClibc\" : \"uClibc\",\n",
    "    \"busybox\": \"busybox\",\n",
    "}\n",
    "results_width = {k: [] for k in models.keys()}\n",
    "simulate = True\n",
    "shots = 10000\n",
    "k = 1\n",
    "gates = [\"$U_{ksat}$\", \"U$_{oracle}$\", \"$U_{diffuser}$\", \"U$_{Diffuser}$\", \"$U_{clause}$\", \"$U_{and}$\", \"$U_{or}$\"] + [\n",
    "    f\"circuit-{i}_dg\" for i in range(500)]\n",
    "for model, file in models.items():\n",
    "    print(model)\n",
    "    try:\n",
    "        print(\"feat\")\n",
    "        feature_qasm, _ = gfq.init_feature_circuit(f\"../benchmarks/featureide-examples/{file}.xml\", k=k)\n",
    "        result_feat = gs.collect_circuit_info(loads(feature_qasm.to_qasm()))\n",
    "    except:\n",
    "        result_feat = -1\n",
    "        print(\"failed\")     \n",
    "        continue\n",
    "    \n",
    "    try:\n",
    "        print(\"qasm\")\n",
    "        qasm, _ = gsq.create_grover_for_model(f\"../benchmarks/featureide-examples/{file}.dimacs\", k=k)\n",
    "        result_qasm = gs.collect_circuit_info(loads(qasm.to_qasm()))\n",
    "    except:\n",
    "        result_qasm = -1\n",
    "        print(\"failed\")     \n",
    "        continue\n",
    "    \n",
    "    try:\n",
    "        print(\"old\")\n",
    "        circuit, _ = gs.create_grover_for_model(f\"../benchmarks/featureide-examples/{file}.dimacs\", k=k)\n",
    "        result_old = gs.collect_circuit_info(circuit)\n",
    "    except:\n",
    "        result_old = -1\n",
    "        print(\"failed\")     \n",
    "        continue\n",
    "    \n",
    "    result = result_feat, result_qasm, result_old\n",
    "    print(result)\n",
    "    results_width[model].append(result)\n",
    "    \n",
    "        \n",
    "    print(\"------\")"
   ],
   "metadata": {
    "collapsed": false,
    "ExecuteTime": {
     "end_time": "2023-11-16T04:41:45.978000222Z",
     "start_time": "2023-11-16T04:27:40.396554267Z"
    }
   },
   "id": "b573d16509f5a9b9"
  },
  {
   "cell_type": "markdown",
   "source": [
    "# Evaluate Circuit Creation Limit"
   ],
   "metadata": {
    "collapsed": false
   },
   "id": "8da379ed13412e28"
  },
  {
   "cell_type": "code",
   "execution_count": 19,
   "outputs": [],
   "source": [
    "def align_qubits(counts: Dict[str, int], from_dic: Dict[str, int], to_dic: Dict[str, int]):\n",
    "        l: Dict[int, int] = {}\n",
    "        for name, index in from_dic.items():\n",
    "            l[index] = to_dic[name]\n",
    "        r: Dict[str, int] = {}\n",
    "        for key in counts.keys():\n",
    "            new = [\"\" for _ in range(len(key))]\n",
    "            for i in range(len(key)):\n",
    "                new[len(key) - 1 - l[i]] = key[len(key) - 1 - i]\n",
    "            r[\"\".join(new)] = counts[key]\n",
    "        return r"
   ],
   "metadata": {
    "collapsed": false,
    "ExecuteTime": {
     "end_time": "2023-11-16T02:59:08.662440426Z",
     "start_time": "2023-11-16T02:59:08.614359384Z"
    }
   },
   "id": "6cac72c35278e74d"
  },
  {
   "cell_type": "code",
   "execution_count": 20,
   "outputs": [
    {
     "name": "stdout",
     "output_type": "stream",
     "text": [
      "sandwich\n"
     ]
    }
   ],
   "source": [
    "models = {\n",
    "    \"sandwich\": \"sandwich-medium\",\n",
    "}\n",
    "results_shots = {}\n",
    "simulate = True\n",
    "shots = 10000\n",
    "k = 2\n",
    "gates = [\"$U_{ksat}$\", \"U$_{oracle}$\", \"$U_{diffuser}$\", \"U$_{Diffuser}$\", \"$U_{clause}$\", \"$U_{and}$\", \"$U_{or}$\"] + [\n",
    "    f\"circuit-{i}_dg\" for i in range(500)]\n",
    "for model, file in models.items():\n",
    "    print(model)\n",
    "    feature_qasm, feature_alignment = gfq.init_feature_circuit(f\"../benchmarks/featureide-examples/{file}.xml\", k=k)\n",
    "    qasm, qasm_alignment = gsq.create_grover_for_model(f\"../benchmarks/featureide-examples/{file}.xml\", k=k)\n",
    "    circuit, old_alignment = gs.create_grover_for_model(f\"../benchmarks/featureide-examples/{file}.xml\", k=k)\n",
    "    \n",
    "    result_feat = gs.collect_circuit_info(loads(feature_qasm.to_qasm()), shots=shots, simulate=simulate)\n",
    "    result_qasm = gs.collect_circuit_info(loads(qasm.to_qasm()), shots=shots, simulate=simulate)\n",
    "    result_qasm[\"counts\"] = align_qubits(result_qasm[\"counts\"], qasm_alignment, feature_alignment)\n",
    "    result_old = gs.collect_circuit_info(circuit, shots=shots, simulate=simulate)\n",
    "    result_old[\"counts\"] = align_qubits(result_old[\"counts\"], old_alignment, feature_alignment)\n",
    "    results_shots[model]= result_feat, result_qasm, result_old"
   ],
   "metadata": {
    "collapsed": false,
    "ExecuteTime": {
     "end_time": "2023-11-16T02:59:10.416592872Z",
     "start_time": "2023-11-16T02:59:09.401179501Z"
    }
   },
   "id": "2064b3ddd7761d54"
  },
  {
   "cell_type": "code",
   "execution_count": 63,
   "outputs": [
    {
     "data": {
      "text/plain": "<Figure size 1000x700 with 1 Axes>",
      "image/png": "[encoded data removed]"
     },
     "metadata": {},
     "output_type": "display_data"
    }
   ],
   "source": [
    "keys = sorted(results_shots[\"sandwich\"][0][\"counts\"].keys())\n",
    "counts_feat = [results_shots[\"sandwich\"][0][\"counts\"][key] for key in keys]\n",
    "counts_qasm = [results_shots[\"sandwich\"][1][\"counts\"][key] for key in keys]\n",
    "counts_old = [results_shots[\"sandwich\"][2][\"counts\"][key] for key in keys]\n",
    "\n",
    "fig, ax = plt.subplots(figsize=(10,7))\n",
    "index = np.arange(len(keys))\n",
    "bar_width = 0.5\n",
    "opacity = 1\n",
    "\n",
    "rects1 = plt.bar(index, counts_feat, bar_width,\n",
    "alpha=opacity,\n",
    "color='b',\n",
    "label='Feature')\n",
    "\n",
    "rects2 = plt.bar(index + bar_width, counts_qasm, bar_width,\n",
    "alpha=opacity,\n",
    "color='g',\n",
    "label='QASM')\n",
    "\n",
    "rects3 = plt.bar(index + 2 * bar_width, counts_old, bar_width,\n",
    "alpha=opacity,\n",
    "color='r',\n",
    "label='Original')\n",
    "\n",
    "ax.set_ylabel(\"Counts\")\n",
    "ax.set_xlabel(\"Configuration\")\n",
    "plt.legend()\n",
    "\n",
    "plt.tight_layout()\n",
    "plt.show()"
   ],
   "metadata": {
    "collapsed": false,
    "ExecuteTime": {
     "end_time": "2023-11-16T03:58:48.083339702Z",
     "start_time": "2023-11-16T03:58:47.809129286Z"
    }
   },
   "id": "3af20d78d9f52e20"
  },
  {
   "cell_type": "code",
   "execution_count": 22,
   "outputs": [
    {
     "data": {
      "text/plain": "<BarContainer object of 128 artists>"
     },
     "execution_count": 22,
     "metadata": {},
     "output_type": "execute_result"
    },
    {
     "data": {
      "text/plain": "<Figure size 640x480 with 1 Axes>",
      "image/png": "[encoded data removed]"
     },
     "metadata": {},
     "output_type": "display_data"
    }
   ],
   "source": [
    "keys = sorted(results_shots[\"sandwich\"][1][\"counts\"].keys())\n",
    "counts = [results_shots[\"sandwich\"][1][\"counts\"][key] for key in keys]\n",
    "plt.bar(keys, counts)"
   ],
   "metadata": {
    "collapsed": false,
    "ExecuteTime": {
     "end_time": "2023-11-16T02:59:12.988255373Z",
     "start_time": "2023-11-16T02:59:12.658306548Z"
    }
   },
   "id": "47d57893b472feb6"
  },
  {
   "cell_type": "code",
   "execution_count": 23,
   "outputs": [
    {
     "data": {
      "text/plain": "<BarContainer object of 128 artists>"
     },
     "execution_count": 23,
     "metadata": {},
     "output_type": "execute_result"
    },
    {
     "data": {
      "text/plain": "<Figure size 640x480 with 1 Axes>",
      "image/png": "[encoded data removed]"
     },
     "metadata": {},
     "output_type": "display_data"
    }
   ],
   "source": [
    "keys = sorted(results_shots[\"sandwich\"][2][\"counts\"].keys())\n",
    "counts = [results_shots[\"sandwich\"][2][\"counts\"][key] for key in keys]\n",
    "plt.bar(keys, counts)"
   ],
   "metadata": {
    "collapsed": false,
    "ExecuteTime": {
     "end_time": "2023-11-16T02:59:14.118940262Z",
     "start_time": "2023-11-16T02:59:13.594940723Z"
    }
   },
   "id": "391944eb379c2686"
  },
  {
   "cell_type": "code",
   "execution_count": null,
   "outputs": [],
   "source": [],
   "metadata": {
    "collapsed": false
   },
   "id": "1913c847e0d96c30"
  }
 ],
 "metadata": {
  "kernelspec": {
   "display_name": "Python 3 (ipykernel)",
   "language": "python",
   "name": "python3"
  },
  "language_info": {
   "codemirror_mode": {
    "name": "ipython",
    "version": 3
   },
   "file_extension": ".py",
   "mimetype": "text/x-python",
   "name": "python",
   "nbconvert_exporter": "python",
   "pygments_lexer": "ipython3",
   "version": "3.11.6"
  }
 },
 "nbformat": 4,
 "nbformat_minor": 5
}
