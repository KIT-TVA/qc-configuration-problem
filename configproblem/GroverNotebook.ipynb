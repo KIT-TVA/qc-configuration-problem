{
 "cells": [
  {
   "cell_type": "markdown",
   "id": "0e4c5a10",
   "metadata": {},
   "source": [
    "# This notebook is for drafting Grovers algorithms using qiskit.\n",
    "In the future, replace the static oracle with our own that implements the configuration problem"
   ]
  },
  {
   "cell_type": "code",
   "execution_count": null,
   "id": "fe05bf0e",
   "metadata": {},
   "outputs": [],
   "source": [
    "# Imports\n",
    "# initialization\n",
    "import matplotlib.pyplot as plt\n",
    "import numpy as np\n",
    "import math\n",
    "\n",
    "# importing Qiskit\n",
    "from qiskit import IBMQ, Aer, transpile, execute\n",
    "from qiskit import QuantumCircuit, ClassicalRegister, QuantumRegister\n",
    "from qiskit.providers.ibmq import least_busy\n",
    "from qiskit.quantum_info.operators import Operator\n",
    "import qiskit.compiler as qispiler\n",
    "\n",
    "# import basic plot tools\n",
    "from qiskit.visualization import plot_histogram"
   ]
  },
  {
   "cell_type": "markdown",
   "id": "2fc318b2",
   "metadata": {},
   "source": [
    "Initialization function for bringing qubits into superposition using Hadamard."
   ]
  },
  {
   "cell_type": "code",
   "execution_count": null,
   "id": "66c5207e",
   "metadata": {},
   "outputs": [],
   "source": [
    "def initialize_s(qc, qubits):\n",
    "    \"\"\"Apply a H-gate to 'qubits' in qc\"\"\"\n",
    "    for q in qubits:\n",
    "        qc.h(q)\n",
    "    return qc"
   ]
  },
  {
   "cell_type": "markdown",
   "id": "543cd271",
   "metadata": {},
   "source": [
    "Next, we create a function to create an oracle quantum circuit given the number of qubits and solution states.\n",
    "\n",
    "An example oracle matrix for eight qubits, marking the last one to be phase flipped (correct answer) looks like the following:\n",
    "```\n",
    "oracle_matrix = [[1, 0, 0, 0, 0, 0, 0, 0],\n",
    "                 [0, 1, 0, 0, 0, 0, 0, 0],\n",
    "                 [0, 0, 1, 0, 0, 0, 0, 0],\n",
    "                 [0, 0, 0, 1, 0, 0, 0, 0],\n",
    "                 [0, 0, 0, 0, 1, 0, 0, 0],\n",
    "                 [0, 0, 0, 0, 0, 1, 0, 0],\n",
    "                 [0, 0, 0, 0, 0, 0, 1, 0],\n",
    "                 [0, 0, 0, 0, 0, 0, 0, -1]]\n",
    "```"
   ]
  },
  {
   "cell_type": "code",
   "execution_count": null,
   "id": "bc08fb3a",
   "metadata": {},
   "outputs": [],
   "source": [
    "def create_oracle(nqubits, solutions):\n",
    "    \"\"\" Create an identity matrix of size nqubits and flip phase of solutions\"\"\"\n",
    "    I = Operator([[1,0],[0,1]])\n",
    "    unitary = I\n",
    "    for i in range(nqubits-1):\n",
    "        unitary = unitary.tensor(I)\n",
    "    \n",
    "    for s in solutions:\n",
    "        index = 0\n",
    "        for i in range(nqubits):\n",
    "            index += (2**i)*s[nqubits-i-1]\n",
    "        unitary.data[index][index] = -1\n",
    "    return unitary "
   ]
  },
  {
   "cell_type": "markdown",
   "id": "7b85dda9",
   "metadata": {},
   "source": [
    "Let's define our quantum circuit size and solutions now:"
   ]
  },
  {
   "cell_type": "code",
   "execution_count": null,
   "id": "00a23b0c",
   "metadata": {},
   "outputs": [],
   "source": [
    "nqubits = 8\n",
    "qc = QuantumCircuit(nqubits)\n",
    "solutions = [[1,0,0,1,1,0,0,1],[1,0,0,1,1,1,0,1]] # Two solutions"
   ]
  },
  {
   "cell_type": "markdown",
   "id": "f533036b",
   "metadata": {},
   "source": [
    "With this input, we can determine the amount of iterations we need to run the oracle-diffuser sequence of Grover."
   ]
  },
  {
   "cell_type": "code",
   "execution_count": null,
   "id": "55b1bdaa",
   "metadata": {},
   "outputs": [],
   "source": [
    "N = 2**nqubits                                  # Search Space Size\n",
    "M = len(solutions)                              # Number of Solutions\n",
    "theta = math.asin(2*math.sqrt(M*(N-M))/N)       # Initial angle between \"good vector\" and \"bad vector\"\n",
    "k = round(math.acos(math.sqrt(M/N))/theta)      # Number of Grover iterations\n",
    "print(f\"Number of iterations: {k}\")"
   ]
  },
  {
   "cell_type": "markdown",
   "id": "33f665bc",
   "metadata": {},
   "source": [
    "We can now create our **Oracle** using the function defined above:"
   ]
  },
  {
   "cell_type": "code",
   "execution_count": null,
   "id": "9f727344",
   "metadata": {},
   "outputs": [],
   "source": [
    "qc.unitary(create_oracle(nqubits,solutions), range(nqubits), label=\"oracle\")\n",
    "oracle_ex3 = qc.to_gate()\n",
    "oracle_ex3.name = \"U$_\\omega$\""
   ]
  },
  {
   "cell_type": "markdown",
   "id": "6301a9c2",
   "metadata": {},
   "source": [
    "Using the qiskit transpiler we can visualize how our oracle looks:"
   ]
  },
  {
   "cell_type": "code",
   "execution_count": null,
   "id": "f5e9ff40",
   "metadata": {},
   "outputs": [],
   "source": [
    "gate_set_nairobi = ['h', 'cx', 'id', 'rz', 'sx', 'x'] # a gate set plus hadamard\n",
    "gate_set_default = ['h', 'u1', 'u2', 'u3', 'cx']      # the default gate set\n",
    "backend = Aer.get_backend('aer_simulator_stabilizer')\n",
    "qcd = qispiler.transpile(qc, basis_gates=gate_set_default, optimization_level=3)\n",
    "# qcd = qispiler.transpile(qc, backend=backend, optimization_level=3)\n",
    "qcd.draw(output=\"mpl\")"
   ]
  },
  {
   "cell_type": "markdown",
   "id": "5dffdef5",
   "metadata": {},
   "source": [
    "Take the predefiend function from qiskit textbooks to create a diffuser circuit:"
   ]
  },
  {
   "cell_type": "code",
   "execution_count": null,
   "id": "575a7471",
   "metadata": {},
   "outputs": [],
   "source": [
    "def diffuser(nqubits):\n",
    "    qc = QuantumCircuit(nqubits)\n",
    "    # Apply transformation |s> -> |00..0> (H-gates)\n",
    "    for qubit in range(nqubits):\n",
    "        qc.h(qubit)\n",
    "    # Apply transformation |00..0> -> |11..1> (X-gates)\n",
    "    for qubit in range(nqubits):\n",
    "        qc.x(qubit)\n",
    "    # Do multi-controlled-Z gate\n",
    "    qc.h(nqubits-1)\n",
    "    qc.mct(list(range(nqubits-1)), nqubits-1)  # multi-controlled-toffoli\n",
    "    qc.h(nqubits-1)\n",
    "    # Apply transformation |11..1> -> |00..0>\n",
    "    for qubit in range(nqubits):\n",
    "        qc.x(qubit)\n",
    "    # Apply transformation |00..0> -> |s>\n",
    "    for qubit in range(nqubits):\n",
    "        qc.h(qubit)\n",
    "    # We will return the diffuser as a gate\n",
    "    U_s = qc.to_gate()\n",
    "    U_s.name = \"U$_{Diffuser}$\"\n",
    "    return U_s"
   ]
  },
  {
   "cell_type": "markdown",
   "id": "00984efe",
   "metadata": {},
   "source": [
    "### Full Grover Circuit\n",
    "Now we can stick all parts together into a single Grover Algorithm"
   ]
  },
  {
   "cell_type": "code",
   "execution_count": null,
   "id": "885e1951",
   "metadata": {
    "scrolled": false
   },
   "outputs": [],
   "source": [
    "grover_circuit = QuantumCircuit(nqubits)\n",
    "grover_circuit = initialize_s(grover_circuit, range(nqubits))\n",
    "\n",
    "# Add the oracle-diffusor step k times\n",
    "for i in range(k):\n",
    "    grover_circuit.append(oracle_ex3, range(nqubits))\n",
    "    grover_circuit.append(diffuser(nqubits), range(nqubits))\n",
    "\n",
    "grover_circuit.measure_all()\n",
    "grover_circuit.draw(output=\"mpl\")"
   ]
  },
  {
   "cell_type": "markdown",
   "id": "568cb5a0",
   "metadata": {},
   "source": [
    "### Simulate the circuit"
   ]
  },
  {
   "cell_type": "code",
   "execution_count": null,
   "id": "dc99fc22",
   "metadata": {},
   "outputs": [],
   "source": [
    "qasm_sim = Aer.get_backend('qasm_simulator')\n",
    "transpiled_grover_circuit = transpile(grover_circuit, qasm_sim)\n",
    "results = qasm_sim.run(transpiled_grover_circuit).result()\n",
    "counts = results.get_counts()\n",
    "histogram = plot_histogram(counts)\n",
    "histogram # For display purposes in jupyter"
   ]
  },
  {
   "cell_type": "code",
   "execution_count": null,
   "id": "054c30e1",
   "metadata": {},
   "outputs": [],
   "source": []
  }
 ],
 "metadata": {
  "kernelspec": {
   "display_name": "Python 3 (ipykernel)",
   "language": "python",
   "name": "python3"
  },
  "language_info": {
   "codemirror_mode": {
    "name": "ipython",
    "version": 3
   },
   "file_extension": ".py",
   "mimetype": "text/x-python",
   "name": "python",
   "nbconvert_exporter": "python",
   "pygments_lexer": "ipython3",
   "version": "3.9.12"
  }
 },
 "nbformat": 4,
 "nbformat_minor": 5
}
